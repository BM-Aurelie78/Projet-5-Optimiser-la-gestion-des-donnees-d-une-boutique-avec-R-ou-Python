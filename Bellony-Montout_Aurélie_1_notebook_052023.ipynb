{
 "cells": [
  {
   "cell_type": "markdown",
   "id": "dead0271",
   "metadata": {},
   "source": [
    "#  Version antérieure à la mise à jour du 10 Mai 2023 </span>"
   ]
  },
  {
   "cell_type": "markdown",
   "id": "3e1b41bb",
   "metadata": {},
   "source": [
    "<div style=\" background-color: RGB(0,200,200);\" >\n",
    "<h1 style=\"margin: auto; padding: 20px 0; color:#fff; text-align: center\">PROJET 5 DATA ANALYST</h1>\n",
    "<h2 style=\"margin: auto; padding: 20px 0; color:#fff; text-align: center\">Optimisez la gestion des données d'une boutique avec R ou Python\n",
    "</h2>\n",
    "</div>"
   ]
  },
  {
   "cell_type": "markdown",
   "id": "9696bcba",
   "metadata": {},
   "source": [
    "<div style=\" background-color: RGB(0,200,200);\" >\n",
    "   \n",
    "<h1 style=\"margin: auto; padding: 20px ; color:#fff;\"> Enjeux : \n",
    "Améliorer la gestion des données d'une boutique en ligne afin d'optimiser le suivi des stocks et de faciliter l'analyse des tendances de ventes en ligne </h1>\n",
    "<h2 style=\"margin: auto; padding: 20px; color:#fff;\"> Etape 1 : Importation des librairies et chargement des fichiers CSV </a>\n",
    "<h3 style=\"margin: auto; padding: 20px; color:#fff;\">1.1 - Importation des librairies</a> \n",
    "<h3 style=\"margin: auto; padding: 20px; color:#fff;\">1.2 - Chargement des fichiers Excel</a>  \n",
    "<h2 style=\"margin: auto; padding: 20px; color:#fff;\"> Etape 2 : Inspection des données </a> \n",
    "<h3 style=\"margin: auto; padding: 20px; color:#fff;\">2.1 - Analyse exploratoire du fichier \"web\"</a> \n",
    "<h3 style=\"margin: auto; padding: 20px; color:#fff;\">2.2 - Analyse exploratoire du fichier \"liaison\"</a> \n",
    "<h3 style=\"margin: auto; padding: 20px; color:#fff;\">2.3 - Analyse exploratoire du fichier \"erp\"</a> \n",
    "<h2 style=\"margin: auto; padding: 20px; color:#fff;\"> Etape 3 : Analyse exploratoire des données </a> \n",
    "<h2 style=\"margin: auto; padding: 20px; color:#fff;\">Plan d'étude:</a>\n",
    "<h3 style=\"margin: auto; padding: 20px; color:#fff;\">3.1 - Rapprocher les deux exports \"web\" et \"erp\"</a> \n",
    "<h3 style=\"margin: auto; padding: 20px; color:#fff;\">3.2 - Calcul du chiffre d'affaire </a>     \n",
    "<h4 style=\"margin: auto; padding: 20px; color:#fff;\">3.2.1 - Calcul du chiffre d'affaire par produit </a>  \n",
    "<h4 style=\"margin: auto; padding: 20px; color:#fff;\">3.2.2 - Calcul du chiffre d'affaire total </a>     \n",
    "<h3 style=\"margin: auto; padding: 20px; color:#fff;\">3.3 - Vérifier les erreurs de saisies dans certains prix des produits </a>\n",
    "<h4 style=\"margin: auto; padding: 20px; color:#fff;\">3.3.1 - Représentation graphique des \"erreurs\" </a>    \n",
    "<h5 style=\"margin: auto; padding: 20px; color:#fff;\">3.3.1.1 - Visualisation des outliers grâce à un boxplot </a>  \n",
    "<h5 style=\"margin: auto; padding: 20px; color:#fff;\">3.3.1.2 - Détection des outliers par calcul (méthode des interquatiles)</a>  \n",
    "<h5 style=\"margin: auto; padding: 20px; color:#fff;\">3.3.1.3 - Visualisation des outliers grâce un histogramme </a>  \n",
    "<h5 style=\"margin: auto; padding: 20px; color:#fff;\">a - Déterminer les tendances centrales de l'ensemble des prix </a>  \n",
    "<h5 style=\"margin: auto; padding: 20px; color:#fff;\">b - Déterminer les dispersions </a>      \n",
    "<h5 style=\"margin: auto; padding: 20px; color:#fff;\">c - Déterminer les mesures de forme </a>        \n",
    "<h4 style=\"margin: auto; padding: 20px; color:#fff;\">3.3.2 - Liste des valeurs aberrantes </a> \n",
    "<h5 style=\"margin: auto; padding: 20px; color:#fff;\">3.3.2.1 - Création d'un sous dataset \"PrixEleve\" qui va répertorié les prix aberrants </a>  \n",
    "<h5 style=\"margin: auto; padding: 20px; color:#fff;\">3.3.2.2 - Liste des \"prix aberrants\" </a> \n",
    "<h5 style=\"margin: auto; padding: 20px; color:#fff;\">3.3.2.3 - Comment gérer les bouteilles les plus chères? Pourquoi doivent-elles être gérées? </a>\n",
    "<h3 style=\"margin: auto; padding: 20px; color:#fff;\">3.4 - Analyses complémentaires: </a>     \n",
    "<h4 style=\"margin: auto; padding: 20px; color:#fff;\">3.4.1 - Les bouteilles invendues </a> \n",
    "<h4 style=\"margin: auto; padding: 20px; color:#fff;\">3.4.2 - Analyses sur l'évolution du chiffre d'affaire en fonction du temps </a> \n",
    "<h4 style=\"margin: auto; padding: 20px; color:#fff;\">3.4.2.1 - Evolution du chiffre d'affaire sur 2 ans (ensemble des prix) </a> \n",
    "<h4 style=\"margin: auto; padding: 20px; color:#fff;\">3.4.2.2 - Chiffre d'affaire par trimestre </a> \n",
    "<h4 style=\"margin: auto; padding: 20px; color:#fff;\">3.4.2.3 - Nombre de vente annuelle  </a> \n",
    "<h4 style=\"margin: auto; padding: 20px; color:#fff;\">3.4.2.4 - Evolution du chiffre d'affaire sur 2 ans pour les bouteilles les  plus chères </a> \n",
    "<h4 style=\"margin: auto; padding: 20px; color:#fff;\">3.4.2.5 - Chiffre d'affaire par trimestre pour les bouteilles les plus chères</a> \n",
    "<h4 style=\"margin: auto; padding: 20px; color:#fff;\">3.4.2.6 - Nombre de vente annuelle pour les bouteilles les plus chères </a>     \n",
    "</div>"
   ]
  },
  {
   "cell_type": "markdown",
   "id": "c99612ff",
   "metadata": {},
   "source": [
    "<div style=\"background-color: RGB(0,200,200);\" >\n",
    "<h2 style=\"margin: auto; padding: 20px; color:#fff; \">Etape 1 - Importation des librairies et chargement des fichiers</h2>\n",
    "</div>"
   ]
  },
  {
   "cell_type": "markdown",
   "id": "ec3716ce",
   "metadata": {},
   "source": [
    "<div style=\"border: 1px solid RGB(0,200,200);\" >\n",
    "<h3 style=\"margin: auto; padding: 20px; color: RGB(0,200,200); \">1.1 - Importation des librairies</h3>\n",
    "</div>"
   ]
  },
  {
   "cell_type": "code",
   "execution_count": 1,
   "id": "a5c7fbab",
   "metadata": {},
   "outputs": [],
   "source": [
    "# Importation des librairies Pandas, Matplotlib et Numpy\n",
    "import pandas as pd\n",
    "import matplotlib.pyplot as plt\n",
    "import plotly.express as px\n",
    "import statsmodels.api as sm\n",
    "import numpy as np\n",
    "import seaborn as sns\n"
   ]
  },
  {
   "cell_type": "markdown",
   "id": "0fb95baa",
   "metadata": {},
   "source": [
    "<div style=\"border: 1px solid RGB(0,200,200);\" >\n",
    "<h3 style=\"margin: auto; padding: 20px; color: RGB(0,200,200); \">1.2 - Chargement des fichiers Excel</h3>\n",
    "</div>"
   ]
  },
  {
   "cell_type": "code",
   "execution_count": 2,
   "id": "4101e3a5",
   "metadata": {},
   "outputs": [
    {
     "name": "stderr",
     "output_type": "stream",
     "text": [
      "C:\\Users\\bello\\anaconda3\\lib\\site-packages\\openpyxl\\worksheet\\_read_only.py:79: UserWarning: Unknown extension is not supported and will be removed\n",
      "  for idx, row in parser.parse():\n"
     ]
    },
    {
     "data": {
      "text/html": [
       "<div>\n",
       "<style scoped>\n",
       "    .dataframe tbody tr th:only-of-type {\n",
       "        vertical-align: middle;\n",
       "    }\n",
       "\n",
       "    .dataframe tbody tr th {\n",
       "        vertical-align: top;\n",
       "    }\n",
       "\n",
       "    .dataframe thead th {\n",
       "        text-align: right;\n",
       "    }\n",
       "</style>\n",
       "<table border=\"1\" class=\"dataframe\">\n",
       "  <thead>\n",
       "    <tr style=\"text-align: right;\">\n",
       "      <th></th>\n",
       "      <th>sku</th>\n",
       "      <th>virtual</th>\n",
       "      <th>downloadable</th>\n",
       "      <th>rating_count</th>\n",
       "      <th>average_rating</th>\n",
       "      <th>total_sales</th>\n",
       "      <th>tax_status</th>\n",
       "      <th>tax_class</th>\n",
       "      <th>post_author</th>\n",
       "      <th>post_date</th>\n",
       "      <th>...</th>\n",
       "      <th>post_name</th>\n",
       "      <th>post_modified</th>\n",
       "      <th>post_modified_gmt</th>\n",
       "      <th>post_content_filtered</th>\n",
       "      <th>post_parent</th>\n",
       "      <th>guid</th>\n",
       "      <th>menu_order</th>\n",
       "      <th>post_type</th>\n",
       "      <th>post_mime_type</th>\n",
       "      <th>comment_count</th>\n",
       "    </tr>\n",
       "  </thead>\n",
       "  <tbody>\n",
       "    <tr>\n",
       "      <th>0</th>\n",
       "      <td>bon-cadeau-25-euros</td>\n",
       "      <td>0</td>\n",
       "      <td>0</td>\n",
       "      <td>0</td>\n",
       "      <td>0.0</td>\n",
       "      <td>10.0</td>\n",
       "      <td>taxable</td>\n",
       "      <td>NaN</td>\n",
       "      <td>1.0</td>\n",
       "      <td>2018-06-01 13:53:46</td>\n",
       "      <td>...</td>\n",
       "      <td>bon-cadeau-de-25-euros</td>\n",
       "      <td>2018-06-01 14:13:57</td>\n",
       "      <td>2018-06-01 12:13:57</td>\n",
       "      <td>NaN</td>\n",
       "      <td>0.0</td>\n",
       "      <td>https://www.bottle-neck.fr/?post_type=product&amp;...</td>\n",
       "      <td>0.0</td>\n",
       "      <td>product</td>\n",
       "      <td>NaN</td>\n",
       "      <td>0.0</td>\n",
       "    </tr>\n",
       "    <tr>\n",
       "      <th>1</th>\n",
       "      <td>15298</td>\n",
       "      <td>0</td>\n",
       "      <td>0</td>\n",
       "      <td>0</td>\n",
       "      <td>0.0</td>\n",
       "      <td>6.0</td>\n",
       "      <td>taxable</td>\n",
       "      <td>NaN</td>\n",
       "      <td>2.0</td>\n",
       "      <td>2018-02-08 12:58:52</td>\n",
       "      <td>...</td>\n",
       "      <td>pierre-jean-villa-saint-joseph-preface-2018</td>\n",
       "      <td>2019-12-30 09:30:29</td>\n",
       "      <td>2019-12-30 08:30:29</td>\n",
       "      <td>NaN</td>\n",
       "      <td>0.0</td>\n",
       "      <td>https://www.bottle-neck.fr/?post_type=product&amp;...</td>\n",
       "      <td>0.0</td>\n",
       "      <td>product</td>\n",
       "      <td>NaN</td>\n",
       "      <td>0.0</td>\n",
       "    </tr>\n",
       "    <tr>\n",
       "      <th>2</th>\n",
       "      <td>15296</td>\n",
       "      <td>0</td>\n",
       "      <td>0</td>\n",
       "      <td>0</td>\n",
       "      <td>0.0</td>\n",
       "      <td>0.0</td>\n",
       "      <td>taxable</td>\n",
       "      <td>NaN</td>\n",
       "      <td>2.0</td>\n",
       "      <td>2018-02-08 13:49:41</td>\n",
       "      <td>...</td>\n",
       "      <td>pierre-jean-villa-saint-joseph-tilde-2017</td>\n",
       "      <td>2019-12-21 09:00:17</td>\n",
       "      <td>2019-12-21 08:00:17</td>\n",
       "      <td>NaN</td>\n",
       "      <td>0.0</td>\n",
       "      <td>https://www.bottle-neck.fr/?post_type=product&amp;...</td>\n",
       "      <td>0.0</td>\n",
       "      <td>product</td>\n",
       "      <td>NaN</td>\n",
       "      <td>0.0</td>\n",
       "    </tr>\n",
       "    <tr>\n",
       "      <th>3</th>\n",
       "      <td>15300</td>\n",
       "      <td>0</td>\n",
       "      <td>0</td>\n",
       "      <td>0</td>\n",
       "      <td>0.0</td>\n",
       "      <td>0.0</td>\n",
       "      <td>taxable</td>\n",
       "      <td>NaN</td>\n",
       "      <td>2.0</td>\n",
       "      <td>2018-02-08 14:08:36</td>\n",
       "      <td>...</td>\n",
       "      <td>pierre-jean-villa-croze-hermitage-accroche-coe...</td>\n",
       "      <td>2020-06-26 18:15:03</td>\n",
       "      <td>2020-06-26 16:15:03</td>\n",
       "      <td>NaN</td>\n",
       "      <td>0.0</td>\n",
       "      <td>https://www.bottle-neck.fr/?post_type=product&amp;...</td>\n",
       "      <td>0.0</td>\n",
       "      <td>product</td>\n",
       "      <td>NaN</td>\n",
       "      <td>0.0</td>\n",
       "    </tr>\n",
       "    <tr>\n",
       "      <th>4</th>\n",
       "      <td>19814</td>\n",
       "      <td>0</td>\n",
       "      <td>0</td>\n",
       "      <td>0</td>\n",
       "      <td>0.0</td>\n",
       "      <td>3.0</td>\n",
       "      <td>taxable</td>\n",
       "      <td>NaN</td>\n",
       "      <td>2.0</td>\n",
       "      <td>2018-02-09 14:01:05</td>\n",
       "      <td>...</td>\n",
       "      <td>pierre-jean-villa-igp-gamine-2018</td>\n",
       "      <td>2020-01-04 16:36:01</td>\n",
       "      <td>2020-01-04 15:36:01</td>\n",
       "      <td>NaN</td>\n",
       "      <td>0.0</td>\n",
       "      <td>https://www.bottle-neck.fr/?post_type=product&amp;...</td>\n",
       "      <td>0.0</td>\n",
       "      <td>product</td>\n",
       "      <td>NaN</td>\n",
       "      <td>0.0</td>\n",
       "    </tr>\n",
       "  </tbody>\n",
       "</table>\n",
       "<p>5 rows × 28 columns</p>\n",
       "</div>"
      ],
      "text/plain": [
       "                   sku  virtual  downloadable  rating_count  average_rating  \\\n",
       "0  bon-cadeau-25-euros        0             0             0             0.0   \n",
       "1                15298        0             0             0             0.0   \n",
       "2                15296        0             0             0             0.0   \n",
       "3                15300        0             0             0             0.0   \n",
       "4                19814        0             0             0             0.0   \n",
       "\n",
       "   total_sales tax_status  tax_class  post_author           post_date  ...  \\\n",
       "0         10.0    taxable        NaN          1.0 2018-06-01 13:53:46  ...   \n",
       "1          6.0    taxable        NaN          2.0 2018-02-08 12:58:52  ...   \n",
       "2          0.0    taxable        NaN          2.0 2018-02-08 13:49:41  ...   \n",
       "3          0.0    taxable        NaN          2.0 2018-02-08 14:08:36  ...   \n",
       "4          3.0    taxable        NaN          2.0 2018-02-09 14:01:05  ...   \n",
       "\n",
       "                                           post_name       post_modified  \\\n",
       "0                             bon-cadeau-de-25-euros 2018-06-01 14:13:57   \n",
       "1        pierre-jean-villa-saint-joseph-preface-2018 2019-12-30 09:30:29   \n",
       "2          pierre-jean-villa-saint-joseph-tilde-2017 2019-12-21 09:00:17   \n",
       "3  pierre-jean-villa-croze-hermitage-accroche-coe... 2020-06-26 18:15:03   \n",
       "4                  pierre-jean-villa-igp-gamine-2018 2020-01-04 16:36:01   \n",
       "\n",
       "    post_modified_gmt post_content_filtered post_parent  \\\n",
       "0 2018-06-01 12:13:57                   NaN         0.0   \n",
       "1 2019-12-30 08:30:29                   NaN         0.0   \n",
       "2 2019-12-21 08:00:17                   NaN         0.0   \n",
       "3 2020-06-26 16:15:03                   NaN         0.0   \n",
       "4 2020-01-04 15:36:01                   NaN         0.0   \n",
       "\n",
       "                                                guid menu_order  post_type  \\\n",
       "0  https://www.bottle-neck.fr/?post_type=product&...        0.0    product   \n",
       "1  https://www.bottle-neck.fr/?post_type=product&...        0.0    product   \n",
       "2  https://www.bottle-neck.fr/?post_type=product&...        0.0    product   \n",
       "3  https://www.bottle-neck.fr/?post_type=product&...        0.0    product   \n",
       "4  https://www.bottle-neck.fr/?post_type=product&...        0.0    product   \n",
       "\n",
       "  post_mime_type comment_count  \n",
       "0            NaN           0.0  \n",
       "1            NaN           0.0  \n",
       "2            NaN           0.0  \n",
       "3            NaN           0.0  \n",
       "4            NaN           0.0  \n",
       "\n",
       "[5 rows x 28 columns]"
      ]
     },
     "execution_count": 2,
     "metadata": {},
     "output_type": "execute_result"
    }
   ],
   "source": [
    "# Importation du fichier web.xlsx\n",
    "web = pd.read_excel('web.xlsx')\n",
    "web.head(5)"
   ]
  },
  {
   "cell_type": "code",
   "execution_count": 3,
   "id": "87bab87e",
   "metadata": {},
   "outputs": [
    {
     "name": "stderr",
     "output_type": "stream",
     "text": [
      "C:\\Users\\bello\\anaconda3\\lib\\site-packages\\openpyxl\\worksheet\\_read_only.py:79: UserWarning: Unknown extension is not supported and will be removed\n",
      "  for idx, row in parser.parse():\n"
     ]
    },
    {
     "data": {
      "text/html": [
       "<div>\n",
       "<style scoped>\n",
       "    .dataframe tbody tr th:only-of-type {\n",
       "        vertical-align: middle;\n",
       "    }\n",
       "\n",
       "    .dataframe tbody tr th {\n",
       "        vertical-align: top;\n",
       "    }\n",
       "\n",
       "    .dataframe thead th {\n",
       "        text-align: right;\n",
       "    }\n",
       "</style>\n",
       "<table border=\"1\" class=\"dataframe\">\n",
       "  <thead>\n",
       "    <tr style=\"text-align: right;\">\n",
       "      <th></th>\n",
       "      <th>product_id</th>\n",
       "      <th>id_web</th>\n",
       "    </tr>\n",
       "  </thead>\n",
       "  <tbody>\n",
       "    <tr>\n",
       "      <th>0</th>\n",
       "      <td>3847</td>\n",
       "      <td>15298</td>\n",
       "    </tr>\n",
       "    <tr>\n",
       "      <th>1</th>\n",
       "      <td>3849</td>\n",
       "      <td>15296</td>\n",
       "    </tr>\n",
       "    <tr>\n",
       "      <th>2</th>\n",
       "      <td>3850</td>\n",
       "      <td>15300</td>\n",
       "    </tr>\n",
       "    <tr>\n",
       "      <th>3</th>\n",
       "      <td>4032</td>\n",
       "      <td>19814</td>\n",
       "    </tr>\n",
       "    <tr>\n",
       "      <th>4</th>\n",
       "      <td>4039</td>\n",
       "      <td>19815</td>\n",
       "    </tr>\n",
       "  </tbody>\n",
       "</table>\n",
       "</div>"
      ],
      "text/plain": [
       "   product_id id_web\n",
       "0        3847  15298\n",
       "1        3849  15296\n",
       "2        3850  15300\n",
       "3        4032  19814\n",
       "4        4039  19815"
      ]
     },
     "execution_count": 3,
     "metadata": {},
     "output_type": "execute_result"
    }
   ],
   "source": [
    "# Importation du fichier liaison.xlsx\n",
    "liaison = pd.read_excel('liaison.xlsx')\n",
    "liaison.head(5)"
   ]
  },
  {
   "cell_type": "code",
   "execution_count": 4,
   "id": "7a12b829",
   "metadata": {},
   "outputs": [
    {
     "name": "stderr",
     "output_type": "stream",
     "text": [
      "C:\\Users\\bello\\anaconda3\\lib\\site-packages\\openpyxl\\worksheet\\_read_only.py:79: UserWarning: Unknown extension is not supported and will be removed\n",
      "  for idx, row in parser.parse():\n"
     ]
    },
    {
     "data": {
      "text/html": [
       "<div>\n",
       "<style scoped>\n",
       "    .dataframe tbody tr th:only-of-type {\n",
       "        vertical-align: middle;\n",
       "    }\n",
       "\n",
       "    .dataframe tbody tr th {\n",
       "        vertical-align: top;\n",
       "    }\n",
       "\n",
       "    .dataframe thead th {\n",
       "        text-align: right;\n",
       "    }\n",
       "</style>\n",
       "<table border=\"1\" class=\"dataframe\">\n",
       "  <thead>\n",
       "    <tr style=\"text-align: right;\">\n",
       "      <th></th>\n",
       "      <th>product_id</th>\n",
       "      <th>onsale_web</th>\n",
       "      <th>price</th>\n",
       "      <th>stock_quantity</th>\n",
       "      <th>stock_status</th>\n",
       "    </tr>\n",
       "  </thead>\n",
       "  <tbody>\n",
       "    <tr>\n",
       "      <th>0</th>\n",
       "      <td>3847</td>\n",
       "      <td>1</td>\n",
       "      <td>24.2</td>\n",
       "      <td>0</td>\n",
       "      <td>outofstock</td>\n",
       "    </tr>\n",
       "    <tr>\n",
       "      <th>1</th>\n",
       "      <td>3849</td>\n",
       "      <td>1</td>\n",
       "      <td>34.3</td>\n",
       "      <td>0</td>\n",
       "      <td>outofstock</td>\n",
       "    </tr>\n",
       "    <tr>\n",
       "      <th>2</th>\n",
       "      <td>3850</td>\n",
       "      <td>1</td>\n",
       "      <td>20.8</td>\n",
       "      <td>0</td>\n",
       "      <td>outofstock</td>\n",
       "    </tr>\n",
       "    <tr>\n",
       "      <th>3</th>\n",
       "      <td>4032</td>\n",
       "      <td>1</td>\n",
       "      <td>14.1</td>\n",
       "      <td>0</td>\n",
       "      <td>outofstock</td>\n",
       "    </tr>\n",
       "    <tr>\n",
       "      <th>4</th>\n",
       "      <td>4039</td>\n",
       "      <td>1</td>\n",
       "      <td>46.0</td>\n",
       "      <td>0</td>\n",
       "      <td>outofstock</td>\n",
       "    </tr>\n",
       "  </tbody>\n",
       "</table>\n",
       "</div>"
      ],
      "text/plain": [
       "   product_id  onsale_web  price  stock_quantity stock_status\n",
       "0        3847           1   24.2               0   outofstock\n",
       "1        3849           1   34.3               0   outofstock\n",
       "2        3850           1   20.8               0   outofstock\n",
       "3        4032           1   14.1               0   outofstock\n",
       "4        4039           1   46.0               0   outofstock"
      ]
     },
     "execution_count": 4,
     "metadata": {},
     "output_type": "execute_result"
    }
   ],
   "source": [
    "# Importation du fichier erp.xlsx\n",
    "erp = pd.read_excel('erp.xlsx')\n",
    "erp.head(5)"
   ]
  },
  {
   "cell_type": "markdown",
   "id": "a96f970e",
   "metadata": {},
   "source": [
    "<div style=\"background-color: RGB(0,200,200);\" >\n",
    "<h2 style=\"margin: auto; padding: 20px; color:#fff; \">Etape 2 - Analyse exploratoire des fichiers</h2>\n",
    "</div>"
   ]
  },
  {
   "cell_type": "markdown",
   "id": "3df2f1cb",
   "metadata": {},
   "source": [
    "<div style=\"border: 1px solid RGB(0,200,200);\" >\n",
    "<h3 style=\"margin: auto; padding: 20px; color: RGB(0,200,200); \">2.1 - Analyse exploratoire du fichier \"web\"</h3>\n",
    "</div>"
   ]
  },
  {
   "cell_type": "code",
   "execution_count": 5,
   "id": "6646cb54",
   "metadata": {},
   "outputs": [
    {
     "name": "stdout",
     "output_type": "stream",
     "text": [
      "Le tableau comporte 1513 observation(s) ou article(s)\n",
      "Le tableau comporte 28 colonne(s)\n"
     ]
    }
   ],
   "source": [
    "#Afficher les dimensions du dataset\n",
    "print(\"Le tableau comporte {} observation(s) ou article(s)\".format(web.shape[0]))\n",
    "print(\"Le tableau comporte {} colonne(s)\".format(web.shape[1]))"
   ]
  },
  {
   "cell_type": "code",
   "execution_count": 6,
   "id": "b34257d9",
   "metadata": {},
   "outputs": [
    {
     "name": "stdout",
     "output_type": "stream",
     "text": [
      "<class 'pandas.core.frame.DataFrame'>\n",
      "RangeIndex: 1513 entries, 0 to 1512\n",
      "Data columns (total 28 columns):\n",
      " #   Column                 Non-Null Count  Dtype         \n",
      "---  ------                 --------------  -----         \n",
      " 0   sku                    1428 non-null   object        \n",
      " 1   virtual                1513 non-null   int64         \n",
      " 2   downloadable           1513 non-null   int64         \n",
      " 3   rating_count           1513 non-null   int64         \n",
      " 4   average_rating         1430 non-null   float64       \n",
      " 5   total_sales            1430 non-null   float64       \n",
      " 6   tax_status             716 non-null    object        \n",
      " 7   tax_class              0 non-null      float64       \n",
      " 8   post_author            1430 non-null   float64       \n",
      " 9   post_date              1430 non-null   datetime64[ns]\n",
      " 10  post_date_gmt          1430 non-null   datetime64[ns]\n",
      " 11  post_content           0 non-null      float64       \n",
      " 12  post_title             1430 non-null   object        \n",
      " 13  post_excerpt           716 non-null    object        \n",
      " 14  post_status            1430 non-null   object        \n",
      " 15  comment_status         1430 non-null   object        \n",
      " 16  ping_status            1430 non-null   object        \n",
      " 17  post_password          0 non-null      float64       \n",
      " 18  post_name              1430 non-null   object        \n",
      " 19  post_modified          1430 non-null   datetime64[ns]\n",
      " 20  post_modified_gmt      1430 non-null   datetime64[ns]\n",
      " 21  post_content_filtered  0 non-null      float64       \n",
      " 22  post_parent            1430 non-null   float64       \n",
      " 23  guid                   1430 non-null   object        \n",
      " 24  menu_order             1430 non-null   float64       \n",
      " 25  post_type              1430 non-null   object        \n",
      " 26  post_mime_type         714 non-null    object        \n",
      " 27  comment_count          1430 non-null   float64       \n",
      "dtypes: datetime64[ns](4), float64(10), int64(3), object(11)\n",
      "memory usage: 331.1+ KB\n"
     ]
    }
   ],
   "source": [
    "#Consulter le nombre de colonnes\n",
    "#La nature des données dans chacune des colonnes\n",
    "#Le nombre de valeurs non-nulles présentes dans chacune des colonnes\n",
    "web.info()"
   ]
  },
  {
   "cell_type": "code",
   "execution_count": 7,
   "id": "aa3158c0",
   "metadata": {},
   "outputs": [
    {
     "data": {
      "text/plain": [
       "array([nan, 'image/jpeg'], dtype=object)"
      ]
     },
     "execution_count": 7,
     "metadata": {},
     "output_type": "execute_result"
    }
   ],
   "source": [
    "web[\"post_mime_type\"].unique()"
   ]
  },
  {
   "cell_type": "code",
   "execution_count": 8,
   "id": "e39ab9ff",
   "metadata": {},
   "outputs": [
    {
     "data": {
      "text/plain": [
       "array([0], dtype=int64)"
      ]
     },
     "execution_count": 8,
     "metadata": {},
     "output_type": "execute_result"
    }
   ],
   "source": [
    "web[\"virtual\"].unique()"
   ]
  },
  {
   "cell_type": "code",
   "execution_count": 9,
   "id": "483cd430",
   "metadata": {},
   "outputs": [
    {
     "data": {
      "text/plain": [
       "array([0], dtype=int64)"
      ]
     },
     "execution_count": 9,
     "metadata": {},
     "output_type": "execute_result"
    }
   ],
   "source": [
    "web[\"downloadable\"].unique()"
   ]
  },
  {
   "cell_type": "code",
   "execution_count": 10,
   "id": "dde3fad3",
   "metadata": {},
   "outputs": [
    {
     "data": {
      "text/plain": [
       "array([0], dtype=int64)"
      ]
     },
     "execution_count": 10,
     "metadata": {},
     "output_type": "execute_result"
    }
   ],
   "source": [
    "web[\"rating_count\"].unique()"
   ]
  },
  {
   "cell_type": "code",
   "execution_count": 11,
   "id": "9c92b804",
   "metadata": {},
   "outputs": [
    {
     "data": {
      "text/plain": [
       "array([ 0., nan])"
      ]
     },
     "execution_count": 11,
     "metadata": {},
     "output_type": "execute_result"
    }
   ],
   "source": [
    "web[\"average_rating\"].unique()"
   ]
  },
  {
   "cell_type": "code",
   "execution_count": 12,
   "id": "b0063a5b",
   "metadata": {},
   "outputs": [
    {
     "data": {
      "text/html": [
       "<div>\n",
       "<style scoped>\n",
       "    .dataframe tbody tr th:only-of-type {\n",
       "        vertical-align: middle;\n",
       "    }\n",
       "\n",
       "    .dataframe tbody tr th {\n",
       "        vertical-align: top;\n",
       "    }\n",
       "\n",
       "    .dataframe thead th {\n",
       "        text-align: right;\n",
       "    }\n",
       "</style>\n",
       "<table border=\"1\" class=\"dataframe\">\n",
       "  <thead>\n",
       "    <tr style=\"text-align: right;\">\n",
       "      <th></th>\n",
       "      <th>sku</th>\n",
       "      <th>virtual</th>\n",
       "      <th>downloadable</th>\n",
       "      <th>rating_count</th>\n",
       "      <th>average_rating</th>\n",
       "      <th>total_sales</th>\n",
       "      <th>tax_status</th>\n",
       "      <th>post_author</th>\n",
       "      <th>post_date</th>\n",
       "      <th>post_date_gmt</th>\n",
       "      <th>...</th>\n",
       "      <th>ping_status</th>\n",
       "      <th>post_name</th>\n",
       "      <th>post_modified</th>\n",
       "      <th>post_modified_gmt</th>\n",
       "      <th>post_parent</th>\n",
       "      <th>guid</th>\n",
       "      <th>menu_order</th>\n",
       "      <th>post_type</th>\n",
       "      <th>post_mime_type</th>\n",
       "      <th>comment_count</th>\n",
       "    </tr>\n",
       "  </thead>\n",
       "  <tbody>\n",
       "    <tr>\n",
       "      <th>0</th>\n",
       "      <td>bon-cadeau-25-euros</td>\n",
       "      <td>0</td>\n",
       "      <td>0</td>\n",
       "      <td>0</td>\n",
       "      <td>0.0</td>\n",
       "      <td>10.0</td>\n",
       "      <td>taxable</td>\n",
       "      <td>1.0</td>\n",
       "      <td>2018-06-01 13:53:46</td>\n",
       "      <td>2018-06-01 11:53:46</td>\n",
       "      <td>...</td>\n",
       "      <td>closed</td>\n",
       "      <td>bon-cadeau-de-25-euros</td>\n",
       "      <td>2018-06-01 14:13:57</td>\n",
       "      <td>2018-06-01 12:13:57</td>\n",
       "      <td>0.0</td>\n",
       "      <td>https://www.bottle-neck.fr/?post_type=product&amp;...</td>\n",
       "      <td>0.0</td>\n",
       "      <td>product</td>\n",
       "      <td>NaN</td>\n",
       "      <td>0.0</td>\n",
       "    </tr>\n",
       "    <tr>\n",
       "      <th>1</th>\n",
       "      <td>15298</td>\n",
       "      <td>0</td>\n",
       "      <td>0</td>\n",
       "      <td>0</td>\n",
       "      <td>0.0</td>\n",
       "      <td>6.0</td>\n",
       "      <td>taxable</td>\n",
       "      <td>2.0</td>\n",
       "      <td>2018-02-08 12:58:52</td>\n",
       "      <td>2018-02-08 11:58:52</td>\n",
       "      <td>...</td>\n",
       "      <td>closed</td>\n",
       "      <td>pierre-jean-villa-saint-joseph-preface-2018</td>\n",
       "      <td>2019-12-30 09:30:29</td>\n",
       "      <td>2019-12-30 08:30:29</td>\n",
       "      <td>0.0</td>\n",
       "      <td>https://www.bottle-neck.fr/?post_type=product&amp;...</td>\n",
       "      <td>0.0</td>\n",
       "      <td>product</td>\n",
       "      <td>NaN</td>\n",
       "      <td>0.0</td>\n",
       "    </tr>\n",
       "    <tr>\n",
       "      <th>2</th>\n",
       "      <td>15296</td>\n",
       "      <td>0</td>\n",
       "      <td>0</td>\n",
       "      <td>0</td>\n",
       "      <td>0.0</td>\n",
       "      <td>0.0</td>\n",
       "      <td>taxable</td>\n",
       "      <td>2.0</td>\n",
       "      <td>2018-02-08 13:49:41</td>\n",
       "      <td>2018-02-08 12:49:41</td>\n",
       "      <td>...</td>\n",
       "      <td>closed</td>\n",
       "      <td>pierre-jean-villa-saint-joseph-tilde-2017</td>\n",
       "      <td>2019-12-21 09:00:17</td>\n",
       "      <td>2019-12-21 08:00:17</td>\n",
       "      <td>0.0</td>\n",
       "      <td>https://www.bottle-neck.fr/?post_type=product&amp;...</td>\n",
       "      <td>0.0</td>\n",
       "      <td>product</td>\n",
       "      <td>NaN</td>\n",
       "      <td>0.0</td>\n",
       "    </tr>\n",
       "    <tr>\n",
       "      <th>3</th>\n",
       "      <td>15300</td>\n",
       "      <td>0</td>\n",
       "      <td>0</td>\n",
       "      <td>0</td>\n",
       "      <td>0.0</td>\n",
       "      <td>0.0</td>\n",
       "      <td>taxable</td>\n",
       "      <td>2.0</td>\n",
       "      <td>2018-02-08 14:08:36</td>\n",
       "      <td>2018-02-08 13:08:36</td>\n",
       "      <td>...</td>\n",
       "      <td>closed</td>\n",
       "      <td>pierre-jean-villa-croze-hermitage-accroche-coe...</td>\n",
       "      <td>2020-06-26 18:15:03</td>\n",
       "      <td>2020-06-26 16:15:03</td>\n",
       "      <td>0.0</td>\n",
       "      <td>https://www.bottle-neck.fr/?post_type=product&amp;...</td>\n",
       "      <td>0.0</td>\n",
       "      <td>product</td>\n",
       "      <td>NaN</td>\n",
       "      <td>0.0</td>\n",
       "    </tr>\n",
       "    <tr>\n",
       "      <th>4</th>\n",
       "      <td>19814</td>\n",
       "      <td>0</td>\n",
       "      <td>0</td>\n",
       "      <td>0</td>\n",
       "      <td>0.0</td>\n",
       "      <td>3.0</td>\n",
       "      <td>taxable</td>\n",
       "      <td>2.0</td>\n",
       "      <td>2018-02-09 14:01:05</td>\n",
       "      <td>2018-02-09 13:01:05</td>\n",
       "      <td>...</td>\n",
       "      <td>closed</td>\n",
       "      <td>pierre-jean-villa-igp-gamine-2018</td>\n",
       "      <td>2020-01-04 16:36:01</td>\n",
       "      <td>2020-01-04 15:36:01</td>\n",
       "      <td>0.0</td>\n",
       "      <td>https://www.bottle-neck.fr/?post_type=product&amp;...</td>\n",
       "      <td>0.0</td>\n",
       "      <td>product</td>\n",
       "      <td>NaN</td>\n",
       "      <td>0.0</td>\n",
       "    </tr>\n",
       "  </tbody>\n",
       "</table>\n",
       "<p>5 rows × 24 columns</p>\n",
       "</div>"
      ],
      "text/plain": [
       "                   sku  virtual  downloadable  rating_count  average_rating  \\\n",
       "0  bon-cadeau-25-euros        0             0             0             0.0   \n",
       "1                15298        0             0             0             0.0   \n",
       "2                15296        0             0             0             0.0   \n",
       "3                15300        0             0             0             0.0   \n",
       "4                19814        0             0             0             0.0   \n",
       "\n",
       "   total_sales tax_status  post_author           post_date  \\\n",
       "0         10.0    taxable          1.0 2018-06-01 13:53:46   \n",
       "1          6.0    taxable          2.0 2018-02-08 12:58:52   \n",
       "2          0.0    taxable          2.0 2018-02-08 13:49:41   \n",
       "3          0.0    taxable          2.0 2018-02-08 14:08:36   \n",
       "4          3.0    taxable          2.0 2018-02-09 14:01:05   \n",
       "\n",
       "        post_date_gmt  ... ping_status  \\\n",
       "0 2018-06-01 11:53:46  ...      closed   \n",
       "1 2018-02-08 11:58:52  ...      closed   \n",
       "2 2018-02-08 12:49:41  ...      closed   \n",
       "3 2018-02-08 13:08:36  ...      closed   \n",
       "4 2018-02-09 13:01:05  ...      closed   \n",
       "\n",
       "                                           post_name       post_modified  \\\n",
       "0                             bon-cadeau-de-25-euros 2018-06-01 14:13:57   \n",
       "1        pierre-jean-villa-saint-joseph-preface-2018 2019-12-30 09:30:29   \n",
       "2          pierre-jean-villa-saint-joseph-tilde-2017 2019-12-21 09:00:17   \n",
       "3  pierre-jean-villa-croze-hermitage-accroche-coe... 2020-06-26 18:15:03   \n",
       "4                  pierre-jean-villa-igp-gamine-2018 2020-01-04 16:36:01   \n",
       "\n",
       "    post_modified_gmt post_parent  \\\n",
       "0 2018-06-01 12:13:57         0.0   \n",
       "1 2019-12-30 08:30:29         0.0   \n",
       "2 2019-12-21 08:00:17         0.0   \n",
       "3 2020-06-26 16:15:03         0.0   \n",
       "4 2020-01-04 15:36:01         0.0   \n",
       "\n",
       "                                                guid menu_order post_type  \\\n",
       "0  https://www.bottle-neck.fr/?post_type=product&...        0.0   product   \n",
       "1  https://www.bottle-neck.fr/?post_type=product&...        0.0   product   \n",
       "2  https://www.bottle-neck.fr/?post_type=product&...        0.0   product   \n",
       "3  https://www.bottle-neck.fr/?post_type=product&...        0.0   product   \n",
       "4  https://www.bottle-neck.fr/?post_type=product&...        0.0   product   \n",
       "\n",
       "   post_mime_type comment_count  \n",
       "0             NaN           0.0  \n",
       "1             NaN           0.0  \n",
       "2             NaN           0.0  \n",
       "3             NaN           0.0  \n",
       "4             NaN           0.0  \n",
       "\n",
       "[5 rows x 24 columns]"
      ]
     },
     "execution_count": 12,
     "metadata": {},
     "output_type": "execute_result"
    }
   ],
   "source": [
    "#Suppression des colonnes tax_class\", \"post_content\", \"post_password\" et \"post_content_password\". Ces colonnes n'ont que des valeurs manquantes\n",
    "web=web.drop(columns=[\"tax_class\", \"post_content\", \"post_password\" , \"post_content_filtered\"])\n",
    "web.head()"
   ]
  },
  {
   "cell_type": "code",
   "execution_count": 13,
   "id": "ac0ba408",
   "metadata": {},
   "outputs": [
    {
     "data": {
      "text/plain": [
       "(1513, 24)"
      ]
     },
     "execution_count": 13,
     "metadata": {},
     "output_type": "execute_result"
    }
   ],
   "source": [
    "#Vérifier que sur les 28 colonnes, 4 ont été supprimées\n",
    "web.shape"
   ]
  },
  {
   "cell_type": "code",
   "execution_count": 14,
   "id": "83f0c248",
   "metadata": {},
   "outputs": [
    {
     "data": {
      "text/html": [
       "<div>\n",
       "<style scoped>\n",
       "    .dataframe tbody tr th:only-of-type {\n",
       "        vertical-align: middle;\n",
       "    }\n",
       "\n",
       "    .dataframe tbody tr th {\n",
       "        vertical-align: top;\n",
       "    }\n",
       "\n",
       "    .dataframe thead th {\n",
       "        text-align: right;\n",
       "    }\n",
       "</style>\n",
       "<table border=\"1\" class=\"dataframe\">\n",
       "  <thead>\n",
       "    <tr style=\"text-align: right;\">\n",
       "      <th></th>\n",
       "      <th>sku</th>\n",
       "      <th>virtual</th>\n",
       "      <th>downloadable</th>\n",
       "      <th>rating_count</th>\n",
       "      <th>average_rating</th>\n",
       "      <th>total_sales</th>\n",
       "      <th>tax_status</th>\n",
       "      <th>post_author</th>\n",
       "      <th>post_date</th>\n",
       "      <th>post_date_gmt</th>\n",
       "      <th>...</th>\n",
       "      <th>ping_status</th>\n",
       "      <th>post_name</th>\n",
       "      <th>post_modified</th>\n",
       "      <th>post_modified_gmt</th>\n",
       "      <th>post_parent</th>\n",
       "      <th>guid</th>\n",
       "      <th>menu_order</th>\n",
       "      <th>post_type</th>\n",
       "      <th>post_mime_type</th>\n",
       "      <th>comment_count</th>\n",
       "    </tr>\n",
       "  </thead>\n",
       "  <tbody>\n",
       "    <tr>\n",
       "      <th>0</th>\n",
       "      <td>bon-cadeau-25-euros</td>\n",
       "      <td>0</td>\n",
       "      <td>0</td>\n",
       "      <td>0</td>\n",
       "      <td>0.0</td>\n",
       "      <td>10.0</td>\n",
       "      <td>taxable</td>\n",
       "      <td>1.0</td>\n",
       "      <td>2018-06-01 13:53:46</td>\n",
       "      <td>2018-06-01 11:53:46</td>\n",
       "      <td>...</td>\n",
       "      <td>closed</td>\n",
       "      <td>bon-cadeau-de-25-euros</td>\n",
       "      <td>2018-06-01 14:13:57</td>\n",
       "      <td>2018-06-01 12:13:57</td>\n",
       "      <td>0.0</td>\n",
       "      <td>https://www.bottle-neck.fr/?post_type=product&amp;...</td>\n",
       "      <td>0.0</td>\n",
       "      <td>product</td>\n",
       "      <td>0</td>\n",
       "      <td>0.0</td>\n",
       "    </tr>\n",
       "    <tr>\n",
       "      <th>1</th>\n",
       "      <td>15298</td>\n",
       "      <td>0</td>\n",
       "      <td>0</td>\n",
       "      <td>0</td>\n",
       "      <td>0.0</td>\n",
       "      <td>6.0</td>\n",
       "      <td>taxable</td>\n",
       "      <td>2.0</td>\n",
       "      <td>2018-02-08 12:58:52</td>\n",
       "      <td>2018-02-08 11:58:52</td>\n",
       "      <td>...</td>\n",
       "      <td>closed</td>\n",
       "      <td>pierre-jean-villa-saint-joseph-preface-2018</td>\n",
       "      <td>2019-12-30 09:30:29</td>\n",
       "      <td>2019-12-30 08:30:29</td>\n",
       "      <td>0.0</td>\n",
       "      <td>https://www.bottle-neck.fr/?post_type=product&amp;...</td>\n",
       "      <td>0.0</td>\n",
       "      <td>product</td>\n",
       "      <td>0</td>\n",
       "      <td>0.0</td>\n",
       "    </tr>\n",
       "    <tr>\n",
       "      <th>2</th>\n",
       "      <td>15296</td>\n",
       "      <td>0</td>\n",
       "      <td>0</td>\n",
       "      <td>0</td>\n",
       "      <td>0.0</td>\n",
       "      <td>0.0</td>\n",
       "      <td>taxable</td>\n",
       "      <td>2.0</td>\n",
       "      <td>2018-02-08 13:49:41</td>\n",
       "      <td>2018-02-08 12:49:41</td>\n",
       "      <td>...</td>\n",
       "      <td>closed</td>\n",
       "      <td>pierre-jean-villa-saint-joseph-tilde-2017</td>\n",
       "      <td>2019-12-21 09:00:17</td>\n",
       "      <td>2019-12-21 08:00:17</td>\n",
       "      <td>0.0</td>\n",
       "      <td>https://www.bottle-neck.fr/?post_type=product&amp;...</td>\n",
       "      <td>0.0</td>\n",
       "      <td>product</td>\n",
       "      <td>0</td>\n",
       "      <td>0.0</td>\n",
       "    </tr>\n",
       "    <tr>\n",
       "      <th>3</th>\n",
       "      <td>15300</td>\n",
       "      <td>0</td>\n",
       "      <td>0</td>\n",
       "      <td>0</td>\n",
       "      <td>0.0</td>\n",
       "      <td>0.0</td>\n",
       "      <td>taxable</td>\n",
       "      <td>2.0</td>\n",
       "      <td>2018-02-08 14:08:36</td>\n",
       "      <td>2018-02-08 13:08:36</td>\n",
       "      <td>...</td>\n",
       "      <td>closed</td>\n",
       "      <td>pierre-jean-villa-croze-hermitage-accroche-coe...</td>\n",
       "      <td>2020-06-26 18:15:03</td>\n",
       "      <td>2020-06-26 16:15:03</td>\n",
       "      <td>0.0</td>\n",
       "      <td>https://www.bottle-neck.fr/?post_type=product&amp;...</td>\n",
       "      <td>0.0</td>\n",
       "      <td>product</td>\n",
       "      <td>0</td>\n",
       "      <td>0.0</td>\n",
       "    </tr>\n",
       "    <tr>\n",
       "      <th>4</th>\n",
       "      <td>19814</td>\n",
       "      <td>0</td>\n",
       "      <td>0</td>\n",
       "      <td>0</td>\n",
       "      <td>0.0</td>\n",
       "      <td>3.0</td>\n",
       "      <td>taxable</td>\n",
       "      <td>2.0</td>\n",
       "      <td>2018-02-09 14:01:05</td>\n",
       "      <td>2018-02-09 13:01:05</td>\n",
       "      <td>...</td>\n",
       "      <td>closed</td>\n",
       "      <td>pierre-jean-villa-igp-gamine-2018</td>\n",
       "      <td>2020-01-04 16:36:01</td>\n",
       "      <td>2020-01-04 15:36:01</td>\n",
       "      <td>0.0</td>\n",
       "      <td>https://www.bottle-neck.fr/?post_type=product&amp;...</td>\n",
       "      <td>0.0</td>\n",
       "      <td>product</td>\n",
       "      <td>0</td>\n",
       "      <td>0.0</td>\n",
       "    </tr>\n",
       "  </tbody>\n",
       "</table>\n",
       "<p>5 rows × 24 columns</p>\n",
       "</div>"
      ],
      "text/plain": [
       "                   sku  virtual  downloadable  rating_count  average_rating  \\\n",
       "0  bon-cadeau-25-euros        0             0             0             0.0   \n",
       "1                15298        0             0             0             0.0   \n",
       "2                15296        0             0             0             0.0   \n",
       "3                15300        0             0             0             0.0   \n",
       "4                19814        0             0             0             0.0   \n",
       "\n",
       "   total_sales tax_status  post_author           post_date  \\\n",
       "0         10.0    taxable          1.0 2018-06-01 13:53:46   \n",
       "1          6.0    taxable          2.0 2018-02-08 12:58:52   \n",
       "2          0.0    taxable          2.0 2018-02-08 13:49:41   \n",
       "3          0.0    taxable          2.0 2018-02-08 14:08:36   \n",
       "4          3.0    taxable          2.0 2018-02-09 14:01:05   \n",
       "\n",
       "        post_date_gmt  ... ping_status  \\\n",
       "0 2018-06-01 11:53:46  ...      closed   \n",
       "1 2018-02-08 11:58:52  ...      closed   \n",
       "2 2018-02-08 12:49:41  ...      closed   \n",
       "3 2018-02-08 13:08:36  ...      closed   \n",
       "4 2018-02-09 13:01:05  ...      closed   \n",
       "\n",
       "                                           post_name       post_modified  \\\n",
       "0                             bon-cadeau-de-25-euros 2018-06-01 14:13:57   \n",
       "1        pierre-jean-villa-saint-joseph-preface-2018 2019-12-30 09:30:29   \n",
       "2          pierre-jean-villa-saint-joseph-tilde-2017 2019-12-21 09:00:17   \n",
       "3  pierre-jean-villa-croze-hermitage-accroche-coe... 2020-06-26 18:15:03   \n",
       "4                  pierre-jean-villa-igp-gamine-2018 2020-01-04 16:36:01   \n",
       "\n",
       "    post_modified_gmt post_parent  \\\n",
       "0 2018-06-01 12:13:57         0.0   \n",
       "1 2019-12-30 08:30:29         0.0   \n",
       "2 2019-12-21 08:00:17         0.0   \n",
       "3 2020-06-26 16:15:03         0.0   \n",
       "4 2020-01-04 15:36:01         0.0   \n",
       "\n",
       "                                                guid menu_order post_type  \\\n",
       "0  https://www.bottle-neck.fr/?post_type=product&...        0.0   product   \n",
       "1  https://www.bottle-neck.fr/?post_type=product&...        0.0   product   \n",
       "2  https://www.bottle-neck.fr/?post_type=product&...        0.0   product   \n",
       "3  https://www.bottle-neck.fr/?post_type=product&...        0.0   product   \n",
       "4  https://www.bottle-neck.fr/?post_type=product&...        0.0   product   \n",
       "\n",
       "   post_mime_type comment_count  \n",
       "0               0           0.0  \n",
       "1               0           0.0  \n",
       "2               0           0.0  \n",
       "3               0           0.0  \n",
       "4               0           0.0  \n",
       "\n",
       "[5 rows x 24 columns]"
      ]
     },
     "execution_count": 14,
     "metadata": {},
     "output_type": "execute_result"
    }
   ],
   "source": [
    "#Remplacer les NaN par 0\n",
    "web[['post_mime_type']]=web[['post_mime_type']] .fillna(0)\n",
    "web.head(5)"
   ]
  },
  {
   "cell_type": "code",
   "execution_count": 15,
   "id": "6d90eebf",
   "metadata": {},
   "outputs": [
    {
     "data": {
      "text/html": [
       "<div>\n",
       "<style scoped>\n",
       "    .dataframe tbody tr th:only-of-type {\n",
       "        vertical-align: middle;\n",
       "    }\n",
       "\n",
       "    .dataframe tbody tr th {\n",
       "        vertical-align: top;\n",
       "    }\n",
       "\n",
       "    .dataframe thead th {\n",
       "        text-align: right;\n",
       "    }\n",
       "</style>\n",
       "<table border=\"1\" class=\"dataframe\">\n",
       "  <thead>\n",
       "    <tr style=\"text-align: right;\">\n",
       "      <th></th>\n",
       "      <th>sku</th>\n",
       "      <th>total_sales</th>\n",
       "      <th>tax_status</th>\n",
       "      <th>post_author</th>\n",
       "      <th>post_date</th>\n",
       "      <th>post_date_gmt</th>\n",
       "      <th>post_title</th>\n",
       "      <th>post_excerpt</th>\n",
       "      <th>post_status</th>\n",
       "      <th>comment_status</th>\n",
       "      <th>ping_status</th>\n",
       "      <th>post_name</th>\n",
       "      <th>post_modified</th>\n",
       "      <th>post_modified_gmt</th>\n",
       "      <th>post_parent</th>\n",
       "      <th>guid</th>\n",
       "      <th>menu_order</th>\n",
       "      <th>post_type</th>\n",
       "      <th>post_mime_type</th>\n",
       "      <th>comment_count</th>\n",
       "    </tr>\n",
       "  </thead>\n",
       "  <tbody>\n",
       "    <tr>\n",
       "      <th>0</th>\n",
       "      <td>bon-cadeau-25-euros</td>\n",
       "      <td>10.0</td>\n",
       "      <td>taxable</td>\n",
       "      <td>1.0</td>\n",
       "      <td>2018-06-01 13:53:46</td>\n",
       "      <td>2018-06-01 11:53:46</td>\n",
       "      <td>Bon cadeau de 25€</td>\n",
       "      <td>&lt;span style=\"color: #a85253;\"&gt;&lt;strong&gt;Parlons ...</td>\n",
       "      <td>publish</td>\n",
       "      <td>closed</td>\n",
       "      <td>closed</td>\n",
       "      <td>bon-cadeau-de-25-euros</td>\n",
       "      <td>2018-06-01 14:13:57</td>\n",
       "      <td>2018-06-01 12:13:57</td>\n",
       "      <td>0.0</td>\n",
       "      <td>https://www.bottle-neck.fr/?post_type=product&amp;...</td>\n",
       "      <td>0.0</td>\n",
       "      <td>product</td>\n",
       "      <td>0</td>\n",
       "      <td>0.0</td>\n",
       "    </tr>\n",
       "    <tr>\n",
       "      <th>1</th>\n",
       "      <td>15298</td>\n",
       "      <td>6.0</td>\n",
       "      <td>taxable</td>\n",
       "      <td>2.0</td>\n",
       "      <td>2018-02-08 12:58:52</td>\n",
       "      <td>2018-02-08 11:58:52</td>\n",
       "      <td>Pierre Jean Villa Saint-Joseph Préface 2018</td>\n",
       "      <td>Il exhale un nez subtil, racé avec du poivre f...</td>\n",
       "      <td>publish</td>\n",
       "      <td>closed</td>\n",
       "      <td>closed</td>\n",
       "      <td>pierre-jean-villa-saint-joseph-preface-2018</td>\n",
       "      <td>2019-12-30 09:30:29</td>\n",
       "      <td>2019-12-30 08:30:29</td>\n",
       "      <td>0.0</td>\n",
       "      <td>https://www.bottle-neck.fr/?post_type=product&amp;...</td>\n",
       "      <td>0.0</td>\n",
       "      <td>product</td>\n",
       "      <td>0</td>\n",
       "      <td>0.0</td>\n",
       "    </tr>\n",
       "    <tr>\n",
       "      <th>2</th>\n",
       "      <td>15296</td>\n",
       "      <td>0.0</td>\n",
       "      <td>taxable</td>\n",
       "      <td>2.0</td>\n",
       "      <td>2018-02-08 13:49:41</td>\n",
       "      <td>2018-02-08 12:49:41</td>\n",
       "      <td>Pierre Jean Villa Saint-Joseph Rouge Tildé 2017</td>\n",
       "      <td>Les vieilles vignes lui apportent une rare pro...</td>\n",
       "      <td>publish</td>\n",
       "      <td>closed</td>\n",
       "      <td>closed</td>\n",
       "      <td>pierre-jean-villa-saint-joseph-tilde-2017</td>\n",
       "      <td>2019-12-21 09:00:17</td>\n",
       "      <td>2019-12-21 08:00:17</td>\n",
       "      <td>0.0</td>\n",
       "      <td>https://www.bottle-neck.fr/?post_type=product&amp;...</td>\n",
       "      <td>0.0</td>\n",
       "      <td>product</td>\n",
       "      <td>0</td>\n",
       "      <td>0.0</td>\n",
       "    </tr>\n",
       "    <tr>\n",
       "      <th>3</th>\n",
       "      <td>15300</td>\n",
       "      <td>0.0</td>\n",
       "      <td>taxable</td>\n",
       "      <td>2.0</td>\n",
       "      <td>2018-02-08 14:08:36</td>\n",
       "      <td>2018-02-08 13:08:36</td>\n",
       "      <td>Pierre Jean Villa Crozes-Hermitage Accroche Co...</td>\n",
       "      <td>Dentelle de fruit de jeunes syrah, aux tanins ...</td>\n",
       "      <td>publish</td>\n",
       "      <td>closed</td>\n",
       "      <td>closed</td>\n",
       "      <td>pierre-jean-villa-croze-hermitage-accroche-coe...</td>\n",
       "      <td>2020-06-26 18:15:03</td>\n",
       "      <td>2020-06-26 16:15:03</td>\n",
       "      <td>0.0</td>\n",
       "      <td>https://www.bottle-neck.fr/?post_type=product&amp;...</td>\n",
       "      <td>0.0</td>\n",
       "      <td>product</td>\n",
       "      <td>0</td>\n",
       "      <td>0.0</td>\n",
       "    </tr>\n",
       "    <tr>\n",
       "      <th>4</th>\n",
       "      <td>19814</td>\n",
       "      <td>3.0</td>\n",
       "      <td>taxable</td>\n",
       "      <td>2.0</td>\n",
       "      <td>2018-02-09 14:01:05</td>\n",
       "      <td>2018-02-09 13:01:05</td>\n",
       "      <td>Pierre Jean Villa IGP Collines Rhodaniennes Ga...</td>\n",
       "      <td>Gamine représente tout le fruité et la gourman...</td>\n",
       "      <td>publish</td>\n",
       "      <td>closed</td>\n",
       "      <td>closed</td>\n",
       "      <td>pierre-jean-villa-igp-gamine-2018</td>\n",
       "      <td>2020-01-04 16:36:01</td>\n",
       "      <td>2020-01-04 15:36:01</td>\n",
       "      <td>0.0</td>\n",
       "      <td>https://www.bottle-neck.fr/?post_type=product&amp;...</td>\n",
       "      <td>0.0</td>\n",
       "      <td>product</td>\n",
       "      <td>0</td>\n",
       "      <td>0.0</td>\n",
       "    </tr>\n",
       "  </tbody>\n",
       "</table>\n",
       "</div>"
      ],
      "text/plain": [
       "                   sku  total_sales tax_status  post_author  \\\n",
       "0  bon-cadeau-25-euros         10.0    taxable          1.0   \n",
       "1                15298          6.0    taxable          2.0   \n",
       "2                15296          0.0    taxable          2.0   \n",
       "3                15300          0.0    taxable          2.0   \n",
       "4                19814          3.0    taxable          2.0   \n",
       "\n",
       "            post_date       post_date_gmt  \\\n",
       "0 2018-06-01 13:53:46 2018-06-01 11:53:46   \n",
       "1 2018-02-08 12:58:52 2018-02-08 11:58:52   \n",
       "2 2018-02-08 13:49:41 2018-02-08 12:49:41   \n",
       "3 2018-02-08 14:08:36 2018-02-08 13:08:36   \n",
       "4 2018-02-09 14:01:05 2018-02-09 13:01:05   \n",
       "\n",
       "                                          post_title  \\\n",
       "0                                  Bon cadeau de 25€   \n",
       "1        Pierre Jean Villa Saint-Joseph Préface 2018   \n",
       "2    Pierre Jean Villa Saint-Joseph Rouge Tildé 2017   \n",
       "3  Pierre Jean Villa Crozes-Hermitage Accroche Co...   \n",
       "4  Pierre Jean Villa IGP Collines Rhodaniennes Ga...   \n",
       "\n",
       "                                        post_excerpt post_status  \\\n",
       "0  <span style=\"color: #a85253;\"><strong>Parlons ...     publish   \n",
       "1  Il exhale un nez subtil, racé avec du poivre f...     publish   \n",
       "2  Les vieilles vignes lui apportent une rare pro...     publish   \n",
       "3  Dentelle de fruit de jeunes syrah, aux tanins ...     publish   \n",
       "4  Gamine représente tout le fruité et la gourman...     publish   \n",
       "\n",
       "  comment_status ping_status  \\\n",
       "0         closed      closed   \n",
       "1         closed      closed   \n",
       "2         closed      closed   \n",
       "3         closed      closed   \n",
       "4         closed      closed   \n",
       "\n",
       "                                           post_name       post_modified  \\\n",
       "0                             bon-cadeau-de-25-euros 2018-06-01 14:13:57   \n",
       "1        pierre-jean-villa-saint-joseph-preface-2018 2019-12-30 09:30:29   \n",
       "2          pierre-jean-villa-saint-joseph-tilde-2017 2019-12-21 09:00:17   \n",
       "3  pierre-jean-villa-croze-hermitage-accroche-coe... 2020-06-26 18:15:03   \n",
       "4                  pierre-jean-villa-igp-gamine-2018 2020-01-04 16:36:01   \n",
       "\n",
       "    post_modified_gmt  post_parent  \\\n",
       "0 2018-06-01 12:13:57          0.0   \n",
       "1 2019-12-30 08:30:29          0.0   \n",
       "2 2019-12-21 08:00:17          0.0   \n",
       "3 2020-06-26 16:15:03          0.0   \n",
       "4 2020-01-04 15:36:01          0.0   \n",
       "\n",
       "                                                guid  menu_order post_type  \\\n",
       "0  https://www.bottle-neck.fr/?post_type=product&...         0.0   product   \n",
       "1  https://www.bottle-neck.fr/?post_type=product&...         0.0   product   \n",
       "2  https://www.bottle-neck.fr/?post_type=product&...         0.0   product   \n",
       "3  https://www.bottle-neck.fr/?post_type=product&...         0.0   product   \n",
       "4  https://www.bottle-neck.fr/?post_type=product&...         0.0   product   \n",
       "\n",
       "  post_mime_type  comment_count  \n",
       "0              0            0.0  \n",
       "1              0            0.0  \n",
       "2              0            0.0  \n",
       "3              0            0.0  \n",
       "4              0            0.0  "
      ]
     },
     "execution_count": 15,
     "metadata": {},
     "output_type": "execute_result"
    }
   ],
   "source": [
    "#Suppression de colonnes de 'virtual' à 'average_rating' qui n'ont aucune valeurs\n",
    "web = web.drop(columns=['virtual','downloadable','rating_count','average_rating'])\n",
    "web.head()"
   ]
  },
  {
   "cell_type": "code",
   "execution_count": 16,
   "id": "a15b832e",
   "metadata": {},
   "outputs": [
    {
     "data": {
      "text/plain": [
       "(1513, 20)"
      ]
     },
     "execution_count": 16,
     "metadata": {},
     "output_type": "execute_result"
    }
   ],
   "source": [
    "#Vérifier que sur les 24 colonnes, 4 ont été supprimées\n",
    "web.shape"
   ]
  },
  {
   "cell_type": "markdown",
   "id": "0f06b36c",
   "metadata": {},
   "source": [
    "**<span style=\"color:blue\">Le dataframe \"web\" contient 1513 lignes, tandis que les deux autres dataframes, \"liaison\" et \"erp\", ont un nombre maximum de lignes compris entre 715 et 825.\n",
    "Les codes sku sont en doubles, et les deuxièmes lignes à la colonne \"post_mime_type\" servent à afficher la photo de la bouteille de vin. C'est que l'on observe pour le code sku 15298:</span>**"
   ]
  },
  {
   "cell_type": "code",
   "execution_count": 17,
   "id": "442fb302",
   "metadata": {},
   "outputs": [
    {
     "data": {
      "image/png": "[encoded data removed]",
      "text/plain": [
       "<Figure size 1200x800 with 1 Axes>"
      ]
     },
     "metadata": {},
     "output_type": "display_data"
    }
   ],
   "source": [
    "#Visualiser les données manquantes à partir d'un heatmap\n",
    "plt.figure(figsize=(12, 8))\n",
    "sns.heatmap(web.isnull(), cbar=False, cmap='viridis')\n",
    "plt.title('Missing Values Heatmap')\n",
    "plt.show()"
   ]
  },
  {
   "cell_type": "code",
   "execution_count": null,
   "id": "d3f1a71b",
   "metadata": {
    "scrolled": true
   },
   "outputs": [],
   "source": []
  },
  {
   "cell_type": "code",
   "execution_count": 18,
   "id": "ff19389e",
   "metadata": {},
   "outputs": [
    {
     "data": {
      "text/html": [
       "<div>\n",
       "<style scoped>\n",
       "    .dataframe tbody tr th:only-of-type {\n",
       "        vertical-align: middle;\n",
       "    }\n",
       "\n",
       "    .dataframe tbody tr th {\n",
       "        vertical-align: top;\n",
       "    }\n",
       "\n",
       "    .dataframe thead th {\n",
       "        text-align: right;\n",
       "    }\n",
       "</style>\n",
       "<table border=\"1\" class=\"dataframe\">\n",
       "  <thead>\n",
       "    <tr style=\"text-align: right;\">\n",
       "      <th></th>\n",
       "      <th>sku</th>\n",
       "      <th>total_sales</th>\n",
       "      <th>tax_status</th>\n",
       "      <th>post_author</th>\n",
       "      <th>post_date</th>\n",
       "      <th>post_date_gmt</th>\n",
       "      <th>post_title</th>\n",
       "      <th>post_excerpt</th>\n",
       "      <th>post_status</th>\n",
       "      <th>comment_status</th>\n",
       "      <th>ping_status</th>\n",
       "      <th>post_name</th>\n",
       "      <th>post_modified</th>\n",
       "      <th>post_modified_gmt</th>\n",
       "      <th>post_parent</th>\n",
       "      <th>guid</th>\n",
       "      <th>menu_order</th>\n",
       "      <th>post_type</th>\n",
       "      <th>post_mime_type</th>\n",
       "      <th>comment_count</th>\n",
       "    </tr>\n",
       "  </thead>\n",
       "  <tbody>\n",
       "    <tr>\n",
       "      <th>1</th>\n",
       "      <td>15298</td>\n",
       "      <td>6.0</td>\n",
       "      <td>taxable</td>\n",
       "      <td>2.0</td>\n",
       "      <td>2018-02-08 12:58:52</td>\n",
       "      <td>2018-02-08 11:58:52</td>\n",
       "      <td>Pierre Jean Villa Saint-Joseph Préface 2018</td>\n",
       "      <td>Il exhale un nez subtil, racé avec du poivre f...</td>\n",
       "      <td>publish</td>\n",
       "      <td>closed</td>\n",
       "      <td>closed</td>\n",
       "      <td>pierre-jean-villa-saint-joseph-preface-2018</td>\n",
       "      <td>2019-12-30 09:30:29</td>\n",
       "      <td>2019-12-30 08:30:29</td>\n",
       "      <td>0.0</td>\n",
       "      <td>https://www.bottle-neck.fr/?post_type=product&amp;...</td>\n",
       "      <td>0.0</td>\n",
       "      <td>product</td>\n",
       "      <td>0</td>\n",
       "      <td>0.0</td>\n",
       "    </tr>\n",
       "    <tr>\n",
       "      <th>799</th>\n",
       "      <td>15298</td>\n",
       "      <td>6.0</td>\n",
       "      <td>NaN</td>\n",
       "      <td>2.0</td>\n",
       "      <td>2018-02-08 12:58:52</td>\n",
       "      <td>2018-02-08 11:58:52</td>\n",
       "      <td>Pierre Jean Villa Saint-Joseph Préface 2018</td>\n",
       "      <td>NaN</td>\n",
       "      <td>publish</td>\n",
       "      <td>closed</td>\n",
       "      <td>closed</td>\n",
       "      <td>pierre-jean-villa-saint-joseph-preface-2018</td>\n",
       "      <td>2019-12-30 09:30:29</td>\n",
       "      <td>2019-12-30 08:30:29</td>\n",
       "      <td>0.0</td>\n",
       "      <td>https://www.bottle-neck.fr/wp-content/uploads/...</td>\n",
       "      <td>0.0</td>\n",
       "      <td>attachment</td>\n",
       "      <td>image/jpeg</td>\n",
       "      <td>0.0</td>\n",
       "    </tr>\n",
       "  </tbody>\n",
       "</table>\n",
       "</div>"
      ],
      "text/plain": [
       "       sku  total_sales tax_status  post_author           post_date  \\\n",
       "1    15298          6.0    taxable          2.0 2018-02-08 12:58:52   \n",
       "799  15298          6.0        NaN          2.0 2018-02-08 12:58:52   \n",
       "\n",
       "          post_date_gmt                                   post_title  \\\n",
       "1   2018-02-08 11:58:52  Pierre Jean Villa Saint-Joseph Préface 2018   \n",
       "799 2018-02-08 11:58:52  Pierre Jean Villa Saint-Joseph Préface 2018   \n",
       "\n",
       "                                          post_excerpt post_status  \\\n",
       "1    Il exhale un nez subtil, racé avec du poivre f...     publish   \n",
       "799                                                NaN     publish   \n",
       "\n",
       "    comment_status ping_status                                    post_name  \\\n",
       "1           closed      closed  pierre-jean-villa-saint-joseph-preface-2018   \n",
       "799         closed      closed  pierre-jean-villa-saint-joseph-preface-2018   \n",
       "\n",
       "          post_modified   post_modified_gmt  post_parent  \\\n",
       "1   2019-12-30 09:30:29 2019-12-30 08:30:29          0.0   \n",
       "799 2019-12-30 09:30:29 2019-12-30 08:30:29          0.0   \n",
       "\n",
       "                                                  guid  menu_order  \\\n",
       "1    https://www.bottle-neck.fr/?post_type=product&...         0.0   \n",
       "799  https://www.bottle-neck.fr/wp-content/uploads/...         0.0   \n",
       "\n",
       "      post_type post_mime_type  comment_count  \n",
       "1       product              0            0.0  \n",
       "799  attachment     image/jpeg            0.0  "
      ]
     },
     "execution_count": 18,
     "metadata": {},
     "output_type": "execute_result"
    }
   ],
   "source": [
    "web.loc[web['sku']==15298]"
   ]
  },
  {
   "cell_type": "code",
   "execution_count": 19,
   "id": "7866a814",
   "metadata": {},
   "outputs": [
    {
     "data": {
      "text/html": [
       "<div>\n",
       "<style scoped>\n",
       "    .dataframe tbody tr th:only-of-type {\n",
       "        vertical-align: middle;\n",
       "    }\n",
       "\n",
       "    .dataframe tbody tr th {\n",
       "        vertical-align: top;\n",
       "    }\n",
       "\n",
       "    .dataframe thead th {\n",
       "        text-align: right;\n",
       "    }\n",
       "</style>\n",
       "<table border=\"1\" class=\"dataframe\">\n",
       "  <thead>\n",
       "    <tr style=\"text-align: right;\">\n",
       "      <th></th>\n",
       "      <th>sku</th>\n",
       "      <th>total_sales</th>\n",
       "      <th>tax_status</th>\n",
       "      <th>post_author</th>\n",
       "      <th>post_date</th>\n",
       "      <th>post_date_gmt</th>\n",
       "      <th>post_title</th>\n",
       "      <th>post_excerpt</th>\n",
       "      <th>post_status</th>\n",
       "      <th>comment_status</th>\n",
       "      <th>ping_status</th>\n",
       "      <th>post_name</th>\n",
       "      <th>post_modified</th>\n",
       "      <th>post_modified_gmt</th>\n",
       "      <th>post_parent</th>\n",
       "      <th>guid</th>\n",
       "      <th>menu_order</th>\n",
       "      <th>post_type</th>\n",
       "      <th>post_mime_type</th>\n",
       "      <th>comment_count</th>\n",
       "    </tr>\n",
       "  </thead>\n",
       "  <tbody>\n",
       "    <tr>\n",
       "      <th>0</th>\n",
       "      <td>bon-cadeau-25-euros</td>\n",
       "      <td>10.0</td>\n",
       "      <td>taxable</td>\n",
       "      <td>1.0</td>\n",
       "      <td>2018-06-01 13:53:46</td>\n",
       "      <td>2018-06-01 11:53:46</td>\n",
       "      <td>Bon cadeau de 25€</td>\n",
       "      <td>&lt;span style=\"color: #a85253;\"&gt;&lt;strong&gt;Parlons ...</td>\n",
       "      <td>publish</td>\n",
       "      <td>closed</td>\n",
       "      <td>closed</td>\n",
       "      <td>bon-cadeau-de-25-euros</td>\n",
       "      <td>2018-06-01 14:13:57</td>\n",
       "      <td>2018-06-01 12:13:57</td>\n",
       "      <td>0.0</td>\n",
       "      <td>https://www.bottle-neck.fr/?post_type=product&amp;...</td>\n",
       "      <td>0.0</td>\n",
       "      <td>product</td>\n",
       "      <td>0</td>\n",
       "      <td>0.0</td>\n",
       "    </tr>\n",
       "    <tr>\n",
       "      <th>1</th>\n",
       "      <td>15298</td>\n",
       "      <td>6.0</td>\n",
       "      <td>taxable</td>\n",
       "      <td>2.0</td>\n",
       "      <td>2018-02-08 12:58:52</td>\n",
       "      <td>2018-02-08 11:58:52</td>\n",
       "      <td>Pierre Jean Villa Saint-Joseph Préface 2018</td>\n",
       "      <td>Il exhale un nez subtil, racé avec du poivre f...</td>\n",
       "      <td>publish</td>\n",
       "      <td>closed</td>\n",
       "      <td>closed</td>\n",
       "      <td>pierre-jean-villa-saint-joseph-preface-2018</td>\n",
       "      <td>2019-12-30 09:30:29</td>\n",
       "      <td>2019-12-30 08:30:29</td>\n",
       "      <td>0.0</td>\n",
       "      <td>https://www.bottle-neck.fr/?post_type=product&amp;...</td>\n",
       "      <td>0.0</td>\n",
       "      <td>product</td>\n",
       "      <td>0</td>\n",
       "      <td>0.0</td>\n",
       "    </tr>\n",
       "    <tr>\n",
       "      <th>2</th>\n",
       "      <td>15296</td>\n",
       "      <td>0.0</td>\n",
       "      <td>taxable</td>\n",
       "      <td>2.0</td>\n",
       "      <td>2018-02-08 13:49:41</td>\n",
       "      <td>2018-02-08 12:49:41</td>\n",
       "      <td>Pierre Jean Villa Saint-Joseph Rouge Tildé 2017</td>\n",
       "      <td>Les vieilles vignes lui apportent une rare pro...</td>\n",
       "      <td>publish</td>\n",
       "      <td>closed</td>\n",
       "      <td>closed</td>\n",
       "      <td>pierre-jean-villa-saint-joseph-tilde-2017</td>\n",
       "      <td>2019-12-21 09:00:17</td>\n",
       "      <td>2019-12-21 08:00:17</td>\n",
       "      <td>0.0</td>\n",
       "      <td>https://www.bottle-neck.fr/?post_type=product&amp;...</td>\n",
       "      <td>0.0</td>\n",
       "      <td>product</td>\n",
       "      <td>0</td>\n",
       "      <td>0.0</td>\n",
       "    </tr>\n",
       "    <tr>\n",
       "      <th>3</th>\n",
       "      <td>15300</td>\n",
       "      <td>0.0</td>\n",
       "      <td>taxable</td>\n",
       "      <td>2.0</td>\n",
       "      <td>2018-02-08 14:08:36</td>\n",
       "      <td>2018-02-08 13:08:36</td>\n",
       "      <td>Pierre Jean Villa Crozes-Hermitage Accroche Co...</td>\n",
       "      <td>Dentelle de fruit de jeunes syrah, aux tanins ...</td>\n",
       "      <td>publish</td>\n",
       "      <td>closed</td>\n",
       "      <td>closed</td>\n",
       "      <td>pierre-jean-villa-croze-hermitage-accroche-coe...</td>\n",
       "      <td>2020-06-26 18:15:03</td>\n",
       "      <td>2020-06-26 16:15:03</td>\n",
       "      <td>0.0</td>\n",
       "      <td>https://www.bottle-neck.fr/?post_type=product&amp;...</td>\n",
       "      <td>0.0</td>\n",
       "      <td>product</td>\n",
       "      <td>0</td>\n",
       "      <td>0.0</td>\n",
       "    </tr>\n",
       "    <tr>\n",
       "      <th>4</th>\n",
       "      <td>19814</td>\n",
       "      <td>3.0</td>\n",
       "      <td>taxable</td>\n",
       "      <td>2.0</td>\n",
       "      <td>2018-02-09 14:01:05</td>\n",
       "      <td>2018-02-09 13:01:05</td>\n",
       "      <td>Pierre Jean Villa IGP Collines Rhodaniennes Ga...</td>\n",
       "      <td>Gamine représente tout le fruité et la gourman...</td>\n",
       "      <td>publish</td>\n",
       "      <td>closed</td>\n",
       "      <td>closed</td>\n",
       "      <td>pierre-jean-villa-igp-gamine-2018</td>\n",
       "      <td>2020-01-04 16:36:01</td>\n",
       "      <td>2020-01-04 15:36:01</td>\n",
       "      <td>0.0</td>\n",
       "      <td>https://www.bottle-neck.fr/?post_type=product&amp;...</td>\n",
       "      <td>0.0</td>\n",
       "      <td>product</td>\n",
       "      <td>0</td>\n",
       "      <td>0.0</td>\n",
       "    </tr>\n",
       "  </tbody>\n",
       "</table>\n",
       "</div>"
      ],
      "text/plain": [
       "                   sku  total_sales tax_status  post_author  \\\n",
       "0  bon-cadeau-25-euros         10.0    taxable          1.0   \n",
       "1                15298          6.0    taxable          2.0   \n",
       "2                15296          0.0    taxable          2.0   \n",
       "3                15300          0.0    taxable          2.0   \n",
       "4                19814          3.0    taxable          2.0   \n",
       "\n",
       "            post_date       post_date_gmt  \\\n",
       "0 2018-06-01 13:53:46 2018-06-01 11:53:46   \n",
       "1 2018-02-08 12:58:52 2018-02-08 11:58:52   \n",
       "2 2018-02-08 13:49:41 2018-02-08 12:49:41   \n",
       "3 2018-02-08 14:08:36 2018-02-08 13:08:36   \n",
       "4 2018-02-09 14:01:05 2018-02-09 13:01:05   \n",
       "\n",
       "                                          post_title  \\\n",
       "0                                  Bon cadeau de 25€   \n",
       "1        Pierre Jean Villa Saint-Joseph Préface 2018   \n",
       "2    Pierre Jean Villa Saint-Joseph Rouge Tildé 2017   \n",
       "3  Pierre Jean Villa Crozes-Hermitage Accroche Co...   \n",
       "4  Pierre Jean Villa IGP Collines Rhodaniennes Ga...   \n",
       "\n",
       "                                        post_excerpt post_status  \\\n",
       "0  <span style=\"color: #a85253;\"><strong>Parlons ...     publish   \n",
       "1  Il exhale un nez subtil, racé avec du poivre f...     publish   \n",
       "2  Les vieilles vignes lui apportent une rare pro...     publish   \n",
       "3  Dentelle de fruit de jeunes syrah, aux tanins ...     publish   \n",
       "4  Gamine représente tout le fruité et la gourman...     publish   \n",
       "\n",
       "  comment_status ping_status  \\\n",
       "0         closed      closed   \n",
       "1         closed      closed   \n",
       "2         closed      closed   \n",
       "3         closed      closed   \n",
       "4         closed      closed   \n",
       "\n",
       "                                           post_name       post_modified  \\\n",
       "0                             bon-cadeau-de-25-euros 2018-06-01 14:13:57   \n",
       "1        pierre-jean-villa-saint-joseph-preface-2018 2019-12-30 09:30:29   \n",
       "2          pierre-jean-villa-saint-joseph-tilde-2017 2019-12-21 09:00:17   \n",
       "3  pierre-jean-villa-croze-hermitage-accroche-coe... 2020-06-26 18:15:03   \n",
       "4                  pierre-jean-villa-igp-gamine-2018 2020-01-04 16:36:01   \n",
       "\n",
       "    post_modified_gmt  post_parent  \\\n",
       "0 2018-06-01 12:13:57          0.0   \n",
       "1 2019-12-30 08:30:29          0.0   \n",
       "2 2019-12-21 08:00:17          0.0   \n",
       "3 2020-06-26 16:15:03          0.0   \n",
       "4 2020-01-04 15:36:01          0.0   \n",
       "\n",
       "                                                guid  menu_order post_type  \\\n",
       "0  https://www.bottle-neck.fr/?post_type=product&...         0.0   product   \n",
       "1  https://www.bottle-neck.fr/?post_type=product&...         0.0   product   \n",
       "2  https://www.bottle-neck.fr/?post_type=product&...         0.0   product   \n",
       "3  https://www.bottle-neck.fr/?post_type=product&...         0.0   product   \n",
       "4  https://www.bottle-neck.fr/?post_type=product&...         0.0   product   \n",
       "\n",
       "  post_mime_type  comment_count  \n",
       "0              0            0.0  \n",
       "1              0            0.0  \n",
       "2              0            0.0  \n",
       "3              0            0.0  \n",
       "4              0            0.0  "
      ]
     },
     "execution_count": 19,
     "metadata": {},
     "output_type": "execute_result"
    }
   ],
   "source": [
    "#Supprimer les doublons à partir de la colonne \"sku\" en ne laissant que la première combinaison de valeurs observées.\n",
    "web=web.drop_duplicates(['sku'], keep='first')\n",
    "web.head(5)"
   ]
  },
  {
   "cell_type": "code",
   "execution_count": 20,
   "id": "17f18846",
   "metadata": {},
   "outputs": [
    {
     "name": "stdout",
     "output_type": "stream",
     "text": [
      "<class 'pandas.core.frame.DataFrame'>\n",
      "Int64Index: 715 entries, 0 to 798\n",
      "Data columns (total 20 columns):\n",
      " #   Column             Non-Null Count  Dtype         \n",
      "---  ------             --------------  -----         \n",
      " 0   sku                714 non-null    object        \n",
      " 1   total_sales        714 non-null    float64       \n",
      " 2   tax_status         714 non-null    object        \n",
      " 3   post_author        714 non-null    float64       \n",
      " 4   post_date          714 non-null    datetime64[ns]\n",
      " 5   post_date_gmt      714 non-null    datetime64[ns]\n",
      " 6   post_title         714 non-null    object        \n",
      " 7   post_excerpt       714 non-null    object        \n",
      " 8   post_status        714 non-null    object        \n",
      " 9   comment_status     714 non-null    object        \n",
      " 10  ping_status        714 non-null    object        \n",
      " 11  post_name          714 non-null    object        \n",
      " 12  post_modified      714 non-null    datetime64[ns]\n",
      " 13  post_modified_gmt  714 non-null    datetime64[ns]\n",
      " 14  post_parent        714 non-null    float64       \n",
      " 15  guid               714 non-null    object        \n",
      " 16  menu_order         714 non-null    float64       \n",
      " 17  post_type          714 non-null    object        \n",
      " 18  post_mime_type     715 non-null    object        \n",
      " 19  comment_count      714 non-null    float64       \n",
      "dtypes: datetime64[ns](4), float64(5), object(11)\n",
      "memory usage: 117.3+ KB\n"
     ]
    }
   ],
   "source": [
    "#Consulter le nombre de colonnes\n",
    "#La nature des données dans chacune des colonnes\n",
    "#Le nombre de valeurs non-nulles présentes dans chacune des colonnes\n",
    "web.info()"
   ]
  },
  {
   "cell_type": "code",
   "execution_count": null,
   "id": "becc0947",
   "metadata": {},
   "outputs": [],
   "source": []
  },
  {
   "cell_type": "markdown",
   "id": "268b4f3e",
   "metadata": {},
   "source": [
    "**<span style=\"color:blue\">Suite à cette modification, le nombre de ligne maximale est de 715, il y a donc moins d'incohérence</span>**"
   ]
  },
  {
   "cell_type": "markdown",
   "id": "5807a0e4",
   "metadata": {},
   "source": [
    "<div style=\"border: 1px solid RGB(0,200,200);\" >\n",
    "<h3 style=\"margin: auto; padding: 20px; color: RGB(0,200,200); \">2.2 - Analyse exploratoire du fichier \"liaison\"</h3>\n",
    "</div>"
   ]
  },
  {
   "cell_type": "code",
   "execution_count": 21,
   "id": "cb68c684",
   "metadata": {},
   "outputs": [
    {
     "name": "stdout",
     "output_type": "stream",
     "text": [
      "<class 'pandas.core.frame.DataFrame'>\n",
      "RangeIndex: 825 entries, 0 to 824\n",
      "Data columns (total 2 columns):\n",
      " #   Column      Non-Null Count  Dtype \n",
      "---  ------      --------------  ----- \n",
      " 0   product_id  825 non-null    int64 \n",
      " 1   id_web      734 non-null    object\n",
      "dtypes: int64(1), object(1)\n",
      "memory usage: 13.0+ KB\n"
     ]
    }
   ],
   "source": [
    "#Consulter le nombre de colonnes\n",
    "#La nature des données dans chacune des colonnes\n",
    "#Le nombre de valeurs non-nulles présentes dans chacune des colonnes\n",
    "liaison.info()"
   ]
  },
  {
   "cell_type": "code",
   "execution_count": 22,
   "id": "e5c56acf",
   "metadata": {},
   "outputs": [],
   "source": [
    "#Renommer la colonne \"id_web\" en \"sku\"\n",
    "liaison=liaison.rename(columns={'id_web':'sku'})"
   ]
  },
  {
   "cell_type": "code",
   "execution_count": 23,
   "id": "e636eb38",
   "metadata": {},
   "outputs": [],
   "source": [
    "# Changer le type de \"product_id\" pour le mettre sous forme objet\n",
    "liaison[\"product_id\"]=liaison[\"product_id\"].astype(object)"
   ]
  },
  {
   "cell_type": "code",
   "execution_count": 24,
   "id": "baa71f16",
   "metadata": {},
   "outputs": [
    {
     "name": "stdout",
     "output_type": "stream",
     "text": [
      "<class 'pandas.core.frame.DataFrame'>\n",
      "RangeIndex: 825 entries, 0 to 824\n",
      "Data columns (total 2 columns):\n",
      " #   Column      Non-Null Count  Dtype \n",
      "---  ------      --------------  ----- \n",
      " 0   product_id  825 non-null    object\n",
      " 1   sku         734 non-null    object\n",
      "dtypes: object(2)\n",
      "memory usage: 13.0+ KB\n"
     ]
    }
   ],
   "source": [
    "#Vérifier que la modification a bien eu lieu aux colonnes \"product_id\" et \"sku\"\n",
    "liaison.info()"
   ]
  },
  {
   "cell_type": "markdown",
   "id": "dd6ff112",
   "metadata": {},
   "source": [
    "<div style=\"border: 1px solid RGB(0,200,200);\" >\n",
    "<h3 style=\"margin: auto; padding: 20px; color: RGB(0,200,200); \">2.3 - Analyse exploratoire du fichier \"erp\"</h3>\n",
    "</div>"
   ]
  },
  {
   "cell_type": "code",
   "execution_count": 25,
   "id": "398806e6",
   "metadata": {},
   "outputs": [
    {
     "name": "stdout",
     "output_type": "stream",
     "text": [
      "<class 'pandas.core.frame.DataFrame'>\n",
      "RangeIndex: 825 entries, 0 to 824\n",
      "Data columns (total 5 columns):\n",
      " #   Column          Non-Null Count  Dtype  \n",
      "---  ------          --------------  -----  \n",
      " 0   product_id      825 non-null    int64  \n",
      " 1   onsale_web      825 non-null    int64  \n",
      " 2   price           825 non-null    float64\n",
      " 3   stock_quantity  825 non-null    int64  \n",
      " 4   stock_status    825 non-null    object \n",
      "dtypes: float64(1), int64(3), object(1)\n",
      "memory usage: 32.4+ KB\n"
     ]
    }
   ],
   "source": [
    "#Consulter le nombre de colonnes\n",
    "#La nature des données dans chacune des colonnes\n",
    "#Le nombre de valeurs non-nulles présentes dans chacune des colonnes\n",
    "erp.info()"
   ]
  },
  {
   "cell_type": "code",
   "execution_count": 26,
   "id": "23840f72",
   "metadata": {},
   "outputs": [],
   "source": [
    "# Faire la même modification que le df \"liaison\": Changer le type de \"product_id\" pour le mettre sous forme objet\n",
    "erp[\"product_id\"]=erp[\"product_id\"].astype(object)"
   ]
  },
  {
   "cell_type": "code",
   "execution_count": 27,
   "id": "e506a43c",
   "metadata": {},
   "outputs": [
    {
     "name": "stdout",
     "output_type": "stream",
     "text": [
      "<class 'pandas.core.frame.DataFrame'>\n",
      "RangeIndex: 825 entries, 0 to 824\n",
      "Data columns (total 5 columns):\n",
      " #   Column          Non-Null Count  Dtype  \n",
      "---  ------          --------------  -----  \n",
      " 0   product_id      825 non-null    object \n",
      " 1   onsale_web      825 non-null    int64  \n",
      " 2   price           825 non-null    float64\n",
      " 3   stock_quantity  825 non-null    int64  \n",
      " 4   stock_status    825 non-null    object \n",
      "dtypes: float64(1), int64(2), object(2)\n",
      "memory usage: 32.4+ KB\n"
     ]
    }
   ],
   "source": [
    "#Vérifier que la modification a bien eu lieu à la colonne \"product_id\" \n",
    "erp.info()"
   ]
  },
  {
   "cell_type": "markdown",
   "id": "7d571532",
   "metadata": {},
   "source": [
    "<div style=\"background-color: RGB(0,200,200);\" >\n",
    "<h2 style=\"margin: auto; padding: 20px; color:#fff; \">Etape 3 - Etude des données </h2>\n",
    "</div>"
   ]
  },
  {
   "cell_type": "markdown",
   "id": "09ac19fc",
   "metadata": {},
   "source": [
    "<div style=\"border: 1px solid RGB(0,200,200);\" >\n",
    "<h3 style=\"margin: auto; padding: 20px; color: RGB(0,200,200); \">3.1 - Rapprocher les deux exports \"web\" et \"erp\"</h3>\n",
    "</div>"
   ]
  },
  {
   "cell_type": "code",
   "execution_count": 28,
   "id": "eaa4a707",
   "metadata": {},
   "outputs": [
    {
     "data": {
      "text/html": [
       "<div>\n",
       "<style scoped>\n",
       "    .dataframe tbody tr th:only-of-type {\n",
       "        vertical-align: middle;\n",
       "    }\n",
       "\n",
       "    .dataframe tbody tr th {\n",
       "        vertical-align: top;\n",
       "    }\n",
       "\n",
       "    .dataframe thead th {\n",
       "        text-align: right;\n",
       "    }\n",
       "</style>\n",
       "<table border=\"1\" class=\"dataframe\">\n",
       "  <thead>\n",
       "    <tr style=\"text-align: right;\">\n",
       "      <th></th>\n",
       "      <th>product_id</th>\n",
       "      <th>onsale_web</th>\n",
       "      <th>price</th>\n",
       "      <th>stock_quantity</th>\n",
       "      <th>stock_status</th>\n",
       "      <th>sku</th>\n",
       "    </tr>\n",
       "  </thead>\n",
       "  <tbody>\n",
       "    <tr>\n",
       "      <th>0</th>\n",
       "      <td>3847</td>\n",
       "      <td>1</td>\n",
       "      <td>24.2</td>\n",
       "      <td>0</td>\n",
       "      <td>outofstock</td>\n",
       "      <td>15298</td>\n",
       "    </tr>\n",
       "    <tr>\n",
       "      <th>1</th>\n",
       "      <td>3849</td>\n",
       "      <td>1</td>\n",
       "      <td>34.3</td>\n",
       "      <td>0</td>\n",
       "      <td>outofstock</td>\n",
       "      <td>15296</td>\n",
       "    </tr>\n",
       "    <tr>\n",
       "      <th>2</th>\n",
       "      <td>3850</td>\n",
       "      <td>1</td>\n",
       "      <td>20.8</td>\n",
       "      <td>0</td>\n",
       "      <td>outofstock</td>\n",
       "      <td>15300</td>\n",
       "    </tr>\n",
       "    <tr>\n",
       "      <th>3</th>\n",
       "      <td>4032</td>\n",
       "      <td>1</td>\n",
       "      <td>14.1</td>\n",
       "      <td>0</td>\n",
       "      <td>outofstock</td>\n",
       "      <td>19814</td>\n",
       "    </tr>\n",
       "    <tr>\n",
       "      <th>4</th>\n",
       "      <td>4039</td>\n",
       "      <td>1</td>\n",
       "      <td>46.0</td>\n",
       "      <td>0</td>\n",
       "      <td>outofstock</td>\n",
       "      <td>19815</td>\n",
       "    </tr>\n",
       "  </tbody>\n",
       "</table>\n",
       "</div>"
      ],
      "text/plain": [
       "  product_id  onsale_web  price  stock_quantity stock_status    sku\n",
       "0       3847           1   24.2               0   outofstock  15298\n",
       "1       3849           1   34.3               0   outofstock  15296\n",
       "2       3850           1   20.8               0   outofstock  15300\n",
       "3       4032           1   14.1               0   outofstock  19814\n",
       "4       4039           1   46.0               0   outofstock  19815"
      ]
     },
     "execution_count": 28,
     "metadata": {},
     "output_type": "execute_result"
    }
   ],
   "source": [
    "# 1ère étape : les dataframes \"erp\" et \"liaison\" ont le même nombre de lignes, la Fusion commence alors entre ces deux dataframes \n",
    "erpLiaison=erp.merge(liaison, on='product_id')\n",
    "erpLiaison.head(5)"
   ]
  },
  {
   "cell_type": "code",
   "execution_count": 29,
   "id": "e0c3d9b0",
   "metadata": {},
   "outputs": [
    {
     "name": "stdout",
     "output_type": "stream",
     "text": [
      "<class 'pandas.core.frame.DataFrame'>\n",
      "Int64Index: 825 entries, 0 to 824\n",
      "Data columns (total 6 columns):\n",
      " #   Column          Non-Null Count  Dtype  \n",
      "---  ------          --------------  -----  \n",
      " 0   product_id      825 non-null    object \n",
      " 1   onsale_web      825 non-null    int64  \n",
      " 2   price           825 non-null    float64\n",
      " 3   stock_quantity  825 non-null    int64  \n",
      " 4   stock_status    825 non-null    object \n",
      " 5   sku             734 non-null    object \n",
      "dtypes: float64(1), int64(2), object(3)\n",
      "memory usage: 45.1+ KB\n"
     ]
    }
   ],
   "source": [
    "# Vérifier les types de chaque colonnes, les valeurs non-nulles, la taille du dataframe \"erpLiaison\"\n",
    "erpLiaison.info()"
   ]
  },
  {
   "cell_type": "code",
   "execution_count": 30,
   "id": "1232a341",
   "metadata": {},
   "outputs": [
    {
     "data": {
      "text/html": [
       "<div>\n",
       "<style scoped>\n",
       "    .dataframe tbody tr th:only-of-type {\n",
       "        vertical-align: middle;\n",
       "    }\n",
       "\n",
       "    .dataframe tbody tr th {\n",
       "        vertical-align: top;\n",
       "    }\n",
       "\n",
       "    .dataframe thead th {\n",
       "        text-align: right;\n",
       "    }\n",
       "</style>\n",
       "<table border=\"1\" class=\"dataframe\">\n",
       "  <thead>\n",
       "    <tr style=\"text-align: right;\">\n",
       "      <th></th>\n",
       "      <th>product_id</th>\n",
       "      <th>onsale_web</th>\n",
       "      <th>price</th>\n",
       "      <th>stock_quantity</th>\n",
       "      <th>stock_status</th>\n",
       "      <th>sku</th>\n",
       "      <th>total_sales</th>\n",
       "      <th>tax_status</th>\n",
       "      <th>post_author</th>\n",
       "      <th>post_date</th>\n",
       "      <th>...</th>\n",
       "      <th>ping_status</th>\n",
       "      <th>post_name</th>\n",
       "      <th>post_modified</th>\n",
       "      <th>post_modified_gmt</th>\n",
       "      <th>post_parent</th>\n",
       "      <th>guid</th>\n",
       "      <th>menu_order</th>\n",
       "      <th>post_type</th>\n",
       "      <th>post_mime_type</th>\n",
       "      <th>comment_count</th>\n",
       "    </tr>\n",
       "  </thead>\n",
       "  <tbody>\n",
       "    <tr>\n",
       "      <th>0</th>\n",
       "      <td>4954</td>\n",
       "      <td>1</td>\n",
       "      <td>25.0</td>\n",
       "      <td>0</td>\n",
       "      <td>instock</td>\n",
       "      <td>bon-cadeau-25-euros</td>\n",
       "      <td>10.0</td>\n",
       "      <td>taxable</td>\n",
       "      <td>1.0</td>\n",
       "      <td>2018-06-01 13:53:46</td>\n",
       "      <td>...</td>\n",
       "      <td>closed</td>\n",
       "      <td>bon-cadeau-de-25-euros</td>\n",
       "      <td>2018-06-01 14:13:57</td>\n",
       "      <td>2018-06-01 12:13:57</td>\n",
       "      <td>0.0</td>\n",
       "      <td>https://www.bottle-neck.fr/?post_type=product&amp;...</td>\n",
       "      <td>0.0</td>\n",
       "      <td>product</td>\n",
       "      <td>0</td>\n",
       "      <td>0.0</td>\n",
       "    </tr>\n",
       "    <tr>\n",
       "      <th>1</th>\n",
       "      <td>3847</td>\n",
       "      <td>1</td>\n",
       "      <td>24.2</td>\n",
       "      <td>0</td>\n",
       "      <td>outofstock</td>\n",
       "      <td>15298</td>\n",
       "      <td>6.0</td>\n",
       "      <td>taxable</td>\n",
       "      <td>2.0</td>\n",
       "      <td>2018-02-08 12:58:52</td>\n",
       "      <td>...</td>\n",
       "      <td>closed</td>\n",
       "      <td>pierre-jean-villa-saint-joseph-preface-2018</td>\n",
       "      <td>2019-12-30 09:30:29</td>\n",
       "      <td>2019-12-30 08:30:29</td>\n",
       "      <td>0.0</td>\n",
       "      <td>https://www.bottle-neck.fr/?post_type=product&amp;...</td>\n",
       "      <td>0.0</td>\n",
       "      <td>product</td>\n",
       "      <td>0</td>\n",
       "      <td>0.0</td>\n",
       "    </tr>\n",
       "    <tr>\n",
       "      <th>2</th>\n",
       "      <td>3849</td>\n",
       "      <td>1</td>\n",
       "      <td>34.3</td>\n",
       "      <td>0</td>\n",
       "      <td>outofstock</td>\n",
       "      <td>15296</td>\n",
       "      <td>0.0</td>\n",
       "      <td>taxable</td>\n",
       "      <td>2.0</td>\n",
       "      <td>2018-02-08 13:49:41</td>\n",
       "      <td>...</td>\n",
       "      <td>closed</td>\n",
       "      <td>pierre-jean-villa-saint-joseph-tilde-2017</td>\n",
       "      <td>2019-12-21 09:00:17</td>\n",
       "      <td>2019-12-21 08:00:17</td>\n",
       "      <td>0.0</td>\n",
       "      <td>https://www.bottle-neck.fr/?post_type=product&amp;...</td>\n",
       "      <td>0.0</td>\n",
       "      <td>product</td>\n",
       "      <td>0</td>\n",
       "      <td>0.0</td>\n",
       "    </tr>\n",
       "    <tr>\n",
       "      <th>3</th>\n",
       "      <td>3850</td>\n",
       "      <td>1</td>\n",
       "      <td>20.8</td>\n",
       "      <td>0</td>\n",
       "      <td>outofstock</td>\n",
       "      <td>15300</td>\n",
       "      <td>0.0</td>\n",
       "      <td>taxable</td>\n",
       "      <td>2.0</td>\n",
       "      <td>2018-02-08 14:08:36</td>\n",
       "      <td>...</td>\n",
       "      <td>closed</td>\n",
       "      <td>pierre-jean-villa-croze-hermitage-accroche-coe...</td>\n",
       "      <td>2020-06-26 18:15:03</td>\n",
       "      <td>2020-06-26 16:15:03</td>\n",
       "      <td>0.0</td>\n",
       "      <td>https://www.bottle-neck.fr/?post_type=product&amp;...</td>\n",
       "      <td>0.0</td>\n",
       "      <td>product</td>\n",
       "      <td>0</td>\n",
       "      <td>0.0</td>\n",
       "    </tr>\n",
       "    <tr>\n",
       "      <th>4</th>\n",
       "      <td>4032</td>\n",
       "      <td>1</td>\n",
       "      <td>14.1</td>\n",
       "      <td>0</td>\n",
       "      <td>outofstock</td>\n",
       "      <td>19814</td>\n",
       "      <td>3.0</td>\n",
       "      <td>taxable</td>\n",
       "      <td>2.0</td>\n",
       "      <td>2018-02-09 14:01:05</td>\n",
       "      <td>...</td>\n",
       "      <td>closed</td>\n",
       "      <td>pierre-jean-villa-igp-gamine-2018</td>\n",
       "      <td>2020-01-04 16:36:01</td>\n",
       "      <td>2020-01-04 15:36:01</td>\n",
       "      <td>0.0</td>\n",
       "      <td>https://www.bottle-neck.fr/?post_type=product&amp;...</td>\n",
       "      <td>0.0</td>\n",
       "      <td>product</td>\n",
       "      <td>0</td>\n",
       "      <td>0.0</td>\n",
       "    </tr>\n",
       "  </tbody>\n",
       "</table>\n",
       "<p>5 rows × 25 columns</p>\n",
       "</div>"
      ],
      "text/plain": [
       "  product_id  onsale_web  price  stock_quantity stock_status  \\\n",
       "0       4954           1   25.0               0      instock   \n",
       "1       3847           1   24.2               0   outofstock   \n",
       "2       3849           1   34.3               0   outofstock   \n",
       "3       3850           1   20.8               0   outofstock   \n",
       "4       4032           1   14.1               0   outofstock   \n",
       "\n",
       "                   sku  total_sales tax_status  post_author  \\\n",
       "0  bon-cadeau-25-euros         10.0    taxable          1.0   \n",
       "1                15298          6.0    taxable          2.0   \n",
       "2                15296          0.0    taxable          2.0   \n",
       "3                15300          0.0    taxable          2.0   \n",
       "4                19814          3.0    taxable          2.0   \n",
       "\n",
       "            post_date  ... ping_status  \\\n",
       "0 2018-06-01 13:53:46  ...      closed   \n",
       "1 2018-02-08 12:58:52  ...      closed   \n",
       "2 2018-02-08 13:49:41  ...      closed   \n",
       "3 2018-02-08 14:08:36  ...      closed   \n",
       "4 2018-02-09 14:01:05  ...      closed   \n",
       "\n",
       "                                           post_name       post_modified  \\\n",
       "0                             bon-cadeau-de-25-euros 2018-06-01 14:13:57   \n",
       "1        pierre-jean-villa-saint-joseph-preface-2018 2019-12-30 09:30:29   \n",
       "2          pierre-jean-villa-saint-joseph-tilde-2017 2019-12-21 09:00:17   \n",
       "3  pierre-jean-villa-croze-hermitage-accroche-coe... 2020-06-26 18:15:03   \n",
       "4                  pierre-jean-villa-igp-gamine-2018 2020-01-04 16:36:01   \n",
       "\n",
       "    post_modified_gmt post_parent  \\\n",
       "0 2018-06-01 12:13:57         0.0   \n",
       "1 2019-12-30 08:30:29         0.0   \n",
       "2 2019-12-21 08:00:17         0.0   \n",
       "3 2020-06-26 16:15:03         0.0   \n",
       "4 2020-01-04 15:36:01         0.0   \n",
       "\n",
       "                                                guid menu_order post_type  \\\n",
       "0  https://www.bottle-neck.fr/?post_type=product&...        0.0   product   \n",
       "1  https://www.bottle-neck.fr/?post_type=product&...        0.0   product   \n",
       "2  https://www.bottle-neck.fr/?post_type=product&...        0.0   product   \n",
       "3  https://www.bottle-neck.fr/?post_type=product&...        0.0   product   \n",
       "4  https://www.bottle-neck.fr/?post_type=product&...        0.0   product   \n",
       "\n",
       "  post_mime_type  comment_count  \n",
       "0              0            0.0  \n",
       "1              0            0.0  \n",
       "2              0            0.0  \n",
       "3              0            0.0  \n",
       "4              0            0.0  \n",
       "\n",
       "[5 rows x 25 columns]"
      ]
     },
     "execution_count": 30,
     "metadata": {},
     "output_type": "execute_result"
    }
   ],
   "source": [
    "# 2ème étape: Fusion à droite entre les dataframes \"liaison\" et \"erpLiaison\" pour se concentrer sur l'identifiant \"sku\" de la table située à droite.\n",
    "#la jointure à droite conservera toute les correspondances de la table \"erpLiaison\" et elle complètera si possible avec les informations de la table \"web\"\n",
    "A = erpLiaison.merge(web, on='sku', how='right')\n",
    "A.head(5)"
   ]
  },
  {
   "cell_type": "code",
   "execution_count": 31,
   "id": "3dade899",
   "metadata": {},
   "outputs": [
    {
     "name": "stdout",
     "output_type": "stream",
     "text": [
      "<class 'pandas.core.frame.DataFrame'>\n",
      "Int64Index: 805 entries, 0 to 804\n",
      "Data columns (total 25 columns):\n",
      " #   Column             Non-Null Count  Dtype         \n",
      "---  ------             --------------  -----         \n",
      " 0   product_id         805 non-null    object        \n",
      " 1   onsale_web         805 non-null    int64         \n",
      " 2   price              805 non-null    float64       \n",
      " 3   stock_quantity     805 non-null    int64         \n",
      " 4   stock_status       805 non-null    object        \n",
      " 5   sku                714 non-null    object        \n",
      " 6   total_sales        714 non-null    float64       \n",
      " 7   tax_status         714 non-null    object        \n",
      " 8   post_author        714 non-null    float64       \n",
      " 9   post_date          714 non-null    datetime64[ns]\n",
      " 10  post_date_gmt      714 non-null    datetime64[ns]\n",
      " 11  post_title         714 non-null    object        \n",
      " 12  post_excerpt       714 non-null    object        \n",
      " 13  post_status        714 non-null    object        \n",
      " 14  comment_status     714 non-null    object        \n",
      " 15  ping_status        714 non-null    object        \n",
      " 16  post_name          714 non-null    object        \n",
      " 17  post_modified      714 non-null    datetime64[ns]\n",
      " 18  post_modified_gmt  714 non-null    datetime64[ns]\n",
      " 19  post_parent        714 non-null    float64       \n",
      " 20  guid               714 non-null    object        \n",
      " 21  menu_order         714 non-null    float64       \n",
      " 22  post_type          714 non-null    object        \n",
      " 23  post_mime_type     805 non-null    object        \n",
      " 24  comment_count      714 non-null    float64       \n",
      "dtypes: datetime64[ns](4), float64(6), int64(2), object(13)\n",
      "memory usage: 163.5+ KB\n"
     ]
    }
   ],
   "source": [
    "# Vérifier les types de chaque colonnes, les valeurs non-nulles, la taille du dataframe \"A\"\n",
    "A.info()"
   ]
  },
  {
   "cell_type": "code",
   "execution_count": 32,
   "id": "18028c03",
   "metadata": {},
   "outputs": [
    {
     "data": {
      "text/html": [
       "<div>\n",
       "<style scoped>\n",
       "    .dataframe tbody tr th:only-of-type {\n",
       "        vertical-align: middle;\n",
       "    }\n",
       "\n",
       "    .dataframe tbody tr th {\n",
       "        vertical-align: top;\n",
       "    }\n",
       "\n",
       "    .dataframe thead th {\n",
       "        text-align: right;\n",
       "    }\n",
       "</style>\n",
       "<table border=\"1\" class=\"dataframe\">\n",
       "  <thead>\n",
       "    <tr style=\"text-align: right;\">\n",
       "      <th></th>\n",
       "      <th>price</th>\n",
       "      <th>stock_quantity</th>\n",
       "      <th>onsale_web</th>\n",
       "      <th>total_sales</th>\n",
       "      <th>post_title</th>\n",
       "      <th>post_modified</th>\n",
       "    </tr>\n",
       "  </thead>\n",
       "  <tbody>\n",
       "    <tr>\n",
       "      <th>0</th>\n",
       "      <td>25.0</td>\n",
       "      <td>0</td>\n",
       "      <td>1</td>\n",
       "      <td>10.0</td>\n",
       "      <td>Bon cadeau de 25€</td>\n",
       "      <td>2018-06-01 14:13:57</td>\n",
       "    </tr>\n",
       "    <tr>\n",
       "      <th>1</th>\n",
       "      <td>24.2</td>\n",
       "      <td>0</td>\n",
       "      <td>1</td>\n",
       "      <td>6.0</td>\n",
       "      <td>Pierre Jean Villa Saint-Joseph Préface 2018</td>\n",
       "      <td>2019-12-30 09:30:29</td>\n",
       "    </tr>\n",
       "    <tr>\n",
       "      <th>2</th>\n",
       "      <td>34.3</td>\n",
       "      <td>0</td>\n",
       "      <td>1</td>\n",
       "      <td>0.0</td>\n",
       "      <td>Pierre Jean Villa Saint-Joseph Rouge Tildé 2017</td>\n",
       "      <td>2019-12-21 09:00:17</td>\n",
       "    </tr>\n",
       "    <tr>\n",
       "      <th>3</th>\n",
       "      <td>20.8</td>\n",
       "      <td>0</td>\n",
       "      <td>1</td>\n",
       "      <td>0.0</td>\n",
       "      <td>Pierre Jean Villa Crozes-Hermitage Accroche Co...</td>\n",
       "      <td>2020-06-26 18:15:03</td>\n",
       "    </tr>\n",
       "    <tr>\n",
       "      <th>4</th>\n",
       "      <td>14.1</td>\n",
       "      <td>0</td>\n",
       "      <td>1</td>\n",
       "      <td>3.0</td>\n",
       "      <td>Pierre Jean Villa IGP Collines Rhodaniennes Ga...</td>\n",
       "      <td>2020-01-04 16:36:01</td>\n",
       "    </tr>\n",
       "  </tbody>\n",
       "</table>\n",
       "</div>"
      ],
      "text/plain": [
       "   price  stock_quantity  onsale_web  total_sales  \\\n",
       "0   25.0               0           1         10.0   \n",
       "1   24.2               0           1          6.0   \n",
       "2   34.3               0           1          0.0   \n",
       "3   20.8               0           1          0.0   \n",
       "4   14.1               0           1          3.0   \n",
       "\n",
       "                                          post_title       post_modified  \n",
       "0                                  Bon cadeau de 25€ 2018-06-01 14:13:57  \n",
       "1        Pierre Jean Villa Saint-Joseph Préface 2018 2019-12-30 09:30:29  \n",
       "2    Pierre Jean Villa Saint-Joseph Rouge Tildé 2017 2019-12-21 09:00:17  \n",
       "3  Pierre Jean Villa Crozes-Hermitage Accroche Co... 2020-06-26 18:15:03  \n",
       "4  Pierre Jean Villa IGP Collines Rhodaniennes Ga... 2020-01-04 16:36:01  "
      ]
     },
     "execution_count": 32,
     "metadata": {},
     "output_type": "execute_result"
    }
   ],
   "source": [
    "#Nouveau Dataframe \"A\" ne sélectionnant que les colonnes \"price\", \"stock_sales\", \"total_sales\", \"post_title\" et \"post_modified\"\n",
    "A=A[['price','stock_quantity','onsale_web' ,'total_sales','post_title','post_modified']]\n",
    "A.head(5)"
   ]
  },
  {
   "cell_type": "code",
   "execution_count": 33,
   "id": "3554d67b",
   "metadata": {},
   "outputs": [
    {
     "data": {
      "text/html": [
       "<div>\n",
       "<style scoped>\n",
       "    .dataframe tbody tr th:only-of-type {\n",
       "        vertical-align: middle;\n",
       "    }\n",
       "\n",
       "    .dataframe tbody tr th {\n",
       "        vertical-align: top;\n",
       "    }\n",
       "\n",
       "    .dataframe thead th {\n",
       "        text-align: right;\n",
       "    }\n",
       "</style>\n",
       "<table border=\"1\" class=\"dataframe\">\n",
       "  <thead>\n",
       "    <tr style=\"text-align: right;\">\n",
       "      <th></th>\n",
       "      <th>price</th>\n",
       "      <th>stock_quantity</th>\n",
       "      <th>onsale_web</th>\n",
       "      <th>total_sales</th>\n",
       "    </tr>\n",
       "  </thead>\n",
       "  <tbody>\n",
       "    <tr>\n",
       "      <th>count</th>\n",
       "      <td>805.000000</td>\n",
       "      <td>805.000000</td>\n",
       "      <td>805.000000</td>\n",
       "      <td>714.000000</td>\n",
       "    </tr>\n",
       "    <tr>\n",
       "      <th>mean</th>\n",
       "      <td>32.665590</td>\n",
       "      <td>27.134161</td>\n",
       "      <td>0.890683</td>\n",
       "      <td>4.012605</td>\n",
       "    </tr>\n",
       "    <tr>\n",
       "      <th>std</th>\n",
       "      <td>27.035678</td>\n",
       "      <td>46.276337</td>\n",
       "      <td>0.312230</td>\n",
       "      <td>8.518183</td>\n",
       "    </tr>\n",
       "    <tr>\n",
       "      <th>min</th>\n",
       "      <td>5.200000</td>\n",
       "      <td>0.000000</td>\n",
       "      <td>0.000000</td>\n",
       "      <td>0.000000</td>\n",
       "    </tr>\n",
       "    <tr>\n",
       "      <th>25%</th>\n",
       "      <td>14.600000</td>\n",
       "      <td>1.000000</td>\n",
       "      <td>1.000000</td>\n",
       "      <td>0.000000</td>\n",
       "    </tr>\n",
       "    <tr>\n",
       "      <th>50%</th>\n",
       "      <td>24.400000</td>\n",
       "      <td>12.000000</td>\n",
       "      <td>1.000000</td>\n",
       "      <td>1.000000</td>\n",
       "    </tr>\n",
       "    <tr>\n",
       "      <th>75%</th>\n",
       "      <td>42.500000</td>\n",
       "      <td>34.000000</td>\n",
       "      <td>1.000000</td>\n",
       "      <td>4.000000</td>\n",
       "    </tr>\n",
       "    <tr>\n",
       "      <th>max</th>\n",
       "      <td>225.000000</td>\n",
       "      <td>578.000000</td>\n",
       "      <td>1.000000</td>\n",
       "      <td>96.000000</td>\n",
       "    </tr>\n",
       "  </tbody>\n",
       "</table>\n",
       "</div>"
      ],
      "text/plain": [
       "            price  stock_quantity  onsale_web  total_sales\n",
       "count  805.000000      805.000000  805.000000   714.000000\n",
       "mean    32.665590       27.134161    0.890683     4.012605\n",
       "std     27.035678       46.276337    0.312230     8.518183\n",
       "min      5.200000        0.000000    0.000000     0.000000\n",
       "25%     14.600000        1.000000    1.000000     0.000000\n",
       "50%     24.400000       12.000000    1.000000     1.000000\n",
       "75%     42.500000       34.000000    1.000000     4.000000\n",
       "max    225.000000      578.000000    1.000000    96.000000"
      ]
     },
     "execution_count": 33,
     "metadata": {},
     "output_type": "execute_result"
    }
   ],
   "source": [
    "A.describe()"
   ]
  },
  {
   "cell_type": "code",
   "execution_count": 34,
   "id": "3811cbba",
   "metadata": {},
   "outputs": [
    {
     "data": {
      "image/png": "[encoded data removed]",
      "text/plain": [
       "<Figure size 1200x800 with 1 Axes>"
      ]
     },
     "metadata": {},
     "output_type": "display_data"
    }
   ],
   "source": [
    "#Visualiser les données manquantes à partir d'un heatmap\n",
    "plt.figure(figsize=(12, 8))\n",
    "sns.heatmap(A.isnull(), cbar=False, cmap='viridis')\n",
    "plt.title('Missing Values Heatmap')\n",
    "plt.show()"
   ]
  },
  {
   "cell_type": "code",
   "execution_count": 35,
   "id": "b32e02e5",
   "metadata": {},
   "outputs": [
    {
     "data": {
      "text/html": [
       "<div>\n",
       "<style scoped>\n",
       "    .dataframe tbody tr th:only-of-type {\n",
       "        vertical-align: middle;\n",
       "    }\n",
       "\n",
       "    .dataframe tbody tr th {\n",
       "        vertical-align: top;\n",
       "    }\n",
       "\n",
       "    .dataframe thead th {\n",
       "        text-align: right;\n",
       "    }\n",
       "</style>\n",
       "<table border=\"1\" class=\"dataframe\">\n",
       "  <thead>\n",
       "    <tr style=\"text-align: right;\">\n",
       "      <th></th>\n",
       "      <th>price</th>\n",
       "      <th>stock_quantity</th>\n",
       "      <th>onsale_web</th>\n",
       "      <th>total_sales</th>\n",
       "      <th>post_title</th>\n",
       "      <th>post_modified</th>\n",
       "    </tr>\n",
       "  </thead>\n",
       "  <tbody>\n",
       "    <tr>\n",
       "      <th>178</th>\n",
       "      <td>86.1</td>\n",
       "      <td>0</td>\n",
       "      <td>0</td>\n",
       "      <td>NaN</td>\n",
       "      <td>NaN</td>\n",
       "      <td>NaT</td>\n",
       "    </tr>\n",
       "    <tr>\n",
       "      <th>179</th>\n",
       "      <td>73.0</td>\n",
       "      <td>0</td>\n",
       "      <td>0</td>\n",
       "      <td>NaN</td>\n",
       "      <td>NaN</td>\n",
       "      <td>NaT</td>\n",
       "    </tr>\n",
       "    <tr>\n",
       "      <th>180</th>\n",
       "      <td>47.0</td>\n",
       "      <td>0</td>\n",
       "      <td>0</td>\n",
       "      <td>NaN</td>\n",
       "      <td>NaN</td>\n",
       "      <td>NaT</td>\n",
       "    </tr>\n",
       "    <tr>\n",
       "      <th>181</th>\n",
       "      <td>14.1</td>\n",
       "      <td>0</td>\n",
       "      <td>0</td>\n",
       "      <td>NaN</td>\n",
       "      <td>NaN</td>\n",
       "      <td>NaT</td>\n",
       "    </tr>\n",
       "    <tr>\n",
       "      <th>182</th>\n",
       "      <td>73.5</td>\n",
       "      <td>0</td>\n",
       "      <td>0</td>\n",
       "      <td>NaN</td>\n",
       "      <td>NaN</td>\n",
       "      <td>NaT</td>\n",
       "    </tr>\n",
       "    <tr>\n",
       "      <th>...</th>\n",
       "      <td>...</td>\n",
       "      <td>...</td>\n",
       "      <td>...</td>\n",
       "      <td>...</td>\n",
       "      <td>...</td>\n",
       "      <td>...</td>\n",
       "    </tr>\n",
       "    <tr>\n",
       "      <th>264</th>\n",
       "      <td>31.0</td>\n",
       "      <td>55</td>\n",
       "      <td>0</td>\n",
       "      <td>NaN</td>\n",
       "      <td>NaN</td>\n",
       "      <td>NaT</td>\n",
       "    </tr>\n",
       "    <tr>\n",
       "      <th>265</th>\n",
       "      <td>31.0</td>\n",
       "      <td>6</td>\n",
       "      <td>0</td>\n",
       "      <td>NaN</td>\n",
       "      <td>NaN</td>\n",
       "      <td>NaT</td>\n",
       "    </tr>\n",
       "    <tr>\n",
       "      <th>266</th>\n",
       "      <td>31.0</td>\n",
       "      <td>18</td>\n",
       "      <td>0</td>\n",
       "      <td>NaN</td>\n",
       "      <td>NaN</td>\n",
       "      <td>NaT</td>\n",
       "    </tr>\n",
       "    <tr>\n",
       "      <th>267</th>\n",
       "      <td>45.0</td>\n",
       "      <td>30</td>\n",
       "      <td>0</td>\n",
       "      <td>NaN</td>\n",
       "      <td>NaN</td>\n",
       "      <td>NaT</td>\n",
       "    </tr>\n",
       "    <tr>\n",
       "      <th>268</th>\n",
       "      <td>45.0</td>\n",
       "      <td>9</td>\n",
       "      <td>0</td>\n",
       "      <td>NaN</td>\n",
       "      <td>NaN</td>\n",
       "      <td>NaT</td>\n",
       "    </tr>\n",
       "  </tbody>\n",
       "</table>\n",
       "<p>91 rows × 6 columns</p>\n",
       "</div>"
      ],
      "text/plain": [
       "     price  stock_quantity  onsale_web  total_sales post_title post_modified\n",
       "178   86.1               0           0          NaN        NaN           NaT\n",
       "179   73.0               0           0          NaN        NaN           NaT\n",
       "180   47.0               0           0          NaN        NaN           NaT\n",
       "181   14.1               0           0          NaN        NaN           NaT\n",
       "182   73.5               0           0          NaN        NaN           NaT\n",
       "..     ...             ...         ...          ...        ...           ...\n",
       "264   31.0              55           0          NaN        NaN           NaT\n",
       "265   31.0               6           0          NaN        NaN           NaT\n",
       "266   31.0              18           0          NaN        NaN           NaT\n",
       "267   45.0              30           0          NaN        NaN           NaT\n",
       "268   45.0               9           0          NaN        NaN           NaT\n",
       "\n",
       "[91 rows x 6 columns]"
      ]
     },
     "execution_count": 35,
     "metadata": {},
     "output_type": "execute_result"
    }
   ],
   "source": [
    "#Créer un dataframe \"ValManq\" qui Filtre seulement les valeurs manquantes de la colonne \"total_sales\" \n",
    "ValManq=A.loc[A['total_sales'].isnull(),:]\n",
    "ValManq"
   ]
  },
  {
   "cell_type": "markdown",
   "id": "07b3a683",
   "metadata": {},
   "source": [
    "**<span style=\"color:blue\">Dans le dataframe \"ValManq\", en ne filtrant que les valeurs manquantes de la colonnes 'total_sales' (\"total_sales\"=NaN), on remarque qu'il n'y a pas eu de ventes en ligne (\"onsale_web\"=0). Mais il  faut vérifier si c'est de cela qu'il s'agit. </span>**"
   ]
  },
  {
   "cell_type": "code",
   "execution_count": 36,
   "id": "af998ded",
   "metadata": {},
   "outputs": [
    {
     "data": {
      "text/plain": [
       "array([0, 1], dtype=int64)"
      ]
     },
     "execution_count": 36,
     "metadata": {},
     "output_type": "execute_result"
    }
   ],
   "source": [
    "#Vérifier que les valeurs manquantes du total des ventes \"total_sales\" est bien dû à l'absence d'achat en ligne\n",
    "ValManq['onsale_web'].unique()"
   ]
  },
  {
   "cell_type": "markdown",
   "id": "4cdb0b51",
   "metadata": {},
   "source": [
    "**<span style=\"color:blue\">Pour les achats en ligne \"onsale_web\", il y  a les valeurs 0 et 1. Donc ce n'est pas seulement les invendus qui provoque une absence de vente (\"total_sales'=NaN). Nous allons voir quelles sont les autres causes.</span>**"
   ]
  },
  {
   "cell_type": "code",
   "execution_count": 37,
   "id": "8256bbb5",
   "metadata": {},
   "outputs": [
    {
     "data": {
      "text/html": [
       "<div>\n",
       "<style scoped>\n",
       "    .dataframe tbody tr th:only-of-type {\n",
       "        vertical-align: middle;\n",
       "    }\n",
       "\n",
       "    .dataframe tbody tr th {\n",
       "        vertical-align: top;\n",
       "    }\n",
       "\n",
       "    .dataframe thead th {\n",
       "        text-align: right;\n",
       "    }\n",
       "</style>\n",
       "<table border=\"1\" class=\"dataframe\">\n",
       "  <thead>\n",
       "    <tr style=\"text-align: right;\">\n",
       "      <th></th>\n",
       "      <th>price</th>\n",
       "      <th>stock_quantity</th>\n",
       "      <th>onsale_web</th>\n",
       "      <th>total_sales</th>\n",
       "      <th>post_title</th>\n",
       "      <th>post_modified</th>\n",
       "    </tr>\n",
       "  </thead>\n",
       "  <tbody>\n",
       "    <tr>\n",
       "      <th>189</th>\n",
       "      <td>144.0</td>\n",
       "      <td>0</td>\n",
       "      <td>1</td>\n",
       "      <td>NaN</td>\n",
       "      <td>NaN</td>\n",
       "      <td>NaT</td>\n",
       "    </tr>\n",
       "    <tr>\n",
       "      <th>206</th>\n",
       "      <td>84.7</td>\n",
       "      <td>0</td>\n",
       "      <td>1</td>\n",
       "      <td>NaN</td>\n",
       "      <td>NaN</td>\n",
       "      <td>NaT</td>\n",
       "    </tr>\n",
       "    <tr>\n",
       "      <th>207</th>\n",
       "      <td>43.3</td>\n",
       "      <td>0</td>\n",
       "      <td>1</td>\n",
       "      <td>NaN</td>\n",
       "      <td>NaN</td>\n",
       "      <td>NaT</td>\n",
       "    </tr>\n",
       "  </tbody>\n",
       "</table>\n",
       "</div>"
      ],
      "text/plain": [
       "     price  stock_quantity  onsale_web  total_sales post_title post_modified\n",
       "189  144.0               0           1          NaN        NaN           NaT\n",
       "206   84.7               0           1          NaN        NaN           NaT\n",
       "207   43.3               0           1          NaN        NaN           NaT"
      ]
     },
     "execution_count": 37,
     "metadata": {},
     "output_type": "execute_result"
    }
   ],
   "source": [
    "#Filtrer la colonne \"onsale_web\" à 1 pour savoir quelles sont les autres raisons qui provoquent des invendus\n",
    "ValManq1=ValManq.loc[ValManq['onsale_web']==1]\n",
    "ValManq1"
   ]
  },
  {
   "cell_type": "markdown",
   "id": "b8034d86",
   "metadata": {},
   "source": [
    "**<span style=\"color:blue\">Dans le dataframe \"ValManq1\" en ne filtrant que \"onsale_web\"=1, on remarque qu'il n'y a pas de stock (\"stock_quantity\"=0). </span>**"
   ]
  },
  {
   "cell_type": "markdown",
   "id": "c88a3376",
   "metadata": {},
   "source": [
    "**<span style=\"color:blue\">Dans le dataframe \"ValManq1\" en ne filtrant que \"onsale_web\"=1, on remarque qu'il n'y a pas de stock (\"stock_quantity\"=0). </span>**"
   ]
  },
  {
   "cell_type": "code",
   "execution_count": 38,
   "id": "426673a2",
   "metadata": {},
   "outputs": [
    {
     "data": {
      "image/png": "[encoded data removed]",
      "text/plain": [
       "<Figure size 640x480 with 1 Axes>"
      ]
     },
     "metadata": {},
     "output_type": "display_data"
    }
   ],
   "source": [
    "#Calcul de la moyenne des prix \n",
    "MoyVenteTotale=A['total_sales'].mean()\n",
    "# Calcul du Prix médian\n",
    "VenteTotaleMedian=A['total_sales'].median()\n",
    "\n",
    "# Création de l'histogramme\n",
    "sns.histplot(A['total_sales'] , kde=True)\n",
    "\n",
    "# Ajout des labels des axes\n",
    "plt.xlabel('Total des ventes')\n",
    "plt.ylabel('Fréquence')\n",
    "#Ajout des légendes\n",
    "plt.axvline(MoyVenteTotale, color=\"black\", linestyle=\"--\")\n",
    "plt.axvline(VenteTotaleMedian, color=\"black\", linestyle=\"-\")\n",
    "plt.legend({\"Moyenne\":MoyVenteTotale,\"Mediane\":VenteTotaleMedian})\n",
    "# Affichage du graphique\n",
    "plt.show()"
   ]
  },
  {
   "cell_type": "markdown",
   "id": "d9e982c8",
   "metadata": {},
   "source": [
    "<div style=\"border: 1px solid RGB(0,200,200);\" >\n",
    "<h3 style=\"margin: auto; padding: 20px; color: RGB(0,200,200); \">3.2 - Calcul du chiffre d'affaire </h3>\n",
    "</div>"
   ]
  },
  {
   "cell_type": "markdown",
   "id": "23fd37de",
   "metadata": {},
   "source": [
    "## 3.2.1 - Calcul du chiffre d'affaire par produits"
   ]
  },
  {
   "cell_type": "code",
   "execution_count": 39,
   "id": "b2e5452c",
   "metadata": {},
   "outputs": [
    {
     "data": {
      "text/html": [
       "<div>\n",
       "<style scoped>\n",
       "    .dataframe tbody tr th:only-of-type {\n",
       "        vertical-align: middle;\n",
       "    }\n",
       "\n",
       "    .dataframe tbody tr th {\n",
       "        vertical-align: top;\n",
       "    }\n",
       "\n",
       "    .dataframe thead th {\n",
       "        text-align: right;\n",
       "    }\n",
       "</style>\n",
       "<table border=\"1\" class=\"dataframe\">\n",
       "  <thead>\n",
       "    <tr style=\"text-align: right;\">\n",
       "      <th></th>\n",
       "      <th>price</th>\n",
       "      <th>stock_quantity</th>\n",
       "      <th>onsale_web</th>\n",
       "      <th>total_sales</th>\n",
       "      <th>post_title</th>\n",
       "      <th>post_modified</th>\n",
       "      <th>Chiffre d'affaire</th>\n",
       "    </tr>\n",
       "  </thead>\n",
       "  <tbody>\n",
       "    <tr>\n",
       "      <th>0</th>\n",
       "      <td>25.0</td>\n",
       "      <td>0</td>\n",
       "      <td>1</td>\n",
       "      <td>10.0</td>\n",
       "      <td>Bon cadeau de 25€</td>\n",
       "      <td>2018-06-01 14:13:57</td>\n",
       "      <td>250.0</td>\n",
       "    </tr>\n",
       "    <tr>\n",
       "      <th>1</th>\n",
       "      <td>24.2</td>\n",
       "      <td>0</td>\n",
       "      <td>1</td>\n",
       "      <td>6.0</td>\n",
       "      <td>Pierre Jean Villa Saint-Joseph Préface 2018</td>\n",
       "      <td>2019-12-30 09:30:29</td>\n",
       "      <td>145.2</td>\n",
       "    </tr>\n",
       "    <tr>\n",
       "      <th>2</th>\n",
       "      <td>34.3</td>\n",
       "      <td>0</td>\n",
       "      <td>1</td>\n",
       "      <td>0.0</td>\n",
       "      <td>Pierre Jean Villa Saint-Joseph Rouge Tildé 2017</td>\n",
       "      <td>2019-12-21 09:00:17</td>\n",
       "      <td>0.0</td>\n",
       "    </tr>\n",
       "    <tr>\n",
       "      <th>3</th>\n",
       "      <td>20.8</td>\n",
       "      <td>0</td>\n",
       "      <td>1</td>\n",
       "      <td>0.0</td>\n",
       "      <td>Pierre Jean Villa Crozes-Hermitage Accroche Co...</td>\n",
       "      <td>2020-06-26 18:15:03</td>\n",
       "      <td>0.0</td>\n",
       "    </tr>\n",
       "    <tr>\n",
       "      <th>4</th>\n",
       "      <td>14.1</td>\n",
       "      <td>0</td>\n",
       "      <td>1</td>\n",
       "      <td>3.0</td>\n",
       "      <td>Pierre Jean Villa IGP Collines Rhodaniennes Ga...</td>\n",
       "      <td>2020-01-04 16:36:01</td>\n",
       "      <td>42.3</td>\n",
       "    </tr>\n",
       "  </tbody>\n",
       "</table>\n",
       "</div>"
      ],
      "text/plain": [
       "   price  stock_quantity  onsale_web  total_sales  \\\n",
       "0   25.0               0           1         10.0   \n",
       "1   24.2               0           1          6.0   \n",
       "2   34.3               0           1          0.0   \n",
       "3   20.8               0           1          0.0   \n",
       "4   14.1               0           1          3.0   \n",
       "\n",
       "                                          post_title       post_modified  \\\n",
       "0                                  Bon cadeau de 25€ 2018-06-01 14:13:57   \n",
       "1        Pierre Jean Villa Saint-Joseph Préface 2018 2019-12-30 09:30:29   \n",
       "2    Pierre Jean Villa Saint-Joseph Rouge Tildé 2017 2019-12-21 09:00:17   \n",
       "3  Pierre Jean Villa Crozes-Hermitage Accroche Co... 2020-06-26 18:15:03   \n",
       "4  Pierre Jean Villa IGP Collines Rhodaniennes Ga... 2020-01-04 16:36:01   \n",
       "\n",
       "   Chiffre d'affaire  \n",
       "0              250.0  \n",
       "1              145.2  \n",
       "2                0.0  \n",
       "3                0.0  \n",
       "4               42.3  "
      ]
     },
     "execution_count": 39,
     "metadata": {},
     "output_type": "execute_result"
    }
   ],
   "source": [
    "# Création de la colonne \"Chiffre d'affaire\" permettant de calculer le chiffre d'affaire par produits\n",
    "A[\"Chiffre d'affaire\"]=A['price']*A['total_sales']\n",
    "A.head(5)"
   ]
  },
  {
   "cell_type": "code",
   "execution_count": 40,
   "id": "928c9243",
   "metadata": {},
   "outputs": [],
   "source": [
    "# Remplacer les valeurs NaN par du vide ''\n",
    "A['post_title'] = A['post_title'].fillna('')"
   ]
  },
  {
   "cell_type": "code",
   "execution_count": 41,
   "id": "6ce4c73a",
   "metadata": {},
   "outputs": [
    {
     "data": {
      "text/html": [
       "<div>\n",
       "<style scoped>\n",
       "    .dataframe tbody tr th:only-of-type {\n",
       "        vertical-align: middle;\n",
       "    }\n",
       "\n",
       "    .dataframe tbody tr th {\n",
       "        vertical-align: top;\n",
       "    }\n",
       "\n",
       "    .dataframe thead th {\n",
       "        text-align: right;\n",
       "    }\n",
       "</style>\n",
       "<table border=\"1\" class=\"dataframe\">\n",
       "  <thead>\n",
       "    <tr style=\"text-align: right;\">\n",
       "      <th></th>\n",
       "      <th></th>\n",
       "      <th></th>\n",
       "      <th>stock_quantity</th>\n",
       "      <th>total_sales</th>\n",
       "      <th>Chiffre d'affaire</th>\n",
       "    </tr>\n",
       "    <tr>\n",
       "      <th>post_title</th>\n",
       "      <th>price</th>\n",
       "      <th>post_modified</th>\n",
       "      <th></th>\n",
       "      <th></th>\n",
       "      <th></th>\n",
       "    </tr>\n",
       "  </thead>\n",
       "  <tbody>\n",
       "    <tr>\n",
       "      <th>Agnès Levet Côte Rôtie Améthyste 2017</th>\n",
       "      <th>41.2</th>\n",
       "      <th>2020-05-21 14:00:02</th>\n",
       "      <td>0</td>\n",
       "      <td>4.0</td>\n",
       "      <td>164.8</td>\n",
       "    </tr>\n",
       "    <tr>\n",
       "      <th>Agnès Levet Côte Rôtie Maestria 2017</th>\n",
       "      <th>55.0</th>\n",
       "      <th>2020-07-25 15:45:02</th>\n",
       "      <td>11</td>\n",
       "      <td>3.0</td>\n",
       "      <td>165.0</td>\n",
       "    </tr>\n",
       "    <tr>\n",
       "      <th>Agnès Levet Côte Rôtie Péroline 2017</th>\n",
       "      <th>57.0</th>\n",
       "      <th>2020-07-28 09:45:02</th>\n",
       "      <td>26</td>\n",
       "      <td>3.0</td>\n",
       "      <td>171.0</td>\n",
       "    </tr>\n",
       "    <tr>\n",
       "      <th>Alain Graillot Crozes-Hermitage Blanc 2018</th>\n",
       "      <th>24.4</th>\n",
       "      <th>2020-07-28 09:45:02</th>\n",
       "      <td>1</td>\n",
       "      <td>10.0</td>\n",
       "      <td>244.0</td>\n",
       "    </tr>\n",
       "    <tr>\n",
       "      <th>Alain Graillot Crozes-Hermitage Rouge 2017</th>\n",
       "      <th>24.4</th>\n",
       "      <th>2020-07-18 10:55:03</th>\n",
       "      <td>0</td>\n",
       "      <td>6.0</td>\n",
       "      <td>146.4</td>\n",
       "    </tr>\n",
       "  </tbody>\n",
       "</table>\n",
       "</div>"
      ],
      "text/plain": [
       "                                                                      stock_quantity  \\\n",
       "post_title                                 price post_modified                         \n",
       "Agnès Levet Côte Rôtie Améthyste 2017      41.2  2020-05-21 14:00:02               0   \n",
       "Agnès Levet Côte Rôtie Maestria 2017       55.0  2020-07-25 15:45:02              11   \n",
       "Agnès Levet Côte Rôtie Péroline 2017       57.0  2020-07-28 09:45:02              26   \n",
       "Alain Graillot Crozes-Hermitage Blanc 2018 24.4  2020-07-28 09:45:02               1   \n",
       "Alain Graillot Crozes-Hermitage Rouge 2017 24.4  2020-07-18 10:55:03               0   \n",
       "\n",
       "                                                                      total_sales  \\\n",
       "post_title                                 price post_modified                      \n",
       "Agnès Levet Côte Rôtie Améthyste 2017      41.2  2020-05-21 14:00:02          4.0   \n",
       "Agnès Levet Côte Rôtie Maestria 2017       55.0  2020-07-25 15:45:02          3.0   \n",
       "Agnès Levet Côte Rôtie Péroline 2017       57.0  2020-07-28 09:45:02          3.0   \n",
       "Alain Graillot Crozes-Hermitage Blanc 2018 24.4  2020-07-28 09:45:02         10.0   \n",
       "Alain Graillot Crozes-Hermitage Rouge 2017 24.4  2020-07-18 10:55:03          6.0   \n",
       "\n",
       "                                                                      Chiffre d'affaire  \n",
       "post_title                                 price post_modified                           \n",
       "Agnès Levet Côte Rôtie Améthyste 2017      41.2  2020-05-21 14:00:02              164.8  \n",
       "Agnès Levet Côte Rôtie Maestria 2017       55.0  2020-07-25 15:45:02              165.0  \n",
       "Agnès Levet Côte Rôtie Péroline 2017       57.0  2020-07-28 09:45:02              171.0  \n",
       "Alain Graillot Crozes-Hermitage Blanc 2018 24.4  2020-07-28 09:45:02              244.0  \n",
       "Alain Graillot Crozes-Hermitage Rouge 2017 24.4  2020-07-18 10:55:03              146.4  "
      ]
     },
     "execution_count": 41,
     "metadata": {},
     "output_type": "execute_result"
    }
   ],
   "source": [
    "# Aggrégation par nom de vins et calcul du chiffre d'affaire par produits \n",
    "CA=A.groupby(['post_title','price','post_modified'])[['stock_quantity','total_sales',\"Chiffre d'affaire\"]] .sum()\n",
    "CA.head(5)"
   ]
  },
  {
   "cell_type": "code",
   "execution_count": 42,
   "id": "e5b90034",
   "metadata": {},
   "outputs": [
    {
     "data": {
      "text/html": [
       "<div>\n",
       "<style scoped>\n",
       "    .dataframe tbody tr th:only-of-type {\n",
       "        vertical-align: middle;\n",
       "    }\n",
       "\n",
       "    .dataframe tbody tr th {\n",
       "        vertical-align: top;\n",
       "    }\n",
       "\n",
       "    .dataframe thead th {\n",
       "        text-align: right;\n",
       "    }\n",
       "</style>\n",
       "<table border=\"1\" class=\"dataframe\">\n",
       "  <thead>\n",
       "    <tr style=\"text-align: right;\">\n",
       "      <th></th>\n",
       "      <th>post_title</th>\n",
       "      <th>price</th>\n",
       "      <th>post_modified</th>\n",
       "      <th>stock_quantity</th>\n",
       "      <th>total_sales</th>\n",
       "      <th>Chiffre d'affaire</th>\n",
       "    </tr>\n",
       "  </thead>\n",
       "  <tbody>\n",
       "    <tr>\n",
       "      <th>0</th>\n",
       "      <td>Agnès Levet Côte Rôtie Améthyste 2017</td>\n",
       "      <td>41.2</td>\n",
       "      <td>2020-05-21 14:00:02</td>\n",
       "      <td>0</td>\n",
       "      <td>4.0</td>\n",
       "      <td>164.8</td>\n",
       "    </tr>\n",
       "    <tr>\n",
       "      <th>1</th>\n",
       "      <td>Agnès Levet Côte Rôtie Maestria 2017</td>\n",
       "      <td>55.0</td>\n",
       "      <td>2020-07-25 15:45:02</td>\n",
       "      <td>11</td>\n",
       "      <td>3.0</td>\n",
       "      <td>165.0</td>\n",
       "    </tr>\n",
       "    <tr>\n",
       "      <th>2</th>\n",
       "      <td>Agnès Levet Côte Rôtie Péroline 2017</td>\n",
       "      <td>57.0</td>\n",
       "      <td>2020-07-28 09:45:02</td>\n",
       "      <td>26</td>\n",
       "      <td>3.0</td>\n",
       "      <td>171.0</td>\n",
       "    </tr>\n",
       "    <tr>\n",
       "      <th>3</th>\n",
       "      <td>Alain Graillot Crozes-Hermitage Blanc 2018</td>\n",
       "      <td>24.4</td>\n",
       "      <td>2020-07-28 09:45:02</td>\n",
       "      <td>1</td>\n",
       "      <td>10.0</td>\n",
       "      <td>244.0</td>\n",
       "    </tr>\n",
       "    <tr>\n",
       "      <th>4</th>\n",
       "      <td>Alain Graillot Crozes-Hermitage Rouge 2017</td>\n",
       "      <td>24.4</td>\n",
       "      <td>2020-07-18 10:55:03</td>\n",
       "      <td>0</td>\n",
       "      <td>6.0</td>\n",
       "      <td>146.4</td>\n",
       "    </tr>\n",
       "  </tbody>\n",
       "</table>\n",
       "</div>"
      ],
      "text/plain": [
       "                                   post_title  price       post_modified  \\\n",
       "0       Agnès Levet Côte Rôtie Améthyste 2017   41.2 2020-05-21 14:00:02   \n",
       "1        Agnès Levet Côte Rôtie Maestria 2017   55.0 2020-07-25 15:45:02   \n",
       "2        Agnès Levet Côte Rôtie Péroline 2017   57.0 2020-07-28 09:45:02   \n",
       "3  Alain Graillot Crozes-Hermitage Blanc 2018   24.4 2020-07-28 09:45:02   \n",
       "4  Alain Graillot Crozes-Hermitage Rouge 2017   24.4 2020-07-18 10:55:03   \n",
       "\n",
       "   stock_quantity  total_sales  Chiffre d'affaire  \n",
       "0               0          4.0              164.8  \n",
       "1              11          3.0              165.0  \n",
       "2              26          3.0              171.0  \n",
       "3               1         10.0              244.0  \n",
       "4               0          6.0              146.4  "
      ]
     },
     "execution_count": 42,
     "metadata": {},
     "output_type": "execute_result"
    }
   ],
   "source": [
    "# Réinitialisation de l'index pour restaurer les colonnes \"post_title\", \"price\" et \"post_modified\" \n",
    "CA = CA.reset_index()\n",
    "CA.head(5)"
   ]
  },
  {
   "cell_type": "code",
   "execution_count": 43,
   "id": "c33f4ddc",
   "metadata": {},
   "outputs": [
    {
     "data": {
      "text/plain": [
       "(714, 6)"
      ]
     },
     "execution_count": 43,
     "metadata": {},
     "output_type": "execute_result"
    }
   ],
   "source": [
    "CA.shape"
   ]
  },
  {
   "cell_type": "code",
   "execution_count": 44,
   "id": "c0382263",
   "metadata": {},
   "outputs": [
    {
     "data": {
      "text/plain": [
       "(0.0, 5000.0)"
      ]
     },
     "execution_count": 44,
     "metadata": {},
     "output_type": "execute_result"
    },
    {
     "data": {
      "image/png": "[encoded data removed]",
      "text/plain": [
       "<Figure size 1500x600 with 1 Axes>"
      ]
     },
     "metadata": {},
     "output_type": "display_data"
    }
   ],
   "source": [
    "# Fréquence où la boutique en ligne réalise des ventes \n",
    "plt.figure(figsize=(15,6))\n",
    "CA[\"Chiffre d'affaire\"].plot.hist(bins=20)\n",
    "\n",
    "# Ajout des labels des axes\n",
    "plt.title(\"Répartition du chiffre d'affaire par fréquence\")\n",
    "plt.xlabel(\"Chiffre d'affaire\")\n",
    "plt.ylabel('Fréquence')\n",
    "plt.grid(True)\n",
    "\n",
    "plt.xlim(0,5000)"
   ]
  },
  {
   "cell_type": "code",
   "execution_count": 45,
   "id": "953c70f3",
   "metadata": {},
   "outputs": [
    {
     "data": {
      "text/html": [
       "<div>\n",
       "<style scoped>\n",
       "    .dataframe tbody tr th:only-of-type {\n",
       "        vertical-align: middle;\n",
       "    }\n",
       "\n",
       "    .dataframe tbody tr th {\n",
       "        vertical-align: top;\n",
       "    }\n",
       "\n",
       "    .dataframe thead th {\n",
       "        text-align: right;\n",
       "    }\n",
       "</style>\n",
       "<table border=\"1\" class=\"dataframe\">\n",
       "  <thead>\n",
       "    <tr style=\"text-align: right;\">\n",
       "      <th></th>\n",
       "      <th>post_title</th>\n",
       "      <th>price</th>\n",
       "      <th>post_modified</th>\n",
       "      <th>stock_quantity</th>\n",
       "      <th>total_sales</th>\n",
       "      <th>Chiffre d'affaire</th>\n",
       "    </tr>\n",
       "  </thead>\n",
       "  <tbody>\n",
       "    <tr>\n",
       "      <th>94</th>\n",
       "      <td>Champagne Gosset Grand Blanc de Blancs</td>\n",
       "      <td>49.0</td>\n",
       "      <td>2020-08-12 14:00:03</td>\n",
       "      <td>0</td>\n",
       "      <td>96.0</td>\n",
       "      <td>4704.0</td>\n",
       "    </tr>\n",
       "    <tr>\n",
       "      <th>96</th>\n",
       "      <td>Champagne Gosset Grand Rosé</td>\n",
       "      <td>49.0</td>\n",
       "      <td>2020-08-14 16:45:03</td>\n",
       "      <td>11</td>\n",
       "      <td>87.0</td>\n",
       "      <td>4263.0</td>\n",
       "    </tr>\n",
       "    <tr>\n",
       "      <th>201</th>\n",
       "      <td>Cognac Frapin VIP XO</td>\n",
       "      <td>176.0</td>\n",
       "      <td>2020-08-22 11:35:03</td>\n",
       "      <td>8</td>\n",
       "      <td>13.0</td>\n",
       "      <td>2288.0</td>\n",
       "    </tr>\n",
       "    <tr>\n",
       "      <th>95</th>\n",
       "      <td>Champagne Gosset Grand Millésime 2006</td>\n",
       "      <td>53.0</td>\n",
       "      <td>2020-08-20 09:30:03</td>\n",
       "      <td>8</td>\n",
       "      <td>30.0</td>\n",
       "      <td>1590.0</td>\n",
       "    </tr>\n",
       "    <tr>\n",
       "      <th>97</th>\n",
       "      <td>Champagne Gosset Grande Réserve</td>\n",
       "      <td>39.0</td>\n",
       "      <td>2020-08-27 11:25:02</td>\n",
       "      <td>1</td>\n",
       "      <td>40.0</td>\n",
       "      <td>1560.0</td>\n",
       "    </tr>\n",
       "    <tr>\n",
       "      <th>87</th>\n",
       "      <td>Champagne Egly-Ouriet Grand Cru Blanc de Noirs</td>\n",
       "      <td>126.5</td>\n",
       "      <td>2020-08-13 10:15:02</td>\n",
       "      <td>2</td>\n",
       "      <td>11.0</td>\n",
       "      <td>1391.5</td>\n",
       "    </tr>\n",
       "    <tr>\n",
       "      <th>91</th>\n",
       "      <td>Champagne Egly-Ouriet Grand Cru Millésimé 2008</td>\n",
       "      <td>225.0</td>\n",
       "      <td>2020-03-07 11:18:45</td>\n",
       "      <td>0</td>\n",
       "      <td>5.0</td>\n",
       "      <td>1125.0</td>\n",
       "    </tr>\n",
       "    <tr>\n",
       "      <th>395</th>\n",
       "      <td>Elian Daros Côtes du Marmandais Clos Baquey 2015</td>\n",
       "      <td>29.0</td>\n",
       "      <td>2020-07-28 15:25:03</td>\n",
       "      <td>0</td>\n",
       "      <td>36.0</td>\n",
       "      <td>1044.0</td>\n",
       "    </tr>\n",
       "    <tr>\n",
       "      <th>254</th>\n",
       "      <td>Domaine Giudicelli Patrimonio Blanc 2019</td>\n",
       "      <td>25.2</td>\n",
       "      <td>2020-08-27 10:12:58</td>\n",
       "      <td>120</td>\n",
       "      <td>41.0</td>\n",
       "      <td>1033.2</td>\n",
       "    </tr>\n",
       "    <tr>\n",
       "      <th>427</th>\n",
       "      <td>Gilles Robin Crozes-Hermitage Rouge Papillon 2019</td>\n",
       "      <td>16.6</td>\n",
       "      <td>2020-08-27 16:05:04</td>\n",
       "      <td>157</td>\n",
       "      <td>62.0</td>\n",
       "      <td>1029.2</td>\n",
       "    </tr>\n",
       "  </tbody>\n",
       "</table>\n",
       "</div>"
      ],
      "text/plain": [
       "                                            post_title  price  \\\n",
       "94              Champagne Gosset Grand Blanc de Blancs   49.0   \n",
       "96                         Champagne Gosset Grand Rosé   49.0   \n",
       "201                               Cognac Frapin VIP XO  176.0   \n",
       "95               Champagne Gosset Grand Millésime 2006   53.0   \n",
       "97                     Champagne Gosset Grande Réserve   39.0   \n",
       "87      Champagne Egly-Ouriet Grand Cru Blanc de Noirs  126.5   \n",
       "91      Champagne Egly-Ouriet Grand Cru Millésimé 2008  225.0   \n",
       "395   Elian Daros Côtes du Marmandais Clos Baquey 2015   29.0   \n",
       "254           Domaine Giudicelli Patrimonio Blanc 2019   25.2   \n",
       "427  Gilles Robin Crozes-Hermitage Rouge Papillon 2019   16.6   \n",
       "\n",
       "          post_modified  stock_quantity  total_sales  Chiffre d'affaire  \n",
       "94  2020-08-12 14:00:03               0         96.0             4704.0  \n",
       "96  2020-08-14 16:45:03              11         87.0             4263.0  \n",
       "201 2020-08-22 11:35:03               8         13.0             2288.0  \n",
       "95  2020-08-20 09:30:03               8         30.0             1590.0  \n",
       "97  2020-08-27 11:25:02               1         40.0             1560.0  \n",
       "87  2020-08-13 10:15:02               2         11.0             1391.5  \n",
       "91  2020-03-07 11:18:45               0          5.0             1125.0  \n",
       "395 2020-07-28 15:25:03               0         36.0             1044.0  \n",
       "254 2020-08-27 10:12:58             120         41.0             1033.2  \n",
       "427 2020-08-27 16:05:04             157         62.0             1029.2  "
      ]
     },
     "execution_count": 45,
     "metadata": {},
     "output_type": "execute_result"
    }
   ],
   "source": [
    "# Affichage des 10 chiffre d'affaire les plus élevés\n",
    "CA_Eleve=CA.sort_values(\"Chiffre d'affaire\", ascending=False).head(10)\n",
    "CA_Eleve"
   ]
  },
  {
   "cell_type": "code",
   "execution_count": 46,
   "id": "747ef471",
   "metadata": {},
   "outputs": [
    {
     "data": {
      "image/png": "[encoded data removed]",
      "text/plain": [
       "<Figure size 1600x1000 with 1 Axes>"
      ]
     },
     "metadata": {},
     "output_type": "display_data"
    }
   ],
   "source": [
    "#Graphique à barre représentant les 10 produits générant le plus de revenu\n",
    "plt.figure(figsize=(16,10))\n",
    "plt.title('Les 10 produits générant le plus revenu')\n",
    "plt.rcParams.update({'font.size': 16})\n",
    "ax=sns.barplot(data=CA_Eleve, x=\"Chiffre d'affaire\", y='post_title', ci=None, estimator=sum)\n",
    "ax.bar_label(ax.containers[0], fontsize=12)\n",
    "plt.show()"
   ]
  },
  {
   "cell_type": "markdown",
   "id": "674bc44b",
   "metadata": {},
   "source": [
    "## 3.2.2 - Calcul du chiffre d'affaire total des 10 produits générant le plus de revenus"
   ]
  },
  {
   "cell_type": "code",
   "execution_count": 47,
   "id": "a07ce57f",
   "metadata": {},
   "outputs": [
    {
     "name": "stdout",
     "output_type": "stream",
     "text": [
      "Le chiffre d'affaire est de: 20027.9 €\n"
     ]
    }
   ],
   "source": [
    "#Calcul du chiffre d'affaire total \n",
    "Total_CA_Eleve=CA_Eleve[\"Chiffre d'affaire\"].sum()\n",
    "print(\"Le chiffre d'affaire est de:\", round(Total_CA_Eleve,3), \"€\")"
   ]
  },
  {
   "cell_type": "code",
   "execution_count": 48,
   "id": "4fc8cada",
   "metadata": {},
   "outputs": [
    {
     "data": {
      "text/plain": [
       "count      10.000000\n",
       "mean     2002.790000\n",
       "std      1366.436537\n",
       "min      1029.200000\n",
       "25%      1064.250000\n",
       "50%      1475.750000\n",
       "75%      2113.500000\n",
       "max      4704.000000\n",
       "Name: Chiffre d'affaire, dtype: float64"
      ]
     },
     "execution_count": 48,
     "metadata": {},
     "output_type": "execute_result"
    }
   ],
   "source": [
    "#Statistiques du chiffre d'affaire\n",
    "CA_Eleve_Stat=CA_Eleve[\"Chiffre d'affaire\"].describe()\n",
    "CA_Eleve_Stat"
   ]
  },
  {
   "cell_type": "code",
   "execution_count": 49,
   "id": "040fe235",
   "metadata": {},
   "outputs": [
    {
     "data": {
      "text/plain": [
       "(0.0, 5000.0)"
      ]
     },
     "execution_count": 49,
     "metadata": {},
     "output_type": "execute_result"
    },
    {
     "data": {
      "image/png": "[encoded data removed]",
      "text/plain": [
       "<Figure size 1500x600 with 1 Axes>"
      ]
     },
     "metadata": {},
     "output_type": "display_data"
    }
   ],
   "source": [
    "# Fréquence où la boutique en ligne réalise des ventes \n",
    "plt.figure(figsize=(15,6))\n",
    "CA_Eleve[\"Chiffre d'affaire\"].plot.hist(bins=20)\n",
    "\n",
    "# Ajout des labels des axes\n",
    "plt.title(\"Répartition du chiffre d'affaire par fréquence\")\n",
    "plt.xlabel(\"Chiffre d'affaire\")\n",
    "plt.ylabel('Fréquence')\n",
    "plt.grid(True)\n",
    "\n",
    "\n",
    "plt.xlim(0,5000)"
   ]
  },
  {
   "cell_type": "markdown",
   "id": "39f5efba",
   "metadata": {},
   "source": [
    "## 3.2.3 - Calcul du chiffre d'affaire total"
   ]
  },
  {
   "cell_type": "code",
   "execution_count": 50,
   "id": "5534a0f2",
   "metadata": {},
   "outputs": [
    {
     "name": "stdout",
     "output_type": "stream",
     "text": [
      "Le chiffre d'affaire est de: 70568.6 €\n"
     ]
    }
   ],
   "source": [
    "#Calcul du chiffre d'affaire total \n",
    "Total_CA=CA[\"Chiffre d'affaire\"].sum()\n",
    "print(\"Le chiffre d'affaire est de:\", round(Total_CA,3), \"€\")"
   ]
  },
  {
   "cell_type": "code",
   "execution_count": 51,
   "id": "38574e62",
   "metadata": {},
   "outputs": [
    {
     "data": {
      "text/plain": [
       "count     714.000000\n",
       "mean       98.835574\n",
       "std       307.685071\n",
       "min         0.000000\n",
       "25%         0.000000\n",
       "50%        15.250000\n",
       "75%        91.150000\n",
       "max      4704.000000\n",
       "Name: Chiffre d'affaire, dtype: float64"
      ]
     },
     "execution_count": 51,
     "metadata": {},
     "output_type": "execute_result"
    }
   ],
   "source": [
    "#Statistiques du chiffre d'affaire\n",
    "CA_Stat=CA[\"Chiffre d'affaire\"] .describe()\n",
    "CA_Stat"
   ]
  },
  {
   "cell_type": "code",
   "execution_count": 52,
   "id": "111053ee",
   "metadata": {},
   "outputs": [],
   "source": [
    "CA=CA.loc[CA[\"total_sales\"]>0]\n"
   ]
  },
  {
   "cell_type": "code",
   "execution_count": 53,
   "id": "b687da25",
   "metadata": {},
   "outputs": [
    {
     "data": {
      "text/plain": [
       "count     385.00\n",
       "mean      183.30\n",
       "std       400.32\n",
       "min         6.50\n",
       "25%        38.60\n",
       "50%        81.60\n",
       "75%       164.40\n",
       "max      4704.00\n",
       "Name: Chiffre d'affaire, dtype: float64"
      ]
     },
     "execution_count": 53,
     "metadata": {},
     "output_type": "execute_result"
    }
   ],
   "source": [
    "#Statistiques du chiffre d'affaire\n",
    "CA_Stat=CA[\"Chiffre d'affaire\"] .describe()\n",
    "round(CA_Stat,2)"
   ]
  },
  {
   "cell_type": "markdown",
   "id": "97752ae3",
   "metadata": {},
   "source": [
    "**<span style=\"color:blue\"> Si l'on exclue les bouteilles invendues (totales_sales=0) alors le nombre de fois où l'entreprise fait un chiffre d'affaire passe de 715 à 385. </span>**"
   ]
  },
  {
   "cell_type": "markdown",
   "id": "d2d0e338",
   "metadata": {},
   "source": [
    "<div style=\"border: 1px solid RGB(0,200,200);\" >\n",
    "<h3 style=\"margin: auto; padding: 20px; color: RGB(0,200,200); \">3.3- Vérifier les erreurs de saisies dans certains prix des produits </h3>\n",
    "</div>"
   ]
  },
  {
   "cell_type": "markdown",
   "id": "15548c81",
   "metadata": {},
   "source": [
    "<div style=\"border: 1px solid RGB(0,200,200);\" >\n",
    "<h3 style=\"margin: auto; padding: 20px; color: RGB(0,200,200); \">3.3.1- Représentation graphique des \"erreurs\" </h3>\n",
    "</div>"
   ]
  },
  {
   "cell_type": "markdown",
   "id": "ae2b894d",
   "metadata": {},
   "source": [
    "## 3.3.1.1 - Visualisation des outliers grâce à un boxplot"
   ]
  },
  {
   "cell_type": "code",
   "execution_count": 54,
   "id": "2bfc859a",
   "metadata": {},
   "outputs": [
    {
     "data": {
      "image/png": "[encoded data removed]",
      "text/plain": [
       "<Figure size 640x480 with 1 Axes>"
      ]
     },
     "metadata": {},
     "output_type": "display_data"
    }
   ],
   "source": [
    "# Visualisation des outliers grâce à un bloxplot\n",
    "A.boxplot(column=\"price\", vert=False)\n",
    "plt.show()"
   ]
  },
  {
   "cell_type": "markdown",
   "id": "961a5617",
   "metadata": {},
   "source": [
    "## 3.3.1.2 - Détection des outliers par calcul (méthode des interquartiles)"
   ]
  },
  {
   "cell_type": "code",
   "execution_count": 55,
   "id": "433c9365",
   "metadata": {},
   "outputs": [
    {
     "name": "stdout",
     "output_type": "stream",
     "text": [
      "Premier quartile :  14.6\n",
      "Deuxième quartile (médiane) :  24.4\n",
      "Troisième quartile :  42.5\n",
      "Interquartile :  27.9\n"
     ]
    }
   ],
   "source": [
    "# Calculer les quartiles\n",
    "Q1 = A['price'].quantile(0.25)\n",
    "Q2 = A['price'].quantile(0.5)\n",
    "Q3 = A['price'].quantile(0.75)\n",
    "\n",
    "# Calculer l'interquartile\n",
    "IQR = Q3 - Q1\n",
    "\n",
    "print(\"Premier quartile : \", Q1)\n",
    "print(\"Deuxième quartile (médiane) : \", Q2)\n",
    "print(\"Troisième quartile : \", Q3)\n",
    "print(\"Interquartile : \", IQR)"
   ]
  },
  {
   "cell_type": "code",
   "execution_count": 56,
   "id": "72e476df",
   "metadata": {},
   "outputs": [
    {
     "name": "stdout",
     "output_type": "stream",
     "text": [
      "Le prix minimal est de : -27.25\n",
      "Le prix maximal est de : 84.35\n"
     ]
    }
   ],
   "source": [
    "# Calcul des valeurs limites\n",
    "Xmin=Q1-(1.5*IQR)\n",
    "Xmax=Q3+(1.5*IQR)\n",
    "\n",
    "print(\"Le prix minimal est de :\",round(Xmin,2))\n",
    "print(\"Le prix maximal est de :\",Xmax)"
   ]
  },
  {
   "cell_type": "code",
   "execution_count": 57,
   "id": "24a712a9",
   "metadata": {},
   "outputs": [
    {
     "name": "stdout",
     "output_type": "stream",
     "text": [
      "Nombres d'outliers détectés: 36\n",
      "[100.0, 88.4, 86.1, 144.0, 84.7, 92.0, 225.0, 126.5, 85.6, 176.0, 108.5, 157.0, 104.0, 109.6, 102.3, 137.0, 217.5, 105.0, 105.0, 112.0, 86.8, 92.0, 124.8, 175.0, 191.3, 93.0, 122.0, 114.0, 135.0, 105.6, 116.4, 115.0, 121.0, 99.0, 115.0, 121.0]\n"
     ]
    }
   ],
   "source": [
    "# Recherche des outliers en cherchant qui sont au-dessus de la limite supérieure et en-dessous de la limite inférieure\n",
    "ValeursExtremes=A.dropna()\n",
    "ValeursExtremes=A[(A['price']>Xmax)|(A['price']<Xmin)]\n",
    "\n",
    "\n",
    "# Affichage du nombre d'outliers\n",
    "print(\"Nombres d'outliers détectés: \"+ str(len(ValeursExtremes)))\n",
    "print(list(ValeursExtremes['price']))"
   ]
  },
  {
   "cell_type": "markdown",
   "id": "949190a9",
   "metadata": {},
   "source": [
    "## 3.3.1.3 - Visualisation des outliers grâce à un histogramme "
   ]
  },
  {
   "cell_type": "code",
   "execution_count": 58,
   "id": "d88001cc",
   "metadata": {},
   "outputs": [
    {
     "data": {
      "image/png": "[encoded data removed]",
      "text/plain": [
       "<Figure size 640x480 with 1 Axes>"
      ]
     },
     "metadata": {},
     "output_type": "display_data"
    }
   ],
   "source": [
    "#Calcul de la moyenne des prix \n",
    "MoyPrix=A['price'].mean()\n",
    "# Calcul du Prix médian\n",
    "PrixMedian=A['price'].median()\n",
    "\n",
    "# Création de l'histogramme\n",
    "sns.histplot(A['price'] , kde=True)\n",
    "\n",
    "# Ajout des labels des axes\n",
    "plt.xlabel('Prix')\n",
    "plt.ylabel('Fréquence')\n",
    "#Ajout des légendes\n",
    "plt.axvline(MoyPrix, color=\"black\", linestyle=\"--\")\n",
    "plt.axvline(PrixMedian, color=\"black\", linestyle=\"-\")\n",
    "plt.legend({\"Moyenne\":MoyPrix,\"Mediane\":PrixMedian})\n",
    "# Affichage du graphique\n",
    "plt.show()"
   ]
  },
  {
   "cell_type": "markdown",
   "id": "a6603658",
   "metadata": {},
   "source": [
    "### a. Déterminer les tendances centrales de l'ensemble des prix"
   ]
  },
  {
   "cell_type": "code",
   "execution_count": 59,
   "id": "e01b72a8",
   "metadata": {},
   "outputs": [
    {
     "name": "stdout",
     "output_type": "stream",
     "text": [
      "Les prix les plus fréquents sont de : 0    45.0\n",
      "Name: price, dtype: float64\n",
      "La moyenne des prix:  32.67\n",
      "Le prix médian :  24.4\n"
     ]
    }
   ],
   "source": [
    "# Calcul du mode\n",
    "Mode=A['price'].mode()\n",
    "#Calcul de la moyenne des prix \n",
    "MoyPrix=A['price'].mean()\n",
    "# Prix médian\n",
    "PrixMedian=A['price'].median()\n",
    "print(\"Les prix les plus fréquents sont de :\", Mode)\n",
    "print(\"La moyenne des prix: \", round(MoyPrix,2))\n",
    "print(\"Le prix médian : \", PrixMedian)"
   ]
  },
  {
   "cell_type": "markdown",
   "id": "e4ff8869",
   "metadata": {},
   "source": [
    "###  b. Déterminer les dispersions"
   ]
  },
  {
   "cell_type": "code",
   "execution_count": 60,
   "id": "dc92a14f",
   "metadata": {},
   "outputs": [
    {
     "name": "stdout",
     "output_type": "stream",
     "text": [
      "Résultat pour la variance:  730.93\n",
      "Résultat pour l'écart-type:  27.04\n",
      "Résultat pour le coefficient de variance :  82.77\n"
     ]
    }
   ],
   "source": [
    "#Calcul de variance\n",
    "Variance=A['price'].var()\n",
    "# Calcul de l'écart-type\n",
    "EcartType=A['price'].std()\n",
    "round(EcartType,2)\n",
    "#Calcul du Coefficient de variation\n",
    "CV=(A['price'].std()/A['price'].mean())*100\n",
    "\n",
    "print(\"Résultat pour la variance: \", round(Variance,2))\n",
    "print(\"Résultat pour l'écart-type: \", round(EcartType,2))\n",
    "print(\"Résultat pour le coefficient de variance : \", round(CV,2))"
   ]
  },
  {
   "cell_type": "markdown",
   "id": "354931b1",
   "metadata": {},
   "source": [
    "**<span style=\"color:blue\">Si le prix médian des bouteilles de vin est de 24.4 et que l'écart-type est de 27.04, il y a donc une certaine dispersion des prix autour de la médiane. Comparé à la moyenne, qui était de 32.42, le prix médian de 24.4 suggère que les prix sont asymétriquement distribués.</span>**\n",
    "\n",
    "**<span style=\"color:blue\">L'écart-type de 27.04 est relativement élevé par rapport à la médiane de 24.4, les prix individuels des bouteilles de vin peuvent varier considérablement par rapport à la médiane. Certains prix sont beaucoup plus élevés que la médiane, ce qui contribue à l'écart-type élevé. </span>**"
   ]
  },
  {
   "cell_type": "markdown",
   "id": "abca5f32",
   "metadata": {},
   "source": [
    "### c. Déterminer les mesures de forme"
   ]
  },
  {
   "cell_type": "code",
   "execution_count": 61,
   "id": "97d22ec1",
   "metadata": {},
   "outputs": [
    {
     "name": "stdout",
     "output_type": "stream",
     "text": [
      "Le skewness est de: 2.59\n"
     ]
    }
   ],
   "source": [
    "# Calcul des mesures de forme\n",
    "skewness=A['price'].skew()\n",
    "print(\"Le skewness est de:\", round(skewness,2) )"
   ]
  },
  {
   "cell_type": "markdown",
   "id": "0cecd1a9",
   "metadata": {},
   "source": [
    "**<span style=\"color:blue\">C'est une asymétrie positive, La distribution des prix est étalée vers la gauche et la queue de la distribution est étendue vers la la droite.Il y a une plus grande concentration de prix en-dessous de la moyenne avec une dispersion de quelques valeurs très élevées . </span>**"
   ]
  },
  {
   "cell_type": "markdown",
   "id": "1e233636",
   "metadata": {},
   "source": [
    "<div style=\"border: 1px solid RGB(0,200,200);\" >\n",
    "<h3 style=\"margin: auto; padding: 20px; color: RGB(0,200,200); \">3.3.2- Liste de valeurs aberrantes </h3>\n",
    "</div>"
   ]
  },
  {
   "cell_type": "markdown",
   "id": "6cf2692c",
   "metadata": {},
   "source": [
    "## 3.3.2.1 - Création d'un sous-dataset \"PrixEleve\" qui va répertorié les \"prix aberrants"
   ]
  },
  {
   "cell_type": "code",
   "execution_count": 62,
   "id": "a44910a0",
   "metadata": {},
   "outputs": [],
   "source": [
    "# Création d'une colonne prix aberrants (outliers) permettant de calculer les outliers par la méthode IQR (interquartile)\n",
    "A['prix aberrants']=A['price'][A['price']>Xmax]\n"
   ]
  },
  {
   "cell_type": "code",
   "execution_count": 63,
   "id": "02e7194b",
   "metadata": {},
   "outputs": [
    {
     "data": {
      "text/html": [
       "<div>\n",
       "<style scoped>\n",
       "    .dataframe tbody tr th:only-of-type {\n",
       "        vertical-align: middle;\n",
       "    }\n",
       "\n",
       "    .dataframe tbody tr th {\n",
       "        vertical-align: top;\n",
       "    }\n",
       "\n",
       "    .dataframe thead th {\n",
       "        text-align: right;\n",
       "    }\n",
       "</style>\n",
       "<table border=\"1\" class=\"dataframe\">\n",
       "  <thead>\n",
       "    <tr style=\"text-align: right;\">\n",
       "      <th></th>\n",
       "      <th>price</th>\n",
       "      <th>stock_quantity</th>\n",
       "      <th>onsale_web</th>\n",
       "      <th>total_sales</th>\n",
       "      <th>post_title</th>\n",
       "      <th>post_modified</th>\n",
       "      <th>Chiffre d'affaire</th>\n",
       "      <th>prix aberrants</th>\n",
       "    </tr>\n",
       "  </thead>\n",
       "  <tbody>\n",
       "    <tr>\n",
       "      <th>64</th>\n",
       "      <td>100.0</td>\n",
       "      <td>11</td>\n",
       "      <td>1</td>\n",
       "      <td>0.0</td>\n",
       "      <td>Zind-Humbrecht Riesling Grand Cru Rangen De Th...</td>\n",
       "      <td>2020-02-08 11:45:02</td>\n",
       "      <td>0.0</td>\n",
       "      <td>100.0</td>\n",
       "    </tr>\n",
       "    <tr>\n",
       "      <th>66</th>\n",
       "      <td>88.4</td>\n",
       "      <td>5</td>\n",
       "      <td>1</td>\n",
       "      <td>0.0</td>\n",
       "      <td>Zind-Humbrecht Pinot Gris Grand Cru Rangen De ...</td>\n",
       "      <td>2020-02-20 09:55:02</td>\n",
       "      <td>0.0</td>\n",
       "      <td>88.4</td>\n",
       "    </tr>\n",
       "    <tr>\n",
       "      <th>178</th>\n",
       "      <td>86.1</td>\n",
       "      <td>0</td>\n",
       "      <td>0</td>\n",
       "      <td>NaN</td>\n",
       "      <td></td>\n",
       "      <td>NaT</td>\n",
       "      <td>NaN</td>\n",
       "      <td>86.1</td>\n",
       "    </tr>\n",
       "    <tr>\n",
       "      <th>189</th>\n",
       "      <td>144.0</td>\n",
       "      <td>0</td>\n",
       "      <td>1</td>\n",
       "      <td>NaN</td>\n",
       "      <td></td>\n",
       "      <td>NaT</td>\n",
       "      <td>NaN</td>\n",
       "      <td>144.0</td>\n",
       "    </tr>\n",
       "    <tr>\n",
       "      <th>206</th>\n",
       "      <td>84.7</td>\n",
       "      <td>0</td>\n",
       "      <td>1</td>\n",
       "      <td>NaN</td>\n",
       "      <td></td>\n",
       "      <td>NaT</td>\n",
       "      <td>NaN</td>\n",
       "      <td>84.7</td>\n",
       "    </tr>\n",
       "    <tr>\n",
       "      <th>214</th>\n",
       "      <td>92.0</td>\n",
       "      <td>18</td>\n",
       "      <td>0</td>\n",
       "      <td>NaN</td>\n",
       "      <td></td>\n",
       "      <td>NaT</td>\n",
       "      <td>NaN</td>\n",
       "      <td>92.0</td>\n",
       "    </tr>\n",
       "    <tr>\n",
       "      <th>291</th>\n",
       "      <td>225.0</td>\n",
       "      <td>0</td>\n",
       "      <td>1</td>\n",
       "      <td>5.0</td>\n",
       "      <td>Champagne Egly-Ouriet Grand Cru Millésimé 2008</td>\n",
       "      <td>2020-03-07 11:18:45</td>\n",
       "      <td>1125.0</td>\n",
       "      <td>225.0</td>\n",
       "    </tr>\n",
       "    <tr>\n",
       "      <th>293</th>\n",
       "      <td>126.5</td>\n",
       "      <td>2</td>\n",
       "      <td>1</td>\n",
       "      <td>11.0</td>\n",
       "      <td>Champagne Egly-Ouriet Grand Cru Blanc de Noirs</td>\n",
       "      <td>2020-08-13 10:15:02</td>\n",
       "      <td>1391.5</td>\n",
       "      <td>126.5</td>\n",
       "    </tr>\n",
       "    <tr>\n",
       "      <th>297</th>\n",
       "      <td>85.6</td>\n",
       "      <td>0</td>\n",
       "      <td>1</td>\n",
       "      <td>1.0</td>\n",
       "      <td>Champagne Larmandier-Bernier Grand Cru Les Che...</td>\n",
       "      <td>2019-12-23 09:30:11</td>\n",
       "      <td>85.6</td>\n",
       "      <td>85.6</td>\n",
       "    </tr>\n",
       "    <tr>\n",
       "      <th>310</th>\n",
       "      <td>176.0</td>\n",
       "      <td>8</td>\n",
       "      <td>1</td>\n",
       "      <td>13.0</td>\n",
       "      <td>Cognac Frapin VIP XO</td>\n",
       "      <td>2020-08-22 11:35:03</td>\n",
       "      <td>2288.0</td>\n",
       "      <td>176.0</td>\n",
       "    </tr>\n",
       "  </tbody>\n",
       "</table>\n",
       "</div>"
      ],
      "text/plain": [
       "     price  stock_quantity  onsale_web  total_sales  \\\n",
       "64   100.0              11           1          0.0   \n",
       "66    88.4               5           1          0.0   \n",
       "178   86.1               0           0          NaN   \n",
       "189  144.0               0           1          NaN   \n",
       "206   84.7               0           1          NaN   \n",
       "214   92.0              18           0          NaN   \n",
       "291  225.0               0           1          5.0   \n",
       "293  126.5               2           1         11.0   \n",
       "297   85.6               0           1          1.0   \n",
       "310  176.0               8           1         13.0   \n",
       "\n",
       "                                            post_title       post_modified  \\\n",
       "64   Zind-Humbrecht Riesling Grand Cru Rangen De Th... 2020-02-08 11:45:02   \n",
       "66   Zind-Humbrecht Pinot Gris Grand Cru Rangen De ... 2020-02-20 09:55:02   \n",
       "178                                                                    NaT   \n",
       "189                                                                    NaT   \n",
       "206                                                                    NaT   \n",
       "214                                                                    NaT   \n",
       "291     Champagne Egly-Ouriet Grand Cru Millésimé 2008 2020-03-07 11:18:45   \n",
       "293     Champagne Egly-Ouriet Grand Cru Blanc de Noirs 2020-08-13 10:15:02   \n",
       "297  Champagne Larmandier-Bernier Grand Cru Les Che... 2019-12-23 09:30:11   \n",
       "310                               Cognac Frapin VIP XO 2020-08-22 11:35:03   \n",
       "\n",
       "     Chiffre d'affaire  prix aberrants  \n",
       "64                 0.0           100.0  \n",
       "66                 0.0            88.4  \n",
       "178                NaN            86.1  \n",
       "189                NaN           144.0  \n",
       "206                NaN            84.7  \n",
       "214                NaN            92.0  \n",
       "291             1125.0           225.0  \n",
       "293             1391.5           126.5  \n",
       "297               85.6            85.6  \n",
       "310             2288.0           176.0  "
      ]
     },
     "execution_count": 63,
     "metadata": {},
     "output_type": "execute_result"
    }
   ],
   "source": [
    "# Création d'un dataframe PrixEleve \"A\" ne filtrant que les \"prix aberrants\" qui sont au-dessus de la limite supérieure Xmax.\n",
    "PrixEleve=A.loc[A['prix aberrants']>=(A['price']>Xmax)]\n",
    "PrixEleve.head(10)"
   ]
  },
  {
   "cell_type": "code",
   "execution_count": 64,
   "id": "e1fe8357",
   "metadata": {},
   "outputs": [
    {
     "data": {
      "text/html": [
       "<div>\n",
       "<style scoped>\n",
       "    .dataframe tbody tr th:only-of-type {\n",
       "        vertical-align: middle;\n",
       "    }\n",
       "\n",
       "    .dataframe tbody tr th {\n",
       "        vertical-align: top;\n",
       "    }\n",
       "\n",
       "    .dataframe thead th {\n",
       "        text-align: right;\n",
       "    }\n",
       "</style>\n",
       "<table border=\"1\" class=\"dataframe\">\n",
       "  <thead>\n",
       "    <tr style=\"text-align: right;\">\n",
       "      <th></th>\n",
       "      <th>price</th>\n",
       "      <th>stock_quantity</th>\n",
       "      <th>onsale_web</th>\n",
       "      <th>total_sales</th>\n",
       "      <th>post_title</th>\n",
       "      <th>post_modified</th>\n",
       "      <th>Chiffre d'affaire</th>\n",
       "      <th>prix aberrants</th>\n",
       "    </tr>\n",
       "  </thead>\n",
       "  <tbody>\n",
       "    <tr>\n",
       "      <th>64</th>\n",
       "      <td>100.0</td>\n",
       "      <td>11</td>\n",
       "      <td>1</td>\n",
       "      <td>0.0</td>\n",
       "      <td>Zind-Humbrecht Riesling Grand Cru Rangen De Th...</td>\n",
       "      <td>2020-02-08 11:45:02</td>\n",
       "      <td>0.0</td>\n",
       "      <td>100.0</td>\n",
       "    </tr>\n",
       "    <tr>\n",
       "      <th>66</th>\n",
       "      <td>88.4</td>\n",
       "      <td>5</td>\n",
       "      <td>1</td>\n",
       "      <td>0.0</td>\n",
       "      <td>Zind-Humbrecht Pinot Gris Grand Cru Rangen De ...</td>\n",
       "      <td>2020-02-20 09:55:02</td>\n",
       "      <td>0.0</td>\n",
       "      <td>88.4</td>\n",
       "    </tr>\n",
       "    <tr>\n",
       "      <th>291</th>\n",
       "      <td>225.0</td>\n",
       "      <td>0</td>\n",
       "      <td>1</td>\n",
       "      <td>5.0</td>\n",
       "      <td>Champagne Egly-Ouriet Grand Cru Millésimé 2008</td>\n",
       "      <td>2020-03-07 11:18:45</td>\n",
       "      <td>1125.0</td>\n",
       "      <td>225.0</td>\n",
       "    </tr>\n",
       "    <tr>\n",
       "      <th>293</th>\n",
       "      <td>126.5</td>\n",
       "      <td>2</td>\n",
       "      <td>1</td>\n",
       "      <td>11.0</td>\n",
       "      <td>Champagne Egly-Ouriet Grand Cru Blanc de Noirs</td>\n",
       "      <td>2020-08-13 10:15:02</td>\n",
       "      <td>1391.5</td>\n",
       "      <td>126.5</td>\n",
       "    </tr>\n",
       "    <tr>\n",
       "      <th>297</th>\n",
       "      <td>85.6</td>\n",
       "      <td>0</td>\n",
       "      <td>1</td>\n",
       "      <td>1.0</td>\n",
       "      <td>Champagne Larmandier-Bernier Grand Cru Les Che...</td>\n",
       "      <td>2019-12-23 09:30:11</td>\n",
       "      <td>85.6</td>\n",
       "      <td>85.6</td>\n",
       "    </tr>\n",
       "    <tr>\n",
       "      <th>310</th>\n",
       "      <td>176.0</td>\n",
       "      <td>8</td>\n",
       "      <td>1</td>\n",
       "      <td>13.0</td>\n",
       "      <td>Cognac Frapin VIP XO</td>\n",
       "      <td>2020-08-22 11:35:03</td>\n",
       "      <td>2288.0</td>\n",
       "      <td>176.0</td>\n",
       "    </tr>\n",
       "    <tr>\n",
       "      <th>311</th>\n",
       "      <td>108.5</td>\n",
       "      <td>2</td>\n",
       "      <td>1</td>\n",
       "      <td>2.0</td>\n",
       "      <td>Cognac Frapin Château de Fontpinot XO</td>\n",
       "      <td>2020-08-12 09:30:16</td>\n",
       "      <td>217.0</td>\n",
       "      <td>108.5</td>\n",
       "    </tr>\n",
       "    <tr>\n",
       "      <th>313</th>\n",
       "      <td>157.0</td>\n",
       "      <td>3</td>\n",
       "      <td>1</td>\n",
       "      <td>0.0</td>\n",
       "      <td>Cognac Frapin Château de Fontpinot 1989 20 Ans...</td>\n",
       "      <td>2020-03-14 16:05:04</td>\n",
       "      <td>0.0</td>\n",
       "      <td>157.0</td>\n",
       "    </tr>\n",
       "    <tr>\n",
       "      <th>314</th>\n",
       "      <td>104.0</td>\n",
       "      <td>6</td>\n",
       "      <td>1</td>\n",
       "      <td>1.0</td>\n",
       "      <td>Cognac Frapin Cigar Blend</td>\n",
       "      <td>2020-07-04 09:45:03</td>\n",
       "      <td>104.0</td>\n",
       "      <td>104.0</td>\n",
       "    </tr>\n",
       "    <tr>\n",
       "      <th>319</th>\n",
       "      <td>109.6</td>\n",
       "      <td>7</td>\n",
       "      <td>1</td>\n",
       "      <td>0.0</td>\n",
       "      <td>Château de Meursault Puligny-Montrachet 1er Cr...</td>\n",
       "      <td>2020-02-06 16:35:02</td>\n",
       "      <td>0.0</td>\n",
       "      <td>109.6</td>\n",
       "    </tr>\n",
       "  </tbody>\n",
       "</table>\n",
       "</div>"
      ],
      "text/plain": [
       "     price  stock_quantity  onsale_web  total_sales  \\\n",
       "64   100.0              11           1          0.0   \n",
       "66    88.4               5           1          0.0   \n",
       "291  225.0               0           1          5.0   \n",
       "293  126.5               2           1         11.0   \n",
       "297   85.6               0           1          1.0   \n",
       "310  176.0               8           1         13.0   \n",
       "311  108.5               2           1          2.0   \n",
       "313  157.0               3           1          0.0   \n",
       "314  104.0               6           1          1.0   \n",
       "319  109.6               7           1          0.0   \n",
       "\n",
       "                                            post_title       post_modified  \\\n",
       "64   Zind-Humbrecht Riesling Grand Cru Rangen De Th... 2020-02-08 11:45:02   \n",
       "66   Zind-Humbrecht Pinot Gris Grand Cru Rangen De ... 2020-02-20 09:55:02   \n",
       "291     Champagne Egly-Ouriet Grand Cru Millésimé 2008 2020-03-07 11:18:45   \n",
       "293     Champagne Egly-Ouriet Grand Cru Blanc de Noirs 2020-08-13 10:15:02   \n",
       "297  Champagne Larmandier-Bernier Grand Cru Les Che... 2019-12-23 09:30:11   \n",
       "310                               Cognac Frapin VIP XO 2020-08-22 11:35:03   \n",
       "311              Cognac Frapin Château de Fontpinot XO 2020-08-12 09:30:16   \n",
       "313  Cognac Frapin Château de Fontpinot 1989 20 Ans... 2020-03-14 16:05:04   \n",
       "314                          Cognac Frapin Cigar Blend 2020-07-04 09:45:03   \n",
       "319  Château de Meursault Puligny-Montrachet 1er Cr... 2020-02-06 16:35:02   \n",
       "\n",
       "     Chiffre d'affaire  prix aberrants  \n",
       "64                 0.0           100.0  \n",
       "66                 0.0            88.4  \n",
       "291             1125.0           225.0  \n",
       "293             1391.5           126.5  \n",
       "297               85.6            85.6  \n",
       "310             2288.0           176.0  \n",
       "311              217.0           108.5  \n",
       "313                0.0           157.0  \n",
       "314              104.0           104.0  \n",
       "319                0.0           109.6  "
      ]
     },
     "execution_count": 64,
     "metadata": {},
     "output_type": "execute_result"
    }
   ],
   "source": [
    "# Suppression des lignes où il y a beaucoup de colonnes contenant des données Nan\n",
    "PrixEleve=A.dropna()\n",
    "PrixEleve.head(10)"
   ]
  },
  {
   "cell_type": "code",
   "execution_count": 65,
   "id": "7da4045e",
   "metadata": {},
   "outputs": [
    {
     "name": "stdout",
     "output_type": "stream",
     "text": [
      "Nombres d'outliers détectés: 32\n"
     ]
    }
   ],
   "source": [
    "print(\"Nombres d'outliers détectés: \"+ str(len(PrixEleve)))"
   ]
  },
  {
   "cell_type": "markdown",
   "id": "7cd82b21",
   "metadata": {},
   "source": [
    "**<span style=\"color:blue\">Le prix de certaines bouteilles est affiché, mais pas leur nom, après leurs suppression du dataframe \"PrixEleve\" le nombre d'outliers est passé de 36 à 32. </span>**"
   ]
  },
  {
   "cell_type": "markdown",
   "id": "dc436fa8",
   "metadata": {},
   "source": [
    "## 3.3.2.2 - Liste des \"prix aberrants\""
   ]
  },
  {
   "cell_type": "code",
   "execution_count": 66,
   "id": "fa0b2792",
   "metadata": {},
   "outputs": [
    {
     "data": {
      "text/html": [
       "<div>\n",
       "<style scoped>\n",
       "    .dataframe tbody tr th:only-of-type {\n",
       "        vertical-align: middle;\n",
       "    }\n",
       "\n",
       "    .dataframe tbody tr th {\n",
       "        vertical-align: top;\n",
       "    }\n",
       "\n",
       "    .dataframe thead th {\n",
       "        text-align: right;\n",
       "    }\n",
       "</style>\n",
       "<table border=\"1\" class=\"dataframe\">\n",
       "  <thead>\n",
       "    <tr style=\"text-align: right;\">\n",
       "      <th></th>\n",
       "      <th>post_title</th>\n",
       "      <th>prix aberrants</th>\n",
       "    </tr>\n",
       "  </thead>\n",
       "  <tbody>\n",
       "    <tr>\n",
       "      <th>291</th>\n",
       "      <td>Champagne Egly-Ouriet Grand Cru Millésimé 2008</td>\n",
       "      <td>225.0</td>\n",
       "    </tr>\n",
       "    <tr>\n",
       "      <th>517</th>\n",
       "      <td>David Duband Charmes-Chambertin Grand Cru 2014</td>\n",
       "      <td>217.5</td>\n",
       "    </tr>\n",
       "    <tr>\n",
       "      <th>678</th>\n",
       "      <td>Coteaux Champenois Egly-Ouriet Ambonnay Rouge ...</td>\n",
       "      <td>191.3</td>\n",
       "    </tr>\n",
       "    <tr>\n",
       "      <th>310</th>\n",
       "      <td>Cognac Frapin VIP XO</td>\n",
       "      <td>176.0</td>\n",
       "    </tr>\n",
       "    <tr>\n",
       "      <th>644</th>\n",
       "      <td>Camille Giroud Clos de Vougeot 2016</td>\n",
       "      <td>175.0</td>\n",
       "    </tr>\n",
       "    <tr>\n",
       "      <th>313</th>\n",
       "      <td>Cognac Frapin Château de Fontpinot 1989 20 Ans...</td>\n",
       "      <td>157.0</td>\n",
       "    </tr>\n",
       "    <tr>\n",
       "      <th>473</th>\n",
       "      <td>Domaine Des Croix Corton Charlemagne Grand Cru...</td>\n",
       "      <td>137.0</td>\n",
       "    </tr>\n",
       "    <tr>\n",
       "      <th>733</th>\n",
       "      <td>Champagne Gosset Célébris Vintage 2007</td>\n",
       "      <td>135.0</td>\n",
       "    </tr>\n",
       "    <tr>\n",
       "      <th>293</th>\n",
       "      <td>Champagne Egly-Ouriet Grand Cru Blanc de Noirs</td>\n",
       "      <td>126.5</td>\n",
       "    </tr>\n",
       "    <tr>\n",
       "      <th>602</th>\n",
       "      <td>Domaine Weinbach Gewurztraminer Grand Cru Furs...</td>\n",
       "      <td>124.8</td>\n",
       "    </tr>\n",
       "    <tr>\n",
       "      <th>694</th>\n",
       "      <td>Wemyss Malts Single Cask Scotch Whisky Choc 'n...</td>\n",
       "      <td>122.0</td>\n",
       "    </tr>\n",
       "    <tr>\n",
       "      <th>745</th>\n",
       "      <td>Domaine des Comtes Lafon Volnay 1er Cru Santen...</td>\n",
       "      <td>121.0</td>\n",
       "    </tr>\n",
       "    <tr>\n",
       "      <th>748</th>\n",
       "      <td>Domaine des Comtes Lafon Volnay 1er Cru Champa...</td>\n",
       "      <td>121.0</td>\n",
       "    </tr>\n",
       "    <tr>\n",
       "      <th>739</th>\n",
       "      <td>Domaine Clerget Echezeaux Grand Cru En Orveaux...</td>\n",
       "      <td>116.4</td>\n",
       "    </tr>\n",
       "    <tr>\n",
       "      <th>744</th>\n",
       "      <td>Domaine des Comtes Lafon Volnay 1er Cru Santen...</td>\n",
       "      <td>115.0</td>\n",
       "    </tr>\n",
       "    <tr>\n",
       "      <th>747</th>\n",
       "      <td>Domaine des Comtes Lafon Volnay 1er Cru Champa...</td>\n",
       "      <td>115.0</td>\n",
       "    </tr>\n",
       "    <tr>\n",
       "      <th>695</th>\n",
       "      <td>Wemyss Malts Single Cask Scotch Whisky Chai Ca...</td>\n",
       "      <td>114.0</td>\n",
       "    </tr>\n",
       "    <tr>\n",
       "      <th>528</th>\n",
       "      <td>Champagne Agrapart &amp;amp; Fils L'Avizoise Extra...</td>\n",
       "      <td>112.0</td>\n",
       "    </tr>\n",
       "    <tr>\n",
       "      <th>319</th>\n",
       "      <td>Château de Meursault Puligny-Montrachet 1er Cr...</td>\n",
       "      <td>109.6</td>\n",
       "    </tr>\n",
       "    <tr>\n",
       "      <th>311</th>\n",
       "      <td>Cognac Frapin Château de Fontpinot XO</td>\n",
       "      <td>108.5</td>\n",
       "    </tr>\n",
       "    <tr>\n",
       "      <th>738</th>\n",
       "      <td>David Duband Chambolle-Musigny 1er Cru Les Sen...</td>\n",
       "      <td>105.6</td>\n",
       "    </tr>\n",
       "    <tr>\n",
       "      <th>522</th>\n",
       "      <td>Domaine des Comtes Lafon Volnay 1er Cru Santen...</td>\n",
       "      <td>105.0</td>\n",
       "    </tr>\n",
       "    <tr>\n",
       "      <th>523</th>\n",
       "      <td>Domaine des Comtes Lafon Volnay 1er Cru Santen...</td>\n",
       "      <td>105.0</td>\n",
       "    </tr>\n",
       "    <tr>\n",
       "      <th>314</th>\n",
       "      <td>Cognac Frapin Cigar Blend</td>\n",
       "      <td>104.0</td>\n",
       "    </tr>\n",
       "    <tr>\n",
       "      <th>472</th>\n",
       "      <td>Domaine Des Croix Corton Grand Cru Les Grèves ...</td>\n",
       "      <td>102.3</td>\n",
       "    </tr>\n",
       "    <tr>\n",
       "      <th>64</th>\n",
       "      <td>Zind-Humbrecht Riesling Grand Cru Rangen De Th...</td>\n",
       "      <td>100.0</td>\n",
       "    </tr>\n",
       "    <tr>\n",
       "      <th>746</th>\n",
       "      <td>Domaine des Comtes Lafon Volnay 1er Cru Champa...</td>\n",
       "      <td>99.0</td>\n",
       "    </tr>\n",
       "    <tr>\n",
       "      <th>693</th>\n",
       "      <td>Wemyss Malts Single Cask Scotch Whisky Chocola...</td>\n",
       "      <td>93.0</td>\n",
       "    </tr>\n",
       "    <tr>\n",
       "      <th>593</th>\n",
       "      <td>Tempier Bandol Cabassaou 2017</td>\n",
       "      <td>92.0</td>\n",
       "    </tr>\n",
       "    <tr>\n",
       "      <th>66</th>\n",
       "      <td>Zind-Humbrecht Pinot Gris Grand Cru Rangen De ...</td>\n",
       "      <td>88.4</td>\n",
       "    </tr>\n",
       "    <tr>\n",
       "      <th>529</th>\n",
       "      <td>Champagne Agrapart &amp;amp; Fils Minéral Extra Br...</td>\n",
       "      <td>86.8</td>\n",
       "    </tr>\n",
       "    <tr>\n",
       "      <th>297</th>\n",
       "      <td>Champagne Larmandier-Bernier Grand Cru Les Che...</td>\n",
       "      <td>85.6</td>\n",
       "    </tr>\n",
       "  </tbody>\n",
       "</table>\n",
       "</div>"
      ],
      "text/plain": [
       "                                            post_title  prix aberrants\n",
       "291     Champagne Egly-Ouriet Grand Cru Millésimé 2008           225.0\n",
       "517     David Duband Charmes-Chambertin Grand Cru 2014           217.5\n",
       "678  Coteaux Champenois Egly-Ouriet Ambonnay Rouge ...           191.3\n",
       "310                               Cognac Frapin VIP XO           176.0\n",
       "644                Camille Giroud Clos de Vougeot 2016           175.0\n",
       "313  Cognac Frapin Château de Fontpinot 1989 20 Ans...           157.0\n",
       "473  Domaine Des Croix Corton Charlemagne Grand Cru...           137.0\n",
       "733             Champagne Gosset Célébris Vintage 2007           135.0\n",
       "293     Champagne Egly-Ouriet Grand Cru Blanc de Noirs           126.5\n",
       "602  Domaine Weinbach Gewurztraminer Grand Cru Furs...           124.8\n",
       "694  Wemyss Malts Single Cask Scotch Whisky Choc 'n...           122.0\n",
       "745  Domaine des Comtes Lafon Volnay 1er Cru Santen...           121.0\n",
       "748  Domaine des Comtes Lafon Volnay 1er Cru Champa...           121.0\n",
       "739  Domaine Clerget Echezeaux Grand Cru En Orveaux...           116.4\n",
       "744  Domaine des Comtes Lafon Volnay 1er Cru Santen...           115.0\n",
       "747  Domaine des Comtes Lafon Volnay 1er Cru Champa...           115.0\n",
       "695  Wemyss Malts Single Cask Scotch Whisky Chai Ca...           114.0\n",
       "528  Champagne Agrapart &amp; Fils L'Avizoise Extra...           112.0\n",
       "319  Château de Meursault Puligny-Montrachet 1er Cr...           109.6\n",
       "311              Cognac Frapin Château de Fontpinot XO           108.5\n",
       "738  David Duband Chambolle-Musigny 1er Cru Les Sen...           105.6\n",
       "522  Domaine des Comtes Lafon Volnay 1er Cru Santen...           105.0\n",
       "523  Domaine des Comtes Lafon Volnay 1er Cru Santen...           105.0\n",
       "314                          Cognac Frapin Cigar Blend           104.0\n",
       "472  Domaine Des Croix Corton Grand Cru Les Grèves ...           102.3\n",
       "64   Zind-Humbrecht Riesling Grand Cru Rangen De Th...           100.0\n",
       "746  Domaine des Comtes Lafon Volnay 1er Cru Champa...            99.0\n",
       "693  Wemyss Malts Single Cask Scotch Whisky Chocola...            93.0\n",
       "593                      Tempier Bandol Cabassaou 2017            92.0\n",
       "66   Zind-Humbrecht Pinot Gris Grand Cru Rangen De ...            88.4\n",
       "529  Champagne Agrapart &amp; Fils Minéral Extra Br...            86.8\n",
       "297  Champagne Larmandier-Bernier Grand Cru Les Che...            85.6"
      ]
     },
     "execution_count": 66,
     "metadata": {},
     "output_type": "execute_result"
    }
   ],
   "source": [
    "ListeOutliers=PrixEleve[['post_title','prix aberrants']].sort_values('prix aberrants', ascending=False)\n",
    "ListeOutliers"
   ]
  },
  {
   "cell_type": "markdown",
   "id": "d8fa1a8a",
   "metadata": {},
   "source": [
    "## 3.3.2.3 - Comment gérer les bouteilles les plus chères? Pourquoi doivent-elles être gérées?"
   ]
  },
  {
   "cell_type": "markdown",
   "id": "5ca8cdad",
   "metadata": {},
   "source": [
    "**<span style=\"color:blue\">Ces outliers nécessitent une gestion particulière car ils peuvent fausser les analyses statistiques telles que la moyenne, la médiane et l'écart type. Ils peuvent également fausser les prévisions de ventes, car ces bouteilles peuvent avoir une demande très faible et une offre très limitée.</span>**\n",
    "\n",
    "**<span style=\"color:blue\">Une approche mathématique pour gérer ces outliers serait d'utiliser des méthodes statistiques telles que la régression quantile, qui permet de modéliser les quantiles de la distribution des prix des bouteilles, y compris les outliers.\n",
    "</span>**"
   ]
  },
  {
   "cell_type": "markdown",
   "id": "bc769407",
   "metadata": {},
   "source": [
    "**<span style=\"color:red\"> Remarques: L'idéal pour gérer les bouteilles les plus chères serait de les traiter comme des produits haut de gamme ou de prestige et de les vendre dans des canaux de distribution différents, tels que des enchères spécialisées, des boutiques de luxe ou des restaurants gastronomiques haut de gamme. \n",
    "    En vendant ces bouteilles dans des canaux de distribution séparés, les vendeurs peuvent éviter de diluer la valeur de ces bouteilles en les associant à des produits de qualité inférieure.</span>**\n",
    "    \n",
    "**<span style=\"color:red\"> En vendant ces bouteilles dans des canaux de distribution séparés, les vendeurs peuvent éviter de diluer la valeur de ces bouteilles en les associant à des produits moins chers.</span>**"
   ]
  },
  {
   "cell_type": "markdown",
   "id": "ad7515a5",
   "metadata": {},
   "source": [
    "<div style=\"border: 1px solid RGB(0,200,200);\" >\n",
    "<h3 style=\"margin: auto; padding: 20px; color: RGB(0,200,200); \">3.4- Analyses complémentaires </h3>\n",
    "</div>\n"
   ]
  },
  {
   "cell_type": "markdown",
   "id": "bea2f270",
   "metadata": {},
   "source": [
    "<div style=\"border: 1px solid RGB(0,200,200);\" >\n",
    "<h3 style=\"margin: auto; padding: 20px; color: RGB(0,200,200); \">3.4.1- Les bouteilles invendues</h3>\n",
    "</div>"
   ]
  },
  {
   "cell_type": "code",
   "execution_count": 67,
   "id": "c0c3bc42",
   "metadata": {},
   "outputs": [
    {
     "name": "stdout",
     "output_type": "stream",
     "text": [
      "Il y a 329 bouteilles invendues\n"
     ]
    }
   ],
   "source": [
    "#Filtrer les bouteilles invendues à partir du dataframe \"A\"\n",
    "Invendus=A.loc[A['total_sales']==0]\n",
    "\n",
    "#Faire le compte des bouteilles invendues\n",
    "NbreInvendus=Invendus['total_sales'].count()\n",
    "print(\"Il y a\", NbreInvendus,\"bouteilles invendues\")"
   ]
  },
  {
   "cell_type": "markdown",
   "id": "7dc44bfe",
   "metadata": {},
   "source": [
    "**<span style=\"color:blue\">Attention certains produits sont invendus et sont en ruptures de stock </span>**"
   ]
  },
  {
   "cell_type": "code",
   "execution_count": 68,
   "id": "0c8f75f1",
   "metadata": {},
   "outputs": [
    {
     "name": "stdout",
     "output_type": "stream",
     "text": [
      "Il y a 73 bouteilles invendues car elles étaient en ruptures de stock\n"
     ]
    }
   ],
   "source": [
    "PasStockés=Invendus.loc[Invendus['stock_quantity']==0]\n",
    "InvendusPasStockés=PasStockés['stock_quantity'].count()\n",
    "print(\"Il y a\", InvendusPasStockés,\"bouteilles invendues car elles étaient en ruptures de stock\")"
   ]
  },
  {
   "cell_type": "markdown",
   "id": "3f2c481d",
   "metadata": {},
   "source": [
    "**<span style=\"color:blue\">Et d'autres produits sont en stocks mais n'ont pas été vendus </span>**"
   ]
  },
  {
   "cell_type": "code",
   "execution_count": 69,
   "id": "6fe63af7",
   "metadata": {},
   "outputs": [
    {
     "name": "stdout",
     "output_type": "stream",
     "text": [
      "Il y a 256 bouteilles invendues qui sont en stock\n"
     ]
    }
   ],
   "source": [
    "Stockés=Invendus.loc[Invendus['stock_quantity']>0]\n",
    "InvendusStockés=Stockés['stock_quantity'].count()\n",
    "print(\"Il y a\", InvendusStockés,\"bouteilles invendues qui sont en stock\")"
   ]
  },
  {
   "cell_type": "code",
   "execution_count": 70,
   "id": "ca3f6e60",
   "metadata": {},
   "outputs": [
    {
     "name": "stdout",
     "output_type": "stream",
     "text": [
      "Nombre d'invendus pour l'année 2018: 1\n",
      "Nombre d'invendus pour l'année 2019: 17\n",
      "Nombre d'invendus pour l'année 2020: 238\n"
     ]
    },
    {
     "name": "stderr",
     "output_type": "stream",
     "text": [
      "C:\\Users\\bello\\AppData\\Local\\Temp\\ipykernel_146936\\894520163.py:1: SettingWithCopyWarning: \n",
      "A value is trying to be set on a copy of a slice from a DataFrame.\n",
      "Try using .loc[row_indexer,col_indexer] = value instead\n",
      "\n",
      "See the caveats in the documentation: https://pandas.pydata.org/pandas-docs/stable/user_guide/indexing.html#returning-a-view-versus-a-copy\n",
      "  Stockés['Année']=Stockés['post_modified'].dt.year\n"
     ]
    }
   ],
   "source": [
    "Stockés['Année']=Stockés['post_modified'].dt.year\n",
    "\n",
    "NbreInv2018=Stockés.loc[Stockés['Année']==2018].shape[0]\n",
    "NbreInv2019=Stockés.loc[Stockés['Année']==2019].shape[0]\n",
    "NbreInv2020=Stockés.loc[Stockés['Année']==2020].shape[0]\n",
    "\n",
    "print(\"Nombre d'invendus pour l'année 2018:\",NbreInv2018)\n",
    "print(\"Nombre d'invendus pour l'année 2019:\",NbreInv2019)\n",
    "print(\"Nombre d'invendus pour l'année 2020:\",NbreInv2020)"
   ]
  },
  {
   "cell_type": "markdown",
   "id": "e4c0fe28",
   "metadata": {},
   "source": [
    "<div style=\"border: 1px solid RGB(0,200,200);\" >\n",
    "<h3 style=\"margin: auto; padding: 20px; color: RGB(0,200,200); \">3.4.2- Analyses sur l'évolution du chiffre d'affaire en fonction du temps</h3>\n",
    "</div>"
   ]
  },
  {
   "cell_type": "markdown",
   "id": "ece7d4d5",
   "metadata": {},
   "source": [
    "## 3.4.2.1. Evolution du chiffre d'affaire sur 2 ans (ensemble des prix)"
   ]
  },
  {
   "cell_type": "code",
   "execution_count": 71,
   "id": "cdc38fa5",
   "metadata": {},
   "outputs": [
    {
     "data": {
      "image/png": "[encoded data removed]",
      "text/plain": [
       "<Figure size 1000x700 with 1 Axes>"
      ]
     },
     "metadata": {},
     "output_type": "display_data"
    }
   ],
   "source": [
    "#Création de la colonne \"Année\" dans le df \"CA\"\n",
    "CA['Année'] = CA['post_modified'].dt.year\n",
    "\n",
    "# Aggrégation par Année et calcul du stock, du total des ventes et du chiffre d'affaire par année\n",
    "CAannee=CA.groupby(['Année'])[['stock_quantity','total_sales',\"Chiffre d'affaire\"]] .sum()\n",
    "CAannee = CAannee.reset_index()\n",
    "CAannee.head(10)\n",
    "\n",
    "#Graphique représentant l'évolution sur 2ans du chiffre d'affaire pour l'ensemble des prix\n",
    "plt.figure(figsize=(10, 7))\n",
    "plt.plot(CAannee['Année'], CAannee[\"Chiffre d'affaire\"], label=\"Chiffre d'affaire\", linewidth=3)\n",
    "plt.legend(loc='upper right')\n",
    "plt.ylabel(\"Chiffre d'affaire (€)\", fontsize=11)\n",
    "plt.yticks(fontsize=11)\n",
    "plt.title(\"Evolution du chiffre d'affaire sur 2 ans\", fontsize=11)\n",
    "plt.grid(color='gray', linestyle='-', linewidth=0.4)\n",
    "\n",
    "plt.xticks(CAannee['Année'], CAannee['Année'].astype(int))\n",
    "\n",
    "plt.show()"
   ]
  },
  {
   "cell_type": "markdown",
   "id": "633bb90f",
   "metadata": {},
   "source": [
    "## 3.4.2.2. Chiffre d'affaire par trimestre pour l'ensemble des prix"
   ]
  },
  {
   "cell_type": "code",
   "execution_count": 72,
   "id": "64201699",
   "metadata": {},
   "outputs": [],
   "source": [
    "#Création de la colonne \"trimestre\" dans le dataframe \"A\"\n",
    "A['trimestre']=A['post_modified'].dt.quarter\n",
    "\n",
    "#Création de la colonne \"Année\" dans le dataframe \"A\"\n",
    "A['Année'] = A['post_modified'].dt.year"
   ]
  },
  {
   "cell_type": "code",
   "execution_count": 73,
   "id": "ab0e5537",
   "metadata": {},
   "outputs": [
    {
     "data": {
      "text/html": [
       "<div>\n",
       "<style scoped>\n",
       "    .dataframe tbody tr th:only-of-type {\n",
       "        vertical-align: middle;\n",
       "    }\n",
       "\n",
       "    .dataframe tbody tr th {\n",
       "        vertical-align: top;\n",
       "    }\n",
       "\n",
       "    .dataframe thead th {\n",
       "        text-align: right;\n",
       "    }\n",
       "</style>\n",
       "<table border=\"1\" class=\"dataframe\">\n",
       "  <thead>\n",
       "    <tr style=\"text-align: right;\">\n",
       "      <th></th>\n",
       "      <th>trimestre</th>\n",
       "      <th>Année</th>\n",
       "      <th>stock_quantity</th>\n",
       "      <th>total_sales</th>\n",
       "      <th>Chiffre d'affaire</th>\n",
       "    </tr>\n",
       "  </thead>\n",
       "  <tbody>\n",
       "    <tr>\n",
       "      <th>0</th>\n",
       "      <td>1.0</td>\n",
       "      <td>2018.0</td>\n",
       "      <td>0</td>\n",
       "      <td>0.0</td>\n",
       "      <td>0.0</td>\n",
       "    </tr>\n",
       "    <tr>\n",
       "      <th>1</th>\n",
       "      <td>1.0</td>\n",
       "      <td>2019.0</td>\n",
       "      <td>14</td>\n",
       "      <td>0.0</td>\n",
       "      <td>0.0</td>\n",
       "    </tr>\n",
       "    <tr>\n",
       "      <th>2</th>\n",
       "      <td>1.0</td>\n",
       "      <td>2020.0</td>\n",
       "      <td>380</td>\n",
       "      <td>46.0</td>\n",
       "      <td>2634.6</td>\n",
       "    </tr>\n",
       "    <tr>\n",
       "      <th>3</th>\n",
       "      <td>2.0</td>\n",
       "      <td>2018.0</td>\n",
       "      <td>0</td>\n",
       "      <td>10.0</td>\n",
       "      <td>250.0</td>\n",
       "    </tr>\n",
       "    <tr>\n",
       "      <th>4</th>\n",
       "      <td>2.0</td>\n",
       "      <td>2019.0</td>\n",
       "      <td>58</td>\n",
       "      <td>4.0</td>\n",
       "      <td>102.8</td>\n",
       "    </tr>\n",
       "    <tr>\n",
       "      <th>5</th>\n",
       "      <td>2.0</td>\n",
       "      <td>2020.0</td>\n",
       "      <td>1628</td>\n",
       "      <td>181.0</td>\n",
       "      <td>6462.1</td>\n",
       "    </tr>\n",
       "    <tr>\n",
       "      <th>6</th>\n",
       "      <td>3.0</td>\n",
       "      <td>2019.0</td>\n",
       "      <td>25</td>\n",
       "      <td>1.0</td>\n",
       "      <td>57.6</td>\n",
       "    </tr>\n",
       "    <tr>\n",
       "      <th>7</th>\n",
       "      <td>3.0</td>\n",
       "      <td>2020.0</td>\n",
       "      <td>18363</td>\n",
       "      <td>2601.0</td>\n",
       "      <td>60159.5</td>\n",
       "    </tr>\n",
       "    <tr>\n",
       "      <th>8</th>\n",
       "      <td>4.0</td>\n",
       "      <td>2018.0</td>\n",
       "      <td>3</td>\n",
       "      <td>4.0</td>\n",
       "      <td>156.0</td>\n",
       "    </tr>\n",
       "    <tr>\n",
       "      <th>9</th>\n",
       "      <td>4.0</td>\n",
       "      <td>2019.0</td>\n",
       "      <td>54</td>\n",
       "      <td>18.0</td>\n",
       "      <td>746.0</td>\n",
       "    </tr>\n",
       "  </tbody>\n",
       "</table>\n",
       "</div>"
      ],
      "text/plain": [
       "   trimestre   Année  stock_quantity  total_sales  Chiffre d'affaire\n",
       "0        1.0  2018.0               0          0.0                0.0\n",
       "1        1.0  2019.0              14          0.0                0.0\n",
       "2        1.0  2020.0             380         46.0             2634.6\n",
       "3        2.0  2018.0               0         10.0              250.0\n",
       "4        2.0  2019.0              58          4.0              102.8\n",
       "5        2.0  2020.0            1628        181.0             6462.1\n",
       "6        3.0  2019.0              25          1.0               57.6\n",
       "7        3.0  2020.0           18363       2601.0            60159.5\n",
       "8        4.0  2018.0               3          4.0              156.0\n",
       "9        4.0  2019.0              54         18.0              746.0"
      ]
     },
     "execution_count": 73,
     "metadata": {},
     "output_type": "execute_result"
    }
   ],
   "source": [
    "# Aggrégation par Année et par trimestre et calcul du stock, du total des ventes et du chiffre d'affaire par année\n",
    "CA=A.groupby(['trimestre','Année'])[['stock_quantity','total_sales',\"Chiffre d'affaire\"]] .sum()\n",
    "CA = CA.reset_index()\n",
    "CA.head(10)"
   ]
  },
  {
   "cell_type": "code",
   "execution_count": 74,
   "id": "3823dfd2",
   "metadata": {},
   "outputs": [
    {
     "data": {
      "image/png": "[encoded data removed]",
      "text/plain": [
       "<Figure size 640x480 with 1 Axes>"
      ]
     },
     "metadata": {},
     "output_type": "display_data"
    }
   ],
   "source": [
    "#Proportion du chiffre d'affaire par trimestre pour l'année 2018\n",
    "CA2018=CA.loc[CA['Année']==2018]\n",
    "plt.bar(height=CA2018[\"Chiffre d'affaire\"], x=CA2018['trimestre'])\n",
    "plt.title(\"Evolution du chiffre d'affaire sur 2 ans\", fontsize=11)\n",
    "plt.yticks(fontsize=11)\n",
    "plt.title(\"Chiffre d'affaire par trimestre de l'année 2018\", fontsize=15)\n",
    "plt.grid(color='gray', linestyle='-', linewidth=0.4)\n",
    "plt.show()"
   ]
  },
  {
   "cell_type": "code",
   "execution_count": 75,
   "id": "3d5c655a",
   "metadata": {},
   "outputs": [
    {
     "name": "stderr",
     "output_type": "stream",
     "text": [
      "No artists with labels found to put in legend.  Note that artists whose label start with an underscore are ignored when legend() is called with no argument.\n"
     ]
    },
    {
     "data": {
      "image/png": "[encoded data removed]",
      "text/plain": [
       "<Figure size 640x480 with 1 Axes>"
      ]
     },
     "metadata": {},
     "output_type": "display_data"
    }
   ],
   "source": [
    "#Proportion du chiffre d'affaire par trimestre pour l'année 2019\n",
    "CA2019=CA.loc[CA['Année']==2019]\n",
    "plt.bar(height=CA2019[\"Chiffre d'affaire\"], x=CA2019['trimestre'])\n",
    "plt.legend(loc='upper right')\n",
    "plt.ylabel(\"Chiffre d'affaire (€)\", fontsize=11)\n",
    "plt.yticks(fontsize=11)\n",
    "plt.title(\"Chiffre d'affaire par trimestre de l'année 2019\", fontsize=15)\n",
    "plt.grid(color='gray', linestyle='-', linewidth=0.4)"
   ]
  },
  {
   "cell_type": "code",
   "execution_count": 76,
   "id": "2900bb86",
   "metadata": {},
   "outputs": [
    {
     "name": "stderr",
     "output_type": "stream",
     "text": [
      "No artists with labels found to put in legend.  Note that artists whose label start with an underscore are ignored when legend() is called with no argument.\n"
     ]
    },
    {
     "data": {
      "image/png": "[encoded data removed]",
      "text/plain": [
       "<Figure size 640x480 with 1 Axes>"
      ]
     },
     "metadata": {},
     "output_type": "display_data"
    }
   ],
   "source": [
    "#Chiffre d'affaire par trimestre pour l'année 2020\n",
    "CA2020=CA.loc[CA['Année']==2020]\n",
    "plt.bar(height=CA2020[\"Chiffre d'affaire\"], x=CA2020['trimestre'])\n",
    "plt.legend(loc='upper right')\n",
    "plt.ylabel(\"Chiffre d'affaire (€)\", fontsize=11)\n",
    "plt.yticks(fontsize=11)\n",
    "plt.title(\"Chiffre d'affaire par trimestre de l'année 2020\", fontsize=15)\n",
    "plt.grid(color='gray', linestyle='-', linewidth=0.4)"
   ]
  },
  {
   "cell_type": "markdown",
   "id": "0d7884c8",
   "metadata": {},
   "source": [
    "## 3.4.2.3. Nombre de vente annuelle"
   ]
  },
  {
   "cell_type": "code",
   "execution_count": 77,
   "id": "61230572",
   "metadata": {},
   "outputs": [
    {
     "name": "stdout",
     "output_type": "stream",
     "text": [
      "Pour l'année 2018, l'entreprise a réalisée  14 ventes de bouteilles\n",
      "Pour l'année 2019, l'entreprise a réalisée  23 ventes de bouteilles\n",
      "Pour l'année 2020, l'entreprise a réalisée  2828 ventes de bouteilles\n"
     ]
    }
   ],
   "source": [
    "#Calcul du nombre de vente de bouteille en 2018\n",
    "Vente2018=CA2018.loc[CA2018['total_sales']>0]\n",
    "NbreVente2018=Vente2018['total_sales'].sum()\n",
    "print(\"Pour l'année 2018, l'entreprise a réalisée \",round(NbreVente2018),\"ventes de bouteilles\")\n",
    "\n",
    "#Calcul du nombre de vente de bouteille en 2019\n",
    "Vente2019=CA2019.loc[CA2019['total_sales']>0]\n",
    "NbreVente2019=Vente2019['total_sales'].sum()\n",
    "print(\"Pour l'année 2019, l'entreprise a réalisée \",round(NbreVente2019),\"ventes de bouteilles\")\n",
    "\n",
    "#Calcul du nombre de vente de bouteille en 2020\n",
    "Vente2020=CA2020.loc[CA2020['total_sales']>0]\n",
    "NbreVente2020=Vente2020['total_sales'].sum()\n",
    "print(\"Pour l'année 2020, l'entreprise a réalisée \",round(NbreVente2020),\"ventes de bouteilles\")"
   ]
  },
  {
   "cell_type": "markdown",
   "id": "d85569d2",
   "metadata": {},
   "source": [
    "## 3.4.2.4. Evolution du chiffre d'affaire sur 2 ans pour les bouteilles les plus chères"
   ]
  },
  {
   "cell_type": "code",
   "execution_count": 78,
   "id": "a937b37a",
   "metadata": {},
   "outputs": [
    {
     "name": "stderr",
     "output_type": "stream",
     "text": [
      "C:\\Users\\bello\\AppData\\Local\\Temp\\ipykernel_146936\\3299123288.py:4: SettingWithCopyWarning: \n",
      "A value is trying to be set on a copy of a slice from a DataFrame.\n",
      "Try using .loc[row_indexer,col_indexer] = value instead\n",
      "\n",
      "See the caveats in the documentation: https://pandas.pydata.org/pandas-docs/stable/user_guide/indexing.html#returning-a-view-versus-a-copy\n",
      "  PrixEleve_CA['Année']=PrixEleve_CA['post_modified'].dt.strftime('%Y-%m')\n"
     ]
    },
    {
     "data": {
      "image/png": "[encoded data removed]",
      "text/plain": [
       "<Figure size 1500x700 with 1 Axes>"
      ]
     },
     "metadata": {},
     "output_type": "display_data"
    }
   ],
   "source": [
    "PrixEleve_CA=PrixEleve\n",
    "\n",
    "#Création de la colonne \"Année\" sous le format \"aaaa-mm\"\n",
    "PrixEleve_CA['Année']=PrixEleve_CA['post_modified'].dt.strftime('%Y-%m')\n",
    "PrixEleve_CA=PrixEleve_CA.groupby(['Année'])[['stock_quantity','total_sales',\"Chiffre d'affaire\"]] .sum()\n",
    "PrixEleve_CA = PrixEleve_CA.reset_index()\n",
    "\n",
    "#Graphique représentant l'évolution sur 2ans du chiffre d'affaire pour les bouteilles les plus chères\n",
    "plt.figure(figsize=(15, 7))\n",
    "plt.plot(PrixEleve_CA['Année'], PrixEleve_CA[\"Chiffre d'affaire\"], label=\"Chiffre d'affaire\", linewidth=3)\n",
    "plt.legend(loc='upper right')\n",
    "plt.ylabel(\"Chiffre d'affaire (€)\", fontsize=11)\n",
    "plt.yticks(fontsize=11)\n",
    "plt.title(\"Evolution du chiffre d'affaire sur 2 ans (bouteilles les plus chers)\", fontsize=11)\n",
    "plt.grid(color='gray', linestyle='-', linewidth=0.4)\n",
    "\n",
    "plt.show()"
   ]
  },
  {
   "cell_type": "markdown",
   "id": "446005b7",
   "metadata": {},
   "source": [
    "## 3.4.2.5. Chiffre d'affaire par trimestre pour les bouteilles les plus chères"
   ]
  },
  {
   "cell_type": "code",
   "execution_count": 79,
   "id": "c8882e6a",
   "metadata": {},
   "outputs": [
    {
     "name": "stderr",
     "output_type": "stream",
     "text": [
      "C:\\Users\\bello\\AppData\\Local\\Temp\\ipykernel_146936\\1159993855.py:4: SettingWithCopyWarning: \n",
      "A value is trying to be set on a copy of a slice from a DataFrame.\n",
      "Try using .loc[row_indexer,col_indexer] = value instead\n",
      "\n",
      "See the caveats in the documentation: https://pandas.pydata.org/pandas-docs/stable/user_guide/indexing.html#returning-a-view-versus-a-copy\n",
      "  PrixEleve_CA1['Année']=PrixEleve_CA1['post_modified'].dt.year\n",
      "C:\\Users\\bello\\AppData\\Local\\Temp\\ipykernel_146936\\1159993855.py:7: SettingWithCopyWarning: \n",
      "A value is trying to be set on a copy of a slice from a DataFrame.\n",
      "Try using .loc[row_indexer,col_indexer] = value instead\n",
      "\n",
      "See the caveats in the documentation: https://pandas.pydata.org/pandas-docs/stable/user_guide/indexing.html#returning-a-view-versus-a-copy\n",
      "  PrixEleve_CA1['trimestre']=PrixEleve_CA1['post_modified'].dt.quarter\n"
     ]
    },
    {
     "data": {
      "text/html": [
       "<div>\n",
       "<style scoped>\n",
       "    .dataframe tbody tr th:only-of-type {\n",
       "        vertical-align: middle;\n",
       "    }\n",
       "\n",
       "    .dataframe tbody tr th {\n",
       "        vertical-align: top;\n",
       "    }\n",
       "\n",
       "    .dataframe thead th {\n",
       "        text-align: right;\n",
       "    }\n",
       "</style>\n",
       "<table border=\"1\" class=\"dataframe\">\n",
       "  <thead>\n",
       "    <tr style=\"text-align: right;\">\n",
       "      <th></th>\n",
       "      <th>trimestre</th>\n",
       "      <th>Année</th>\n",
       "      <th>stock_quantity</th>\n",
       "      <th>total_sales</th>\n",
       "      <th>Chiffre d'affaire</th>\n",
       "    </tr>\n",
       "  </thead>\n",
       "  <tbody>\n",
       "    <tr>\n",
       "      <th>0</th>\n",
       "      <td>1</td>\n",
       "      <td>2019</td>\n",
       "      <td>12</td>\n",
       "      <td>0.0</td>\n",
       "      <td>0.0</td>\n",
       "    </tr>\n",
       "    <tr>\n",
       "      <th>1</th>\n",
       "      <td>1</td>\n",
       "      <td>2020</td>\n",
       "      <td>37</td>\n",
       "      <td>5.0</td>\n",
       "      <td>1125.0</td>\n",
       "    </tr>\n",
       "    <tr>\n",
       "      <th>2</th>\n",
       "      <td>2</td>\n",
       "      <td>2020</td>\n",
       "      <td>110</td>\n",
       "      <td>10.0</td>\n",
       "      <td>1488.9</td>\n",
       "    </tr>\n",
       "    <tr>\n",
       "      <th>3</th>\n",
       "      <td>3</td>\n",
       "      <td>2020</td>\n",
       "      <td>66</td>\n",
       "      <td>29.0</td>\n",
       "      <td>4270.5</td>\n",
       "    </tr>\n",
       "    <tr>\n",
       "      <th>4</th>\n",
       "      <td>4</td>\n",
       "      <td>2019</td>\n",
       "      <td>7</td>\n",
       "      <td>1.0</td>\n",
       "      <td>85.6</td>\n",
       "    </tr>\n",
       "  </tbody>\n",
       "</table>\n",
       "</div>"
      ],
      "text/plain": [
       "   trimestre  Année  stock_quantity  total_sales  Chiffre d'affaire\n",
       "0          1   2019              12          0.0                0.0\n",
       "1          1   2020              37          5.0             1125.0\n",
       "2          2   2020             110         10.0             1488.9\n",
       "3          3   2020              66         29.0             4270.5\n",
       "4          4   2019               7          1.0               85.6"
      ]
     },
     "execution_count": 79,
     "metadata": {},
     "output_type": "execute_result"
    }
   ],
   "source": [
    "PrixEleve_CA1=PrixEleve\n",
    "\n",
    "#Création de la colonne \"Année\" dans le dataframe \"PrixEleve_CA1\"\n",
    "PrixEleve_CA1['Année']=PrixEleve_CA1['post_modified'].dt.year\n",
    "\n",
    "#Création de la colonne \"trimestre\" dans le dataframe \"PrixEleve_CA1\"\n",
    "PrixEleve_CA1['trimestre']=PrixEleve_CA1['post_modified'].dt.quarter\n",
    "\n",
    "# Aggrégation par Année et par trimestre et calcul du stock, du total des ventes et du chiffre d'affaire par année et par trimestre\n",
    "PrixEleve_CA1=PrixEleve_CA1.groupby(['trimestre','Année'])[['stock_quantity','total_sales',\"Chiffre d'affaire\"]] .sum()\n",
    "PrixEleve_CA1 = PrixEleve_CA1.reset_index()\n",
    "PrixEleve_CA1.head(10)"
   ]
  },
  {
   "cell_type": "code",
   "execution_count": 80,
   "id": "26600356",
   "metadata": {},
   "outputs": [
    {
     "name": "stderr",
     "output_type": "stream",
     "text": [
      "No artists with labels found to put in legend.  Note that artists whose label start with an underscore are ignored when legend() is called with no argument.\n"
     ]
    },
    {
     "data": {
      "image/png": "[encoded data removed]",
      "text/plain": [
       "<Figure size 640x480 with 1 Axes>"
      ]
     },
     "metadata": {},
     "output_type": "display_data"
    }
   ],
   "source": [
    "#Chiffre d'affaire par trimestre des bouteilles les plus chères pour l'année 2019\n",
    "PrixEleve_CA2019=PrixEleve_CA1.loc[PrixEleve_CA1['Année']==2019]\n",
    "plt.bar(height=PrixEleve_CA2019[\"Chiffre d'affaire\"], x=PrixEleve_CA2019['trimestre'])\n",
    "plt.legend(loc='upper right')\n",
    "plt.ylabel(\"Chiffre d'affaire (€)\", fontsize=11)\n",
    "plt.yticks(fontsize=11)\n",
    "plt.title(\"Chiffre d'affaire par trimestre des bouteilles les plus chères de l'année 2019\", fontsize=13)\n",
    "plt.grid(color='gray', linestyle='-', linewidth=0.4)"
   ]
  },
  {
   "cell_type": "code",
   "execution_count": 81,
   "id": "da19935b",
   "metadata": {},
   "outputs": [
    {
     "name": "stderr",
     "output_type": "stream",
     "text": [
      "No artists with labels found to put in legend.  Note that artists whose label start with an underscore are ignored when legend() is called with no argument.\n"
     ]
    },
    {
     "data": {
      "image/png": "[encoded data removed]",
      "text/plain": [
       "<Figure size 640x480 with 1 Axes>"
      ]
     },
     "metadata": {},
     "output_type": "display_data"
    }
   ],
   "source": [
    "#Chiffre d'affaire par trimestre des bouteilles les plus chères pour l'année 2020\n",
    "PrixEleve_CA2020=PrixEleve_CA1.loc[PrixEleve_CA1['Année']==2020]\n",
    "plt.bar(height=PrixEleve_CA2020[\"Chiffre d'affaire\"], x=PrixEleve_CA2020['trimestre'])\n",
    "plt.legend(loc='upper right')\n",
    "plt.ylabel(\"Chiffre d'affaire (€)\", fontsize=11)\n",
    "plt.yticks(fontsize=11)\n",
    "plt.title(\"Chiffre d'affaire par trimestre des bouteilles les plus chères de l'année 2020\", fontsize=13)\n",
    "plt.grid(color='gray', linestyle='-', linewidth=0.4)"
   ]
  },
  {
   "cell_type": "markdown",
   "id": "3d28c30c",
   "metadata": {},
   "source": [
    "## 3.4.2.6. Nombre de vente annuelle pour les bouteilles les plus chères"
   ]
  },
  {
   "cell_type": "code",
   "execution_count": 82,
   "id": "a83e46ff",
   "metadata": {},
   "outputs": [
    {
     "name": "stdout",
     "output_type": "stream",
     "text": [
      "Pour l'année 2019, l'entreprise a réalisée  1 ventes de bouteilles\n",
      "Pour l'année 2020, l'entreprise a réalisée  44 ventes de bouteilles\n"
     ]
    }
   ],
   "source": [
    "\n",
    "#Calcul du nombre de vente de bouteilles les plus chères en 2019\n",
    "Vente2019PrixEleve=PrixEleve_CA2019.loc[PrixEleve_CA2019['total_sales']>0]\n",
    "NbreVente2019PrixEleve=Vente2019PrixEleve['total_sales'].sum()\n",
    "print(\"Pour l'année 2019, l'entreprise a réalisée \",round(NbreVente2019PrixEleve),\"ventes de bouteilles\")\n",
    "\n",
    "#Calcul du nombre de vente de bouteilles les plus chères en 2020\n",
    "Vente2020PrixEleve=PrixEleve_CA2020.loc[PrixEleve_CA2020['total_sales']>0]\n",
    "NbreVente2020PrixEleve=Vente2020PrixEleve['total_sales'].sum()\n",
    "print(\"Pour l'année 2020, l'entreprise a réalisée \",round(NbreVente2020PrixEleve),\"ventes de bouteilles\")"
   ]
  },
  {
   "cell_type": "markdown",
   "id": "098280df",
   "metadata": {},
   "source": [
    "## Conclusion"
   ]
  },
  {
   "cell_type": "code",
   "execution_count": null,
   "id": "3fd8779d",
   "metadata": {},
   "outputs": [],
   "source": []
  }
 ],
 "metadata": {
  "kernelspec": {
   "display_name": "Python 3 (ipykernel)",
   "language": "python",
   "name": "python3"
  },
  "language_info": {
   "codemirror_mode": {
    "name": "ipython",
    "version": 3
   },
   "file_extension": ".py",
   "mimetype": "text/x-python",
   "name": "python",
   "nbconvert_exporter": "python",
   "pygments_lexer": "ipython3",
   "version": "3.9.13"
  }
 },
 "nbformat": 4,
 "nbformat_minor": 5
}
